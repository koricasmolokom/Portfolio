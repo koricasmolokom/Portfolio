{
 "cells": [
  {
   "cell_type": "markdown",
   "metadata": {},
   "source": [
    "# Проект Яндекс.Недвижимость\n",
    "\n",
    "В нашем распоряжении данные сервиса Яндекс.Недвижимость — архив объявлений о продаже квартир в Санкт-Петербурге и соседних населённых пунктов за несколько лет. \n",
    "\n",
    "* Необходимо изучить рынок недвижимости и понять, какие факторы влияют на стоимость жилья\n",
    "\n",
    "По каждой квартире на продажу доступны два вида данных. Первые вписаны пользователем, вторые — получены автоматически на основе картографических данных. Например, расстояние до центра, аэропорта, ближайшего парка и водоёма. "
   ]
  },
  {
   "cell_type": "markdown",
   "metadata": {},
   "source": [
    "**План работы:**\n",
    "\n",
    "* Импортировать все нужные библиотеки, и посмотреть на датасет\n",
    "\n",
    "* Очистить датасет от пропусков\n",
    "\n",
    "* Убрать аномалии\n",
    "\n",
    "* Проанализировать параметры \n",
    "\n",
    "* Добавить несколько новых признаков\n",
    "\n",
    "* Выявить взаимосвязь между параметрами\n",
    "\n",
    "* Сделать выводы по результатам анализа"
   ]
  },
  {
   "cell_type": "markdown",
   "metadata": {},
   "source": [
    "## Анализ данных"
   ]
  },
  {
   "cell_type": "markdown",
   "metadata": {},
   "source": [
    "*Импорт необходимых библиотек*"
   ]
  },
  {
   "cell_type": "code",
   "execution_count": 1,
   "metadata": {},
   "outputs": [],
   "source": [
    "import pandas as pd\n",
    "import seaborn as sns\n",
    "import numpy as np\n",
    "import matplotlib.pyplot as plt\n",
    "import phik"
   ]
  },
  {
   "cell_type": "markdown",
   "metadata": {},
   "source": [
    "*В data читаем наш файл разделением табуляцией*"
   ]
  },
  {
   "cell_type": "code",
   "execution_count": 2,
   "metadata": {},
   "outputs": [],
   "source": [
    "data = pd.read_csv('real_estate_data (1).csv', sep='\\t')"
   ]
  },
  {
   "cell_type": "markdown",
   "metadata": {},
   "source": [
    "*Узнаем размерность таблицы*"
   ]
  },
  {
   "cell_type": "code",
   "execution_count": 3,
   "metadata": {},
   "outputs": [
    {
     "data": {
      "text/plain": [
       "(23699, 22)"
      ]
     },
     "execution_count": 3,
     "metadata": {},
     "output_type": "execute_result"
    }
   ],
   "source": [
    "data.shape"
   ]
  },
  {
   "cell_type": "markdown",
   "metadata": {},
   "source": [
    "*Смотрим на колонки и типы данных в них*"
   ]
  },
  {
   "cell_type": "code",
   "execution_count": 4,
   "metadata": {},
   "outputs": [
    {
     "name": "stdout",
     "output_type": "stream",
     "text": [
      "<class 'pandas.core.frame.DataFrame'>\n",
      "RangeIndex: 23699 entries, 0 to 23698\n",
      "Data columns (total 22 columns):\n",
      " #   Column                Non-Null Count  Dtype  \n",
      "---  ------                --------------  -----  \n",
      " 0   total_images          23699 non-null  int64  \n",
      " 1   last_price            23699 non-null  float64\n",
      " 2   total_area            23699 non-null  float64\n",
      " 3   first_day_exposition  23699 non-null  object \n",
      " 4   rooms                 23699 non-null  int64  \n",
      " 5   ceiling_height        14504 non-null  float64\n",
      " 6   floors_total          23613 non-null  float64\n",
      " 7   living_area           21796 non-null  float64\n",
      " 8   floor                 23699 non-null  int64  \n",
      " 9   is_apartment          2775 non-null   object \n",
      " 10  studio                23699 non-null  bool   \n",
      " 11  open_plan             23699 non-null  bool   \n",
      " 12  kitchen_area          21421 non-null  float64\n",
      " 13  balcony               12180 non-null  float64\n",
      " 14  locality_name         23650 non-null  object \n",
      " 15  airports_nearest      18157 non-null  float64\n",
      " 16  cityCenters_nearest   18180 non-null  float64\n",
      " 17  parks_around3000      18181 non-null  float64\n",
      " 18  parks_nearest         8079 non-null   float64\n",
      " 19  ponds_around3000      18181 non-null  float64\n",
      " 20  ponds_nearest         9110 non-null   float64\n",
      " 21  days_exposition       20518 non-null  float64\n",
      "dtypes: bool(2), float64(14), int64(3), object(3)\n",
      "memory usage: 3.7+ MB\n"
     ]
    }
   ],
   "source": [
    "data.info()"
   ]
  },
  {
   "cell_type": "markdown",
   "metadata": {},
   "source": [
    "*Смотрим как выглядит наша таблица*"
   ]
  },
  {
   "cell_type": "code",
   "execution_count": 5,
   "metadata": {},
   "outputs": [
    {
     "data": {
      "text/html": [
       "<div>\n",
       "<style scoped>\n",
       "    .dataframe tbody tr th:only-of-type {\n",
       "        vertical-align: middle;\n",
       "    }\n",
       "\n",
       "    .dataframe tbody tr th {\n",
       "        vertical-align: top;\n",
       "    }\n",
       "\n",
       "    .dataframe thead th {\n",
       "        text-align: right;\n",
       "    }\n",
       "</style>\n",
       "<table border=\"1\" class=\"dataframe\">\n",
       "  <thead>\n",
       "    <tr style=\"text-align: right;\">\n",
       "      <th></th>\n",
       "      <th>total_images</th>\n",
       "      <th>last_price</th>\n",
       "      <th>total_area</th>\n",
       "      <th>first_day_exposition</th>\n",
       "      <th>rooms</th>\n",
       "      <th>ceiling_height</th>\n",
       "      <th>floors_total</th>\n",
       "      <th>living_area</th>\n",
       "      <th>floor</th>\n",
       "      <th>is_apartment</th>\n",
       "      <th>...</th>\n",
       "      <th>kitchen_area</th>\n",
       "      <th>balcony</th>\n",
       "      <th>locality_name</th>\n",
       "      <th>airports_nearest</th>\n",
       "      <th>cityCenters_nearest</th>\n",
       "      <th>parks_around3000</th>\n",
       "      <th>parks_nearest</th>\n",
       "      <th>ponds_around3000</th>\n",
       "      <th>ponds_nearest</th>\n",
       "      <th>days_exposition</th>\n",
       "    </tr>\n",
       "  </thead>\n",
       "  <tbody>\n",
       "    <tr>\n",
       "      <th>0</th>\n",
       "      <td>20</td>\n",
       "      <td>13000000.0</td>\n",
       "      <td>108.0</td>\n",
       "      <td>2019-03-07T00:00:00</td>\n",
       "      <td>3</td>\n",
       "      <td>2.70</td>\n",
       "      <td>16.0</td>\n",
       "      <td>51.0</td>\n",
       "      <td>8</td>\n",
       "      <td>NaN</td>\n",
       "      <td>...</td>\n",
       "      <td>25.0</td>\n",
       "      <td>NaN</td>\n",
       "      <td>Санкт-Петербург</td>\n",
       "      <td>18863.0</td>\n",
       "      <td>16028.0</td>\n",
       "      <td>1.0</td>\n",
       "      <td>482.0</td>\n",
       "      <td>2.0</td>\n",
       "      <td>755.0</td>\n",
       "      <td>NaN</td>\n",
       "    </tr>\n",
       "    <tr>\n",
       "      <th>1</th>\n",
       "      <td>7</td>\n",
       "      <td>3350000.0</td>\n",
       "      <td>40.4</td>\n",
       "      <td>2018-12-04T00:00:00</td>\n",
       "      <td>1</td>\n",
       "      <td>NaN</td>\n",
       "      <td>11.0</td>\n",
       "      <td>18.6</td>\n",
       "      <td>1</td>\n",
       "      <td>NaN</td>\n",
       "      <td>...</td>\n",
       "      <td>11.0</td>\n",
       "      <td>2.0</td>\n",
       "      <td>посёлок Шушары</td>\n",
       "      <td>12817.0</td>\n",
       "      <td>18603.0</td>\n",
       "      <td>0.0</td>\n",
       "      <td>NaN</td>\n",
       "      <td>0.0</td>\n",
       "      <td>NaN</td>\n",
       "      <td>81.0</td>\n",
       "    </tr>\n",
       "    <tr>\n",
       "      <th>2</th>\n",
       "      <td>10</td>\n",
       "      <td>5196000.0</td>\n",
       "      <td>56.0</td>\n",
       "      <td>2015-08-20T00:00:00</td>\n",
       "      <td>2</td>\n",
       "      <td>NaN</td>\n",
       "      <td>5.0</td>\n",
       "      <td>34.3</td>\n",
       "      <td>4</td>\n",
       "      <td>NaN</td>\n",
       "      <td>...</td>\n",
       "      <td>8.3</td>\n",
       "      <td>0.0</td>\n",
       "      <td>Санкт-Петербург</td>\n",
       "      <td>21741.0</td>\n",
       "      <td>13933.0</td>\n",
       "      <td>1.0</td>\n",
       "      <td>90.0</td>\n",
       "      <td>2.0</td>\n",
       "      <td>574.0</td>\n",
       "      <td>558.0</td>\n",
       "    </tr>\n",
       "    <tr>\n",
       "      <th>3</th>\n",
       "      <td>0</td>\n",
       "      <td>64900000.0</td>\n",
       "      <td>159.0</td>\n",
       "      <td>2015-07-24T00:00:00</td>\n",
       "      <td>3</td>\n",
       "      <td>NaN</td>\n",
       "      <td>14.0</td>\n",
       "      <td>NaN</td>\n",
       "      <td>9</td>\n",
       "      <td>NaN</td>\n",
       "      <td>...</td>\n",
       "      <td>NaN</td>\n",
       "      <td>0.0</td>\n",
       "      <td>Санкт-Петербург</td>\n",
       "      <td>28098.0</td>\n",
       "      <td>6800.0</td>\n",
       "      <td>2.0</td>\n",
       "      <td>84.0</td>\n",
       "      <td>3.0</td>\n",
       "      <td>234.0</td>\n",
       "      <td>424.0</td>\n",
       "    </tr>\n",
       "    <tr>\n",
       "      <th>4</th>\n",
       "      <td>2</td>\n",
       "      <td>10000000.0</td>\n",
       "      <td>100.0</td>\n",
       "      <td>2018-06-19T00:00:00</td>\n",
       "      <td>2</td>\n",
       "      <td>3.03</td>\n",
       "      <td>14.0</td>\n",
       "      <td>32.0</td>\n",
       "      <td>13</td>\n",
       "      <td>NaN</td>\n",
       "      <td>...</td>\n",
       "      <td>41.0</td>\n",
       "      <td>NaN</td>\n",
       "      <td>Санкт-Петербург</td>\n",
       "      <td>31856.0</td>\n",
       "      <td>8098.0</td>\n",
       "      <td>2.0</td>\n",
       "      <td>112.0</td>\n",
       "      <td>1.0</td>\n",
       "      <td>48.0</td>\n",
       "      <td>121.0</td>\n",
       "    </tr>\n",
       "    <tr>\n",
       "      <th>5</th>\n",
       "      <td>10</td>\n",
       "      <td>2890000.0</td>\n",
       "      <td>30.4</td>\n",
       "      <td>2018-09-10T00:00:00</td>\n",
       "      <td>1</td>\n",
       "      <td>NaN</td>\n",
       "      <td>12.0</td>\n",
       "      <td>14.4</td>\n",
       "      <td>5</td>\n",
       "      <td>NaN</td>\n",
       "      <td>...</td>\n",
       "      <td>9.1</td>\n",
       "      <td>NaN</td>\n",
       "      <td>городской посёлок Янино-1</td>\n",
       "      <td>NaN</td>\n",
       "      <td>NaN</td>\n",
       "      <td>NaN</td>\n",
       "      <td>NaN</td>\n",
       "      <td>NaN</td>\n",
       "      <td>NaN</td>\n",
       "      <td>55.0</td>\n",
       "    </tr>\n",
       "  </tbody>\n",
       "</table>\n",
       "<p>6 rows × 22 columns</p>\n",
       "</div>"
      ],
      "text/plain": [
       "   total_images  last_price  total_area first_day_exposition  rooms  \\\n",
       "0            20  13000000.0       108.0  2019-03-07T00:00:00      3   \n",
       "1             7   3350000.0        40.4  2018-12-04T00:00:00      1   \n",
       "2            10   5196000.0        56.0  2015-08-20T00:00:00      2   \n",
       "3             0  64900000.0       159.0  2015-07-24T00:00:00      3   \n",
       "4             2  10000000.0       100.0  2018-06-19T00:00:00      2   \n",
       "5            10   2890000.0        30.4  2018-09-10T00:00:00      1   \n",
       "\n",
       "   ceiling_height  floors_total  living_area  floor is_apartment  ...  \\\n",
       "0            2.70          16.0         51.0      8          NaN  ...   \n",
       "1             NaN          11.0         18.6      1          NaN  ...   \n",
       "2             NaN           5.0         34.3      4          NaN  ...   \n",
       "3             NaN          14.0          NaN      9          NaN  ...   \n",
       "4            3.03          14.0         32.0     13          NaN  ...   \n",
       "5             NaN          12.0         14.4      5          NaN  ...   \n",
       "\n",
       "   kitchen_area  balcony              locality_name  airports_nearest  \\\n",
       "0          25.0      NaN            Санкт-Петербург           18863.0   \n",
       "1          11.0      2.0             посёлок Шушары           12817.0   \n",
       "2           8.3      0.0            Санкт-Петербург           21741.0   \n",
       "3           NaN      0.0            Санкт-Петербург           28098.0   \n",
       "4          41.0      NaN            Санкт-Петербург           31856.0   \n",
       "5           9.1      NaN  городской посёлок Янино-1               NaN   \n",
       "\n",
       "  cityCenters_nearest  parks_around3000  parks_nearest  ponds_around3000  \\\n",
       "0             16028.0               1.0          482.0               2.0   \n",
       "1             18603.0               0.0            NaN               0.0   \n",
       "2             13933.0               1.0           90.0               2.0   \n",
       "3              6800.0               2.0           84.0               3.0   \n",
       "4              8098.0               2.0          112.0               1.0   \n",
       "5                 NaN               NaN            NaN               NaN   \n",
       "\n",
       "   ponds_nearest  days_exposition  \n",
       "0          755.0              NaN  \n",
       "1            NaN             81.0  \n",
       "2          574.0            558.0  \n",
       "3          234.0            424.0  \n",
       "4           48.0            121.0  \n",
       "5            NaN             55.0  \n",
       "\n",
       "[6 rows x 22 columns]"
      ]
     },
     "metadata": {},
     "output_type": "display_data"
    }
   ],
   "source": [
    "display(data.head(6))"
   ]
  },
  {
   "cell_type": "markdown",
   "metadata": {},
   "source": [
    "### Предобработка данных"
   ]
  },
  {
   "cell_type": "markdown",
   "metadata": {},
   "source": [
    "**Считаем количество пропусков в таблице**"
   ]
  },
  {
   "cell_type": "code",
   "execution_count": 6,
   "metadata": {
    "scrolled": false
   },
   "outputs": [
    {
     "data": {
      "text/plain": [
       "total_images                0\n",
       "last_price                  0\n",
       "total_area                  0\n",
       "first_day_exposition        0\n",
       "rooms                       0\n",
       "ceiling_height           9195\n",
       "floors_total               86\n",
       "living_area              1903\n",
       "floor                       0\n",
       "is_apartment            20924\n",
       "studio                      0\n",
       "open_plan                   0\n",
       "kitchen_area             2278\n",
       "balcony                 11519\n",
       "locality_name              49\n",
       "airports_nearest         5542\n",
       "cityCenters_nearest      5519\n",
       "parks_around3000         5518\n",
       "parks_nearest           15620\n",
       "ponds_around3000         5518\n",
       "ponds_nearest           14589\n",
       "days_exposition          3181\n",
       "dtype: int64"
      ]
     },
     "execution_count": 6,
     "metadata": {},
     "output_type": "execute_result"
    }
   ],
   "source": [
    "data.isna().sum()"
   ]
  },
  {
   "cell_type": "markdown",
   "metadata": {},
   "source": [
    "Визуализируем для наглядности"
   ]
  },
  {
   "cell_type": "code",
   "execution_count": 7,
   "metadata": {},
   "outputs": [],
   "source": [
    "def pass_value_barh(df):\n",
    "        (\n",
    "            (df.isna().mean()*100)\n",
    "            .to_frame()\n",
    "            .rename(columns = {0:'space'})\n",
    "            .query('space > 0')\n",
    "            .sort_values(by = 'space', ascending = True)\n",
    "            .plot(kind= 'barh', figsize=(19,6), rot = -5, legend = False, fontsize = 16, color='pink', ec=\"black\", lw= 1)\n",
    "            .set_title('Пропуски в данных' + \"\\n\", fontsize = 22, color = 'black')    \n",
    "        );"
   ]
  },
  {
   "cell_type": "code",
   "execution_count": 8,
   "metadata": {},
   "outputs": [
    {
     "data": {
      "image/png": "[encoded data removed]",
      "text/plain": [
       "<Figure size 1900x600 with 1 Axes>"
      ]
     },
     "metadata": {},
     "output_type": "display_data"
    }
   ],
   "source": [
    "pass_value_barh(data)"
   ]
  },
  {
   "cell_type": "markdown",
   "metadata": {},
   "source": [
    "*Наибольшее количество пропусков в is_apartment,parks_nearest и ponds_nearest.*"
   ]
  },
  {
   "cell_type": "markdown",
   "metadata": {},
   "source": [
    "#### **is_apartment**\n",
    "\n",
    "*Смотрим столбец 'is_apartment' так как в нем наибольшее количество пропусков*"
   ]
  },
  {
   "cell_type": "code",
   "execution_count": 9,
   "metadata": {},
   "outputs": [
    {
     "name": "stdout",
     "output_type": "stream",
     "text": [
      "False    2725\n",
      "True       50\n",
      "Name: is_apartment, dtype: int64\n"
     ]
    }
   ],
   "source": [
    "print(data['is_apartment'].value_counts())"
   ]
  },
  {
   "cell_type": "markdown",
   "metadata": {},
   "source": [
    "*Есть предположение, что пропуски можно заполнить значением False, так как понятно, что в нем может быть только два варианта. И если не стоит True, значит скорее всего это False*"
   ]
  },
  {
   "cell_type": "code",
   "execution_count": 10,
   "metadata": {
    "scrolled": false
   },
   "outputs": [
    {
     "name": "stdout",
     "output_type": "stream",
     "text": [
      "False    23649\n",
      "True        50\n",
      "Name: is_apartment, dtype: int64\n"
     ]
    }
   ],
   "source": [
    "data['is_apartment'] = data['is_apartment'].fillna(False)\n",
    "print(data['is_apartment'].value_counts())"
   ]
  },
  {
   "cell_type": "markdown",
   "metadata": {},
   "source": [
    "*Предварительно пропуски заполнились и теперь этот столбец имеет тип данных bool  как и должно быть*\n",
    "\n",
    "*Посчитаем пропуски теперь*"
   ]
  },
  {
   "cell_type": "code",
   "execution_count": 11,
   "metadata": {},
   "outputs": [
    {
     "data": {
      "text/plain": [
       "0"
      ]
     },
     "execution_count": 11,
     "metadata": {},
     "output_type": "execute_result"
    }
   ],
   "source": [
    "data['is_apartment'].isna().sum()"
   ]
  },
  {
   "cell_type": "markdown",
   "metadata": {},
   "source": [
    "*Всего 50 апартаментов из всего датасета, не сильно популярный тип недвижимости*"
   ]
  },
  {
   "cell_type": "markdown",
   "metadata": {},
   "source": [
    "#### **balcony**\n",
    "\n",
    "*Посмотрим на столбец 'balcony'*"
   ]
  },
  {
   "cell_type": "code",
   "execution_count": 12,
   "metadata": {},
   "outputs": [
    {
     "data": {
      "text/plain": [
       "0    NaN\n",
       "1    2.0\n",
       "2    0.0\n",
       "3    0.0\n",
       "4    NaN\n",
       "Name: balcony, dtype: float64"
      ]
     },
     "execution_count": 12,
     "metadata": {},
     "output_type": "execute_result"
    }
   ],
   "source": [
    "data['balcony'].head()"
   ]
  },
  {
   "cell_type": "markdown",
   "metadata": {},
   "source": [
    "*Можно предположить примерно то же, что и для 'is_apartment' - если бы балкон был, о нем была внесена информация, пропуски могут означать, что балкона нет, просто данные не были внесены или поставлен прочерк. Тогда заполняем пропуски нулями*"
   ]
  },
  {
   "cell_type": "code",
   "execution_count": 13,
   "metadata": {},
   "outputs": [
    {
     "name": "stdout",
     "output_type": "stream",
     "text": [
      "0    0.0\n",
      "1    2.0\n",
      "2    0.0\n",
      "3    0.0\n",
      "4    0.0\n",
      "Name: balcony, dtype: float64\n"
     ]
    }
   ],
   "source": [
    "data['balcony'].fillna(0, inplace=True)\n",
    "print(data['balcony'].head())"
   ]
  },
  {
   "cell_type": "markdown",
   "metadata": {},
   "source": [
    "*Теперь можно поменять тип данных, потому что тут явно целочисленные значения должны быть, балконов ведь не может быть 1,5 штуки*"
   ]
  },
  {
   "cell_type": "code",
   "execution_count": 14,
   "metadata": {},
   "outputs": [
    {
     "name": "stdout",
     "output_type": "stream",
     "text": [
      "0    0\n",
      "1    2\n",
      "2    0\n",
      "3    0\n",
      "4    0\n",
      "Name: balcony, dtype: int32\n"
     ]
    }
   ],
   "source": [
    "data['balcony'] = data['balcony'].astype('int')\n",
    "print(data['balcony'].head())"
   ]
  },
  {
   "cell_type": "code",
   "execution_count": 15,
   "metadata": {},
   "outputs": [
    {
     "data": {
      "text/plain": [
       "0    15277\n",
       "1     4195\n",
       "2     3659\n",
       "5      304\n",
       "4      183\n",
       "3       81\n",
       "Name: balcony, dtype: int64"
      ]
     },
     "execution_count": 15,
     "metadata": {},
     "output_type": "execute_result"
    }
   ],
   "source": [
    "data['balcony'].value_counts()"
   ]
  },
  {
   "cell_type": "markdown",
   "metadata": {},
   "source": [
    "*В основном балконов нет, 1 и 2 балкона в квартире встречаются примерно равное количество раз, больше - реже*"
   ]
  },
  {
   "cell_type": "markdown",
   "metadata": {},
   "source": [
    "#### **total_images**"
   ]
  },
  {
   "cell_type": "code",
   "execution_count": 16,
   "metadata": {},
   "outputs": [
    {
     "data": {
      "text/plain": [
       "count    23699.000000\n",
       "mean         9.858475\n",
       "std          5.682529\n",
       "min          0.000000\n",
       "25%          6.000000\n",
       "50%          9.000000\n",
       "75%         14.000000\n",
       "max         50.000000\n",
       "Name: total_images, dtype: float64"
      ]
     },
     "execution_count": 16,
     "metadata": {},
     "output_type": "execute_result"
    }
   ],
   "source": [
    "data['total_images'].describe()"
   ]
  },
  {
   "cell_type": "code",
   "execution_count": 17,
   "metadata": {},
   "outputs": [
    {
     "data": {
      "image/png": "[encoded data removed]",
      "text/plain": [
       "<Figure size 640x480 with 1 Axes>"
      ]
     },
     "metadata": {},
     "output_type": "display_data"
    }
   ],
   "source": [
    "plt.hist(data['total_images'], color = 'pink', bins=40, ec=\"black\", lw= 1, range=(0, 40));\n",
    "plt.title('Фотографии')\n",
    "plt.xlabel('Количество фотографий')\n",
    "plt.ylabel('Объекты');"
   ]
  },
  {
   "cell_type": "markdown",
   "metadata": {},
   "source": [
    "#### **ceiling_height**\n",
    "\n",
    "*Столбец 'ceiling_height' возможно связан с этажностью здания, чем выше, тем невыше потолки, хотя никакой явной корреляции нет. Однако можно разбить этажность на группы и по медианам групп заполнить пропуски*"
   ]
  },
  {
   "cell_type": "markdown",
   "metadata": {},
   "source": [
    "*Посмотрим на характеристики столбца*"
   ]
  },
  {
   "cell_type": "code",
   "execution_count": 18,
   "metadata": {},
   "outputs": [
    {
     "data": {
      "text/plain": [
       "count    14504.000000\n",
       "mean         2.771499\n",
       "std          1.261056\n",
       "min          1.000000\n",
       "25%          2.520000\n",
       "50%          2.650000\n",
       "75%          2.800000\n",
       "max        100.000000\n",
       "Name: ceiling_height, dtype: float64"
      ]
     },
     "execution_count": 18,
     "metadata": {},
     "output_type": "execute_result"
    }
   ],
   "source": [
    "data['ceiling_height'].describe()"
   ]
  },
  {
   "cell_type": "markdown",
   "metadata": {},
   "source": [
    "*Странное максимальное значение, возможно стоит избавиться от аномальных значений по высоте потолков, все что больше 26 разделить на 10, может быть это ошибка в запятой*"
   ]
  },
  {
   "cell_type": "code",
   "execution_count": 19,
   "metadata": {},
   "outputs": [
    {
     "data": {
      "text/plain": [
       "count    14504.000000\n",
       "mean         2.733740\n",
       "std          0.425691\n",
       "min          1.000000\n",
       "25%          2.510000\n",
       "50%          2.650000\n",
       "75%          2.800000\n",
       "max         24.000000\n",
       "Name: ceiling_height, dtype: float64"
      ]
     },
     "execution_count": 19,
     "metadata": {},
     "output_type": "execute_result"
    }
   ],
   "source": [
    "data.loc[data['ceiling_height'] >= 25, 'ceiling_height'] = data['ceiling_height'] / 10\n",
    "data['ceiling_height'].describe()"
   ]
  },
  {
   "cell_type": "markdown",
   "metadata": {},
   "source": [
    "*25 потому что если разделить на 10, получается 2.5, что нормально. Но если например взять только больше 20, то высота потолка получается 2 метра, а это очень мало*"
   ]
  },
  {
   "cell_type": "code",
   "execution_count": 20,
   "metadata": {},
   "outputs": [
    {
     "data": {
      "text/plain": [
       "count    14504.000000\n",
       "mean         2.726922\n",
       "std          0.276466\n",
       "min          2.200000\n",
       "25%          2.520000\n",
       "50%          2.650000\n",
       "75%          2.800000\n",
       "max          5.800000\n",
       "Name: ceiling_height, dtype: float64"
      ]
     },
     "execution_count": 20,
     "metadata": {},
     "output_type": "execute_result"
    }
   ],
   "source": [
    "data.loc[data['ceiling_height'] >= 6, 'ceiling_height'] = data['ceiling_height'].median()\n",
    "data.loc[data['ceiling_height'] <= 2, 'ceiling_height'] = data['ceiling_height'].median()\n",
    "data['ceiling_height'].describe()"
   ]
  },
  {
   "cell_type": "code",
   "execution_count": 21,
   "metadata": {},
   "outputs": [
    {
     "data": {
      "image/png": "[encoded data removed]",
      "text/plain": [
       "<Figure size 640x480 with 1 Axes>"
      ]
     },
     "metadata": {},
     "output_type": "display_data"
    }
   ],
   "source": [
    "x = sns.boxplot(data=data['ceiling_height'], palette=\"Set2\")\n",
    "x.set_title('Диаграмма размаха высоты потолков')\n",
    "x.set_ylabel('Высота');"
   ]
  },
  {
   "cell_type": "code",
   "execution_count": 22,
   "metadata": {},
   "outputs": [
    {
     "data": {
      "image/png": "[encoded data removed]",
      "text/plain": [
       "<Figure size 640x480 with 1 Axes>"
      ]
     },
     "metadata": {},
     "output_type": "display_data"
    }
   ],
   "source": [
    "plt.hist(data['ceiling_height'], color = 'pink', bins=12, ec=\"black\", lw= 1, range=(2,5));\n",
    "plt.title('Высота потолков')\n",
    "plt.xlabel('Высота, м')\n",
    "plt.ylabel('Количество квартир с такими потолками');"
   ]
  },
  {
   "cell_type": "code",
   "execution_count": 23,
   "metadata": {},
   "outputs": [
    {
     "name": "stdout",
     "output_type": "stream",
     "text": [
      "count    23543.000000\n",
      "mean         2.704181\n",
      "std          0.224796\n",
      "min          2.200000\n",
      "25%          2.550000\n",
      "50%          2.700000\n",
      "75%          2.700000\n",
      "max          5.800000\n",
      "Name: ceiling_height, dtype: float64\n"
     ]
    }
   ],
   "source": [
    "for name in data['locality_name'].unique():\n",
    "    data.loc[(data['ceiling_height'].isna() == True) & (data['locality_name'] == name), 'ceiling_height'] = \\\n",
    "    data.loc[(data['ceiling_height'].isna() == False) & (data['locality_name'] == name), 'ceiling_height'].median()\n",
    "print(data['ceiling_height'].describe())    "
   ]
  },
  {
   "cell_type": "markdown",
   "metadata": {},
   "source": [
    "*Общие характеристики выборки не сильно поменялись в результате заполнения пропусков медианным значением по городу, но появилось больше квартир, в которых потолок выше 2,5 и ниже 3 м, что выглядит более правдоподбно*"
   ]
  },
  {
   "cell_type": "code",
   "execution_count": 24,
   "metadata": {},
   "outputs": [
    {
     "data": {
      "image/png": "[encoded data removed]",
      "text/plain": [
       "<Figure size 640x480 with 1 Axes>"
      ]
     },
     "metadata": {},
     "output_type": "display_data"
    }
   ],
   "source": [
    "plt.hist(data['ceiling_height'], color = 'pink', bins=12, ec=\"black\", lw= 1, range=(2, 5));\n",
    "plt.title('Высота потолков после заполнения пропусков')\n",
    "plt.xlabel('Высота, м')\n",
    "plt.ylabel('Количество квартир с такими потолками');"
   ]
  },
  {
   "cell_type": "markdown",
   "metadata": {},
   "source": [
    "*Большинство потолков находятся в диапазоне от 2.5 м до 3м, что похоже на правду это стандартная высота*"
   ]
  },
  {
   "cell_type": "markdown",
   "metadata": {},
   "source": [
    "#### **living_area и total_area** "
   ]
  },
  {
   "cell_type": "code",
   "execution_count": 25,
   "metadata": {},
   "outputs": [
    {
     "data": {
      "text/plain": [
       "0    51.0\n",
       "1    18.6\n",
       "2    34.3\n",
       "3     NaN\n",
       "4    32.0\n",
       "Name: living_area, dtype: float64"
      ]
     },
     "execution_count": 25,
     "metadata": {},
     "output_type": "execute_result"
    }
   ],
   "source": [
    "data['living_area'].head()"
   ]
  },
  {
   "cell_type": "code",
   "execution_count": 26,
   "metadata": {},
   "outputs": [
    {
     "name": "stdout",
     "output_type": "stream",
     "text": [
      "count    21796.000000\n",
      "mean        34.457852\n",
      "std         22.030445\n",
      "min          2.000000\n",
      "25%         18.600000\n",
      "50%         30.000000\n",
      "75%         42.300000\n",
      "max        409.700000\n",
      "Name: living_area, dtype: float64\n"
     ]
    }
   ],
   "source": [
    "print(data['living_area'].describe())"
   ]
  },
  {
   "cell_type": "code",
   "execution_count": 27,
   "metadata": {},
   "outputs": [
    {
     "data": {
      "image/png": "[encoded data removed]",
      "text/plain": [
       "<Figure size 640x480 with 1 Axes>"
      ]
     },
     "metadata": {},
     "output_type": "display_data"
    }
   ],
   "source": [
    "x = sns.boxplot(data=data['total_area'], palette=\"Set2\")\n",
    "x.set_title('Диаграмма размаха общей площади')\n",
    "x.set_ylabel('Площадь');"
   ]
  },
  {
   "cell_type": "code",
   "execution_count": 28,
   "metadata": {},
   "outputs": [
    {
     "data": {
      "image/png": "[encoded data removed]",
      "text/plain": [
       "<Figure size 640x480 with 1 Axes>"
      ]
     },
     "metadata": {},
     "output_type": "display_data"
    }
   ],
   "source": [
    "x = sns.boxplot(data=data['living_area'], palette=\"Set2\")\n",
    "x.set_title('Диаграмма размаха жилой площади')\n",
    "x.set_ylabel('Площадь');"
   ]
  },
  {
   "cell_type": "code",
   "execution_count": 29,
   "metadata": {},
   "outputs": [
    {
     "data": {
      "image/png": "[encoded data removed]",
      "text/plain": [
       "<Figure size 640x480 with 1 Axes>"
      ]
     },
     "metadata": {},
     "output_type": "display_data"
    }
   ],
   "source": [
    "plt.hist(data['total_area'], color = 'pink', bins=35, ec=\"black\", lw= 1, range=(0,300));\n",
    "plt.title('Общая площадь')\n",
    "plt.xlabel('кв.м.')\n",
    "plt.ylabel('Количество квартир с такой площадью');"
   ]
  },
  {
   "cell_type": "code",
   "execution_count": 30,
   "metadata": {},
   "outputs": [
    {
     "data": {
      "image/png": "[encoded data removed]",
      "text/plain": [
       "<Figure size 640x480 with 1 Axes>"
      ]
     },
     "metadata": {},
     "output_type": "display_data"
    }
   ],
   "source": [
    "plt.hist(data['living_area'], color = 'pink', bins=35, ec=\"black\", lw= 1, range=(0,300));\n",
    "plt.title('Жилая площадь')\n",
    "plt.xlabel('кв.м.')\n",
    "plt.ylabel('Количество квартир с такой площадью');"
   ]
  },
  {
   "cell_type": "markdown",
   "metadata": {},
   "source": [
    "*Опять непонятное максимальное значение в 900м^2, возможно опять нужно отсеить аномалии и посмотреть не сильно ли это повлияло на количество данных*"
   ]
  },
  {
   "cell_type": "code",
   "execution_count": 31,
   "metadata": {},
   "outputs": [
    {
     "name": "stdout",
     "output_type": "stream",
     "text": [
      "(23583, 22)\n"
     ]
    }
   ],
   "source": [
    "data = data = data.loc[data['total_area'] < 250]\n",
    "print(data.shape)"
   ]
  },
  {
   "cell_type": "markdown",
   "metadata": {},
   "source": [
    "*Немного данных почистилось, но в пределах разумного, 250 м квартиры конечно бывают, но точно не 900, и даже не 500. Немного даже частных домов имеет такую метражность*"
   ]
  },
  {
   "cell_type": "markdown",
   "metadata": {},
   "source": [
    "*Разбиваем данные на группы по общей площади и на основе этого считаем у них медианное значение жилой площади, затем заполняем ими пропуски*"
   ]
  },
  {
   "cell_type": "code",
   "execution_count": 32,
   "metadata": {},
   "outputs": [],
   "source": [
    "one = data.loc[data['total_area'] <= 40, 'living_area'].median()\n",
    "two = data.loc[(data['total_area'] > 40) & (data['total_area'] <= 52), 'living_area'].median()\n",
    "three = data.loc[(data['total_area'] > 52) & (data['total_area'] <= 70), 'living_area'].median()\n",
    "four = data.loc[data['total_area'] > 70, 'living_area'].median()"
   ]
  },
  {
   "cell_type": "code",
   "execution_count": 33,
   "metadata": {},
   "outputs": [
    {
     "name": "stdout",
     "output_type": "stream",
     "text": [
      "0\n"
     ]
    }
   ],
   "source": [
    "data.loc[(data['living_area'].isna() == True) & (data['total_area'] <= 40), 'living_area'] = one\n",
    "\n",
    "data.loc[(data['living_area'].isna() == True) & (data['total_area'] > 40) & (data['total_area'] <= 52), 'living_area'] = two\n",
    "\n",
    "data.loc[(data['living_area'].isna() == True) & (data['total_area'] > 52) & (data['total_area'] <= 70), 'living_area'] = three\n",
    "\n",
    "data.loc[(data['living_area'].isna() == True) & (data['total_area'] > 70), 'living_area'] = four\n",
    "\n",
    "print(data['living_area'].isna().sum())"
   ]
  },
  {
   "cell_type": "code",
   "execution_count": 34,
   "metadata": {},
   "outputs": [
    {
     "name": "stdout",
     "output_type": "stream",
     "text": [
      "0    51.00\n",
      "1    18.60\n",
      "2    34.30\n",
      "3    51.65\n",
      "4    32.00\n",
      "Name: living_area, dtype: float64\n"
     ]
    }
   ],
   "source": [
    "print(data['living_area'].head())"
   ]
  },
  {
   "cell_type": "markdown",
   "metadata": {},
   "source": [
    "*Здесь  тип float нужен, так что оставим его*"
   ]
  },
  {
   "cell_type": "code",
   "execution_count": 35,
   "metadata": {},
   "outputs": [
    {
     "data": {
      "text/plain": [
       "count    23583.000000\n",
       "mean        58.955657\n",
       "std         28.789785\n",
       "min         12.000000\n",
       "25%         40.000000\n",
       "50%         52.000000\n",
       "75%         69.000000\n",
       "max        249.900000\n",
       "Name: total_area, dtype: float64"
      ]
     },
     "execution_count": 35,
     "metadata": {},
     "output_type": "execute_result"
    }
   ],
   "source": [
    "data['total_area'].describe()"
   ]
  },
  {
   "cell_type": "markdown",
   "metadata": {},
   "source": [
    "*Больше половины квартир имеют общую площадь свыше 52 кв.м., больше 75% - свыше 70 кв.м.*"
   ]
  },
  {
   "cell_type": "markdown",
   "metadata": {},
   "source": [
    "Посмотрим поближе"
   ]
  },
  {
   "cell_type": "code",
   "execution_count": 36,
   "metadata": {},
   "outputs": [
    {
     "data": {
      "image/png": "[encoded data removed]",
      "text/plain": [
       "<Figure size 1500x300 with 1 Axes>"
      ]
     },
     "metadata": {},
     "output_type": "display_data"
    }
   ],
   "source": [
    "plt.figure(figsize=(15,3));\n",
    "plt.hist(data['total_area'], color = 'pink', bins=152, ec=\"black\", lw= 1, range=(10, 200))\n",
    "plt.title('Общая площадь')\n",
    "plt.xlabel('Площадь, м.кв.')\n",
    "plt.ylabel('Объявления');"
   ]
  },
  {
   "cell_type": "code",
   "execution_count": 37,
   "metadata": {},
   "outputs": [
    {
     "data": {
      "text/plain": [
       "count    23583.000000\n",
       "mean        58.955657\n",
       "std         28.789785\n",
       "min         12.000000\n",
       "25%         40.000000\n",
       "50%         52.000000\n",
       "75%         69.000000\n",
       "max        249.900000\n",
       "Name: total_area, dtype: float64"
      ]
     },
     "execution_count": 37,
     "metadata": {},
     "output_type": "execute_result"
    }
   ],
   "source": [
    "data['total_area'].describe()"
   ]
  },
  {
   "cell_type": "code",
   "execution_count": 38,
   "metadata": {},
   "outputs": [
    {
     "data": {
      "image/png": "[encoded data removed]",
      "text/plain": [
       "<Figure size 1500x300 with 1 Axes>"
      ]
     },
     "metadata": {},
     "output_type": "display_data"
    }
   ],
   "source": [
    "plt.figure(figsize=(15,3));\n",
    "plt.hist(data['total_area'], color = 'pink', bins = 30, ec = \"black\", lw = 1, range = (10, 25))\n",
    "plt.title('Общая площадь, в масштабе')\n",
    "plt.xlabel('Площадь, м.кв.')\n",
    "plt.ylabel('Объявления');"
   ]
  },
  {
   "cell_type": "markdown",
   "metadata": {},
   "source": [
    "т.е. все квартиры менее 20-ти квадратных метров можно считать редкостями особенно это заметно на втором графике"
   ]
  },
  {
   "cell_type": "code",
   "execution_count": 39,
   "metadata": {},
   "outputs": [
    {
     "data": {
      "text/plain": [
       "count    23548.000000\n",
       "mean        59.017448\n",
       "std         28.766337\n",
       "min         20.100000\n",
       "25%         40.000000\n",
       "50%         52.000000\n",
       "75%         69.100000\n",
       "max        249.900000\n",
       "Name: total_area, dtype: float64"
      ]
     },
     "execution_count": 39,
     "metadata": {},
     "output_type": "execute_result"
    }
   ],
   "source": [
    "data = data[(data['total_area'] > 20) | (data['rooms'].isna())]\n",
    "data['total_area'].describe()"
   ]
  },
  {
   "cell_type": "markdown",
   "metadata": {},
   "source": [
    "Посмотрю другой хвост выборки"
   ]
  },
  {
   "cell_type": "code",
   "execution_count": 40,
   "metadata": {},
   "outputs": [
    {
     "data": {
      "image/png": "[encoded data removed]",
      "text/plain": [
       "<Figure size 1500x300 with 1 Axes>"
      ]
     },
     "metadata": {},
     "output_type": "display_data"
    }
   ],
   "source": [
    "plt.figure(figsize=(15,3));\n",
    "plt.hist(data['total_area'], color = 'pink', bins = 30, ec = \"black\", lw = 1, range = (125,250))\n",
    "plt.title('Общая площадь, в масштабе')\n",
    "plt.xlabel('Площадь, м.кв.')\n",
    "plt.ylabel('Объявления');"
   ]
  },
  {
   "cell_type": "markdown",
   "metadata": {},
   "source": [
    "Действительно, характеристика столбца не поменялась, кроме минимального значения"
   ]
  },
  {
   "cell_type": "markdown",
   "metadata": {},
   "source": [
    "Стоит посмотреть жилую площадь на предмет выбросов "
   ]
  },
  {
   "cell_type": "code",
   "execution_count": 41,
   "metadata": {},
   "outputs": [
    {
     "data": {
      "image/png": "[encoded data removed]",
      "text/plain": [
       "<Figure size 1500x300 with 1 Axes>"
      ]
     },
     "metadata": {},
     "output_type": "display_data"
    }
   ],
   "source": [
    "plt.figure(figsize=(15,3));\n",
    "plt.hist(data['living_area'], color = 'pink', bins = 50, ec = \"black\", lw = 1)\n",
    "plt.title('Жилая площадь')\n",
    "plt.xlabel('Площадь, м.кв.')\n",
    "plt.ylabel('Объявления');"
   ]
  },
  {
   "cell_type": "code",
   "execution_count": 42,
   "metadata": {},
   "outputs": [
    {
     "data": {
      "text/plain": [
       "count    23393.000000\n",
       "mean        33.126226\n",
       "std         16.471788\n",
       "min          9.100000\n",
       "25%         18.600000\n",
       "50%         30.000000\n",
       "75%         42.000000\n",
       "max        119.900000\n",
       "Name: living_area, dtype: float64"
      ]
     },
     "execution_count": 42,
     "metadata": {},
     "output_type": "execute_result"
    }
   ],
   "source": [
    "data = data[(data['living_area'] > 9) | (data['living_area'].isna())]\n",
    "data = data[(data['living_area'] < 120) | (data['living_area'].isna())]\n",
    "data['living_area'].describe()"
   ]
  },
  {
   "cell_type": "markdown",
   "metadata": {},
   "source": [
    "####  **floors_total**\n",
    "\n",
    "*у 'floor' заметная корреляция только с 'floors_total', но поскольку пропусков очень мало, я думаю можно просто взять этаж в колонке floor как последний и указать его в floors_total*"
   ]
  },
  {
   "cell_type": "code",
   "execution_count": 43,
   "metadata": {},
   "outputs": [
    {
     "data": {
      "text/plain": [
       "count    23308.000000\n",
       "mean        10.721555\n",
       "std          6.605186\n",
       "min          1.000000\n",
       "25%          5.000000\n",
       "50%          9.000000\n",
       "75%         16.000000\n",
       "max         60.000000\n",
       "Name: floors_total, dtype: float64"
      ]
     },
     "execution_count": 43,
     "metadata": {},
     "output_type": "execute_result"
    }
   ],
   "source": [
    "data['floors_total'].describe()"
   ]
  },
  {
   "cell_type": "code",
   "execution_count": 44,
   "metadata": {},
   "outputs": [
    {
     "data": {
      "image/png": "[encoded data removed]",
      "text/plain": [
       "<Figure size 640x480 with 1 Axes>"
      ]
     },
     "metadata": {},
     "output_type": "display_data"
    }
   ],
   "source": [
    "plt.hist(data['floors_total'], color = 'pink', bins=29, ec=\"black\", lw= 1, range=(1,30));\n",
    "plt.title('Этажей в здании')\n",
    "plt.xlabel('Этажи')\n",
    "plt.ylabel('Количество квартир в домах с такой этажностью');"
   ]
  },
  {
   "cell_type": "markdown",
   "metadata": {},
   "source": [
    "*Часто встречаются квартиры на продажу в домах, где всего 6 или 9 этажей, это скорее всего просто самая часто встречающаяся этажность зданий в Питере*"
   ]
  },
  {
   "cell_type": "code",
   "execution_count": 45,
   "metadata": {},
   "outputs": [
    {
     "name": "stdout",
     "output_type": "stream",
     "text": [
      "0\n"
     ]
    }
   ],
   "source": [
    "data['floors_total'].fillna(data['floor'], inplace=True)\n",
    "\n",
    "print(data['floors_total'].isna().sum())"
   ]
  },
  {
   "cell_type": "code",
   "execution_count": 46,
   "metadata": {},
   "outputs": [
    {
     "name": "stdout",
     "output_type": "stream",
     "text": [
      "0    16\n",
      "1    11\n",
      "2     5\n",
      "3    14\n",
      "4    14\n",
      "Name: floors_total, dtype: int32\n"
     ]
    }
   ],
   "source": [
    "data['floors_total'] = data['floors_total'].astype('int')\n",
    "print(data['floors_total'].head())"
   ]
  },
  {
   "cell_type": "code",
   "execution_count": 47,
   "metadata": {},
   "outputs": [
    {
     "data": {
      "text/plain": [
       "count    23361.000000\n",
       "mean        10.684046\n",
       "std          6.536872\n",
       "min          1.000000\n",
       "25%          5.000000\n",
       "50%          9.000000\n",
       "75%         16.000000\n",
       "max         29.000000\n",
       "Name: floors_total, dtype: float64"
      ]
     },
     "execution_count": 47,
     "metadata": {},
     "output_type": "execute_result"
    }
   ],
   "source": [
    "data = data[(data['floors_total'] < 30) | (data['floors_total'].isna())]\n",
    "\n",
    "data['floors_total'].describe()"
   ]
  },
  {
   "cell_type": "markdown",
   "metadata": {},
   "source": [
    "####  **first_day_exposition**"
   ]
  },
  {
   "cell_type": "markdown",
   "metadata": {},
   "source": [
    "*Работа со столбцом 'first_day_exposition', так как в  info() я заметила, что тип данных был object, а должен быть datetime64*"
   ]
  },
  {
   "cell_type": "code",
   "execution_count": 48,
   "metadata": {},
   "outputs": [
    {
     "name": "stdout",
     "output_type": "stream",
     "text": [
      "0    2019-03-07T00:00:00\n",
      "1    2018-12-04T00:00:00\n",
      "2    2015-08-20T00:00:00\n",
      "3    2015-07-24T00:00:00\n",
      "4    2018-06-19T00:00:00\n",
      "Name: first_day_exposition, dtype: object\n"
     ]
    }
   ],
   "source": [
    "print(data['first_day_exposition'].head())"
   ]
  },
  {
   "cell_type": "markdown",
   "metadata": {},
   "source": [
    "*Видно, что дата в неправильном формате, это нужно изменить*"
   ]
  },
  {
   "cell_type": "code",
   "execution_count": 49,
   "metadata": {},
   "outputs": [
    {
     "name": "stdout",
     "output_type": "stream",
     "text": [
      "0   2019-03-07\n",
      "1   2018-12-04\n",
      "2   2015-08-20\n",
      "3   2015-07-24\n",
      "4   2018-06-19\n",
      "Name: first_day_exposition, dtype: datetime64[ns]\n"
     ]
    }
   ],
   "source": [
    "data['first_day_exposition'] = pd.to_datetime(data['first_day_exposition'], format='%Y-%m-%dT%H:%M:%S')\n",
    "print(data['first_day_exposition'].head())"
   ]
  },
  {
   "cell_type": "markdown",
   "metadata": {},
   "source": [
    "**Считаем явные дубликаты:**"
   ]
  },
  {
   "cell_type": "code",
   "execution_count": 50,
   "metadata": {},
   "outputs": [
    {
     "data": {
      "text/plain": [
       "0"
      ]
     },
     "execution_count": 50,
     "metadata": {},
     "output_type": "execute_result"
    }
   ],
   "source": [
    "data.duplicated().sum()"
   ]
  },
  {
   "cell_type": "markdown",
   "metadata": {},
   "source": [
    "*Их нет, значит смотрим на неявные*"
   ]
  },
  {
   "cell_type": "markdown",
   "metadata": {},
   "source": [
    "#### **locality_name**\n",
    "\n",
    "**Посмотрим на уникальные значения столбца 'locality_name', он вызывает больше всего вопросов**"
   ]
  },
  {
   "cell_type": "code",
   "execution_count": 51,
   "metadata": {
    "scrolled": true
   },
   "outputs": [
    {
     "data": {
      "text/plain": [
       "['Санкт-Петербург',\n",
       " 'посёлок Шушары',\n",
       " 'городской посёлок Янино-1',\n",
       " 'посёлок Парголово',\n",
       " 'посёлок Мурино',\n",
       " 'Ломоносов',\n",
       " 'Сертолово',\n",
       " 'Петергоф',\n",
       " 'Пушкин',\n",
       " 'деревня Кудрово',\n",
       " 'Коммунар',\n",
       " 'Колпино',\n",
       " 'поселок городского типа Красный Бор',\n",
       " 'Гатчина',\n",
       " 'поселок Мурино',\n",
       " 'деревня Фёдоровское',\n",
       " 'Выборг',\n",
       " 'Кронштадт',\n",
       " 'Кировск',\n",
       " 'деревня Новое Девяткино',\n",
       " 'посёлок Металлострой',\n",
       " 'посёлок городского типа Лебяжье',\n",
       " 'посёлок городского типа Сиверский',\n",
       " 'поселок Молодцово',\n",
       " 'поселок городского типа Кузьмоловский',\n",
       " 'садовое товарищество Новая Ропша',\n",
       " 'Павловск',\n",
       " 'деревня Пикколово',\n",
       " 'Всеволожск',\n",
       " 'Волхов',\n",
       " 'Кингисепп',\n",
       " 'Приозерск',\n",
       " 'Сестрорецк',\n",
       " 'деревня Куттузи',\n",
       " 'посёлок Аннино',\n",
       " 'поселок городского типа Ефимовский',\n",
       " 'посёлок Плодовое',\n",
       " 'деревня Заклинье',\n",
       " 'поселок Торковичи',\n",
       " 'поселок Первомайское',\n",
       " 'Красное Село',\n",
       " 'посёлок Понтонный',\n",
       " 'Сясьстрой',\n",
       " 'деревня Старая',\n",
       " 'деревня Лесколово',\n",
       " 'посёлок Новый Свет',\n",
       " 'Сланцы',\n",
       " 'село Путилово',\n",
       " 'Ивангород',\n",
       " 'Мурино',\n",
       " 'Шлиссельбург',\n",
       " 'Никольское',\n",
       " 'Зеленогорск',\n",
       " 'Сосновый Бор',\n",
       " 'поселок Новый Свет',\n",
       " 'деревня Оржицы',\n",
       " 'деревня Кальтино',\n",
       " 'Кудрово',\n",
       " 'поселок Романовка',\n",
       " 'посёлок Бугры',\n",
       " 'поселок Бугры',\n",
       " 'поселок городского типа Рощино',\n",
       " 'Кириши',\n",
       " 'Луга',\n",
       " 'Волосово',\n",
       " 'Отрадное',\n",
       " 'село Павлово',\n",
       " 'поселок Оредеж',\n",
       " 'село Копорье',\n",
       " 'посёлок городского типа Красный Бор',\n",
       " 'посёлок Молодёжное',\n",
       " 'Тихвин',\n",
       " 'посёлок Победа',\n",
       " 'деревня Нурма',\n",
       " 'поселок городского типа Синявино',\n",
       " 'Тосно',\n",
       " 'посёлок городского типа Кузьмоловский',\n",
       " 'посёлок Стрельна',\n",
       " 'Бокситогорск',\n",
       " 'деревня Лопухинка',\n",
       " 'Пикалёво',\n",
       " 'поселок Терволово',\n",
       " 'поселок городского типа Советский',\n",
       " 'Подпорожье',\n",
       " 'посёлок Петровское',\n",
       " 'посёлок городского типа Токсово',\n",
       " 'поселок Сельцо',\n",
       " 'посёлок городского типа Вырица',\n",
       " 'деревня Кипень',\n",
       " 'деревня Келози',\n",
       " 'деревня Вартемяги',\n",
       " 'посёлок Тельмана',\n",
       " 'поселок Севастьяново',\n",
       " 'городской поселок Большая Ижора',\n",
       " nan,\n",
       " 'городской посёлок Павлово',\n",
       " 'деревня Агалатово',\n",
       " 'посёлок Новогорелово',\n",
       " 'городской посёлок Лесогорский',\n",
       " 'деревня Лаголово',\n",
       " 'поселок Цвелодубово',\n",
       " 'поселок городского типа Рахья',\n",
       " 'поселок городского типа Вырица',\n",
       " 'деревня Белогорка',\n",
       " 'поселок Заводской',\n",
       " 'городской посёлок Новоселье',\n",
       " 'деревня Большие Колпаны',\n",
       " 'деревня Горбунки',\n",
       " 'деревня Батово',\n",
       " 'деревня Заневка',\n",
       " 'деревня Иссад',\n",
       " 'Приморск',\n",
       " 'городской посёлок Фёдоровское',\n",
       " 'деревня Мистолово',\n",
       " 'Новая Ладога',\n",
       " 'поселок Зимитицы',\n",
       " 'поселок Барышево',\n",
       " 'деревня Разметелево',\n",
       " 'поселок городского типа имени Свердлова',\n",
       " 'деревня Пеники',\n",
       " 'поселок Рябово',\n",
       " 'деревня Пудомяги',\n",
       " 'поселок станции Корнево',\n",
       " 'деревня Низино',\n",
       " 'деревня Бегуницы',\n",
       " 'посёлок Поляны',\n",
       " 'городской посёлок Мга',\n",
       " 'поселок Елизаветино',\n",
       " 'посёлок городского типа Кузнечное',\n",
       " 'деревня Колтуши',\n",
       " 'поселок Запорожское',\n",
       " 'посёлок городского типа Рощино',\n",
       " 'деревня Гостилицы',\n",
       " 'деревня Малое Карлино',\n",
       " 'посёлок Мичуринское',\n",
       " 'посёлок городского типа имени Морозова',\n",
       " 'посёлок Песочный',\n",
       " 'посёлок Сосново',\n",
       " 'деревня Аро',\n",
       " 'поселок Ильичёво',\n",
       " 'посёлок городского типа Тайцы',\n",
       " 'деревня Малое Верево',\n",
       " 'деревня Извара',\n",
       " 'поселок станции Вещево',\n",
       " 'село Паша',\n",
       " 'деревня Калитино',\n",
       " 'посёлок городского типа Ульяновка',\n",
       " 'деревня Чудской Бор',\n",
       " 'поселок городского типа Дубровка',\n",
       " 'деревня Мины',\n",
       " 'поселок Войсковицы',\n",
       " 'посёлок городского типа имени Свердлова',\n",
       " 'деревня Коркино',\n",
       " 'посёлок Ропша',\n",
       " 'поселок городского типа Приладожский',\n",
       " 'посёлок Щеглово',\n",
       " 'посёлок Гаврилово',\n",
       " 'Лодейное Поле',\n",
       " 'деревня Рабитицы',\n",
       " 'поселок городского типа Никольский',\n",
       " 'деревня Кузьмолово',\n",
       " 'деревня Малые Колпаны',\n",
       " 'поселок Тельмана',\n",
       " 'посёлок Петро-Славянка',\n",
       " 'городской посёлок Назия',\n",
       " 'посёлок Репино',\n",
       " 'посёлок Ильичёво',\n",
       " 'поселок Углово',\n",
       " 'поселок Старая Малукса',\n",
       " 'садовое товарищество Рахья',\n",
       " 'поселок Аннино',\n",
       " 'поселок Победа',\n",
       " 'деревня Меньково',\n",
       " 'деревня Старые Бегуницы',\n",
       " 'посёлок Сапёрный',\n",
       " 'поселок Семрино',\n",
       " 'поселок Гаврилово',\n",
       " 'поселок Глажево',\n",
       " 'поселок Кобринское',\n",
       " 'деревня Гарболово',\n",
       " 'деревня Юкки',\n",
       " 'поселок станции Приветнинское',\n",
       " 'деревня Мануйлово',\n",
       " 'деревня Пчева',\n",
       " 'поселок Поляны',\n",
       " 'поселок Цвылёво',\n",
       " 'поселок Мельниково',\n",
       " 'посёлок Пудость',\n",
       " 'посёлок Усть-Луга',\n",
       " 'Светогорск',\n",
       " 'Любань',\n",
       " 'поселок Селезнёво',\n",
       " 'поселок городского типа Рябово',\n",
       " 'Каменногорск',\n",
       " 'деревня Кривко',\n",
       " 'поселок Глебычево',\n",
       " 'деревня Парицы',\n",
       " 'поселок Жилпосёлок',\n",
       " 'посёлок городского типа Мга',\n",
       " 'городской поселок Янино-1',\n",
       " 'посёлок Войскорово',\n",
       " 'село Никольское',\n",
       " 'посёлок Терволово',\n",
       " 'поселок Стеклянный',\n",
       " 'посёлок городского типа Важины',\n",
       " 'посёлок Мыза-Ивановка',\n",
       " 'село Русско-Высоцкое',\n",
       " 'поселок городского типа Лебяжье',\n",
       " 'поселок городского типа Форносово',\n",
       " 'село Старая Ладога',\n",
       " 'поселок Житково',\n",
       " 'городской посёлок Виллози',\n",
       " 'деревня Лампово',\n",
       " 'деревня Шпаньково',\n",
       " 'деревня Лаврики',\n",
       " 'посёлок Сумино',\n",
       " 'посёлок Возрождение',\n",
       " 'деревня Старосиверская',\n",
       " 'посёлок Кикерино',\n",
       " 'поселок Возрождение',\n",
       " 'деревня Старое Хинколово',\n",
       " 'посёлок Пригородный',\n",
       " 'посёлок Торфяное',\n",
       " 'городской посёлок Будогощь',\n",
       " 'поселок Суходолье',\n",
       " 'поселок Красная Долина',\n",
       " 'деревня Хапо-Ое',\n",
       " 'поселок городского типа Дружная Горка',\n",
       " 'поселок Лисий Нос',\n",
       " 'деревня Яльгелево',\n",
       " 'посёлок Стеклянный',\n",
       " 'село Рождествено',\n",
       " 'деревня Старополье',\n",
       " 'посёлок Левашово',\n",
       " 'деревня Сяськелево',\n",
       " 'деревня Камышовка',\n",
       " 'садоводческое некоммерческое товарищество Лесная Поляна',\n",
       " 'деревня Хязельки',\n",
       " 'поселок Жилгородок',\n",
       " 'посёлок городского типа Павлово',\n",
       " 'деревня Ялгино',\n",
       " 'поселок Новый Учхоз',\n",
       " 'городской посёлок Рощино',\n",
       " 'поселок Гончарово',\n",
       " 'поселок Почап',\n",
       " 'посёлок Сапёрное',\n",
       " 'посёлок Платформа 69-й километр',\n",
       " 'поселок Каложицы',\n",
       " 'деревня Фалилеево',\n",
       " 'деревня Пельгора',\n",
       " 'поселок городского типа Лесогорский',\n",
       " 'деревня Торошковичи',\n",
       " 'посёлок Белоостров',\n",
       " 'посёлок Алексеевка',\n",
       " 'поселок Серебрянский',\n",
       " 'поселок Лукаши',\n",
       " 'поселок Петровское',\n",
       " 'деревня Щеглово',\n",
       " 'поселок Мичуринское',\n",
       " 'деревня Тарасово',\n",
       " 'поселок Кингисеппский',\n",
       " 'посёлок при железнодорожной станции Вещево',\n",
       " 'поселок Ушаки',\n",
       " 'деревня Котлы',\n",
       " 'деревня Сижно',\n",
       " 'деревня Торосово',\n",
       " 'посёлок Форт Красная Горка',\n",
       " 'поселок городского типа Токсово',\n",
       " 'деревня Новолисино',\n",
       " 'посёлок станции Громово',\n",
       " 'деревня Глинка',\n",
       " 'посёлок Мельниково',\n",
       " 'поселок городского типа Назия',\n",
       " 'деревня Старая Пустошь',\n",
       " 'поселок Коммунары',\n",
       " 'поселок Починок',\n",
       " 'посёлок городского типа Вознесенье',\n",
       " 'деревня Разбегаево',\n",
       " 'посёлок городского типа Рябово',\n",
       " 'поселок Гладкое',\n",
       " 'посёлок при железнодорожной станции Приветнинское',\n",
       " 'поселок Тёсово-4',\n",
       " 'посёлок Жилгородок',\n",
       " 'посёлок Коробицыно',\n",
       " 'деревня Большая Вруда',\n",
       " 'деревня Курковицы',\n",
       " 'посёлок Лисий Нос',\n",
       " 'городской посёлок Советский',\n",
       " 'посёлок Кобралово',\n",
       " 'деревня Суоранда',\n",
       " 'поселок Кобралово',\n",
       " 'поселок городского типа Кондратьево',\n",
       " 'коттеджный поселок Счастье',\n",
       " 'поселок Любань',\n",
       " 'деревня Реброво',\n",
       " 'деревня Зимитицы',\n",
       " 'деревня Тойворово',\n",
       " 'поселок Семиозерье',\n",
       " 'поселок Лесное',\n",
       " 'поселок Совхозный',\n",
       " 'поселок Усть-Луга',\n",
       " 'посёлок Ленинское',\n",
       " 'посёлок Суйда',\n",
       " 'посёлок городского типа Форносово',\n",
       " 'деревня Нижние Осельки',\n",
       " 'деревня Бор',\n",
       " 'посёлок станции Свирь',\n",
       " 'поселок Перово',\n",
       " 'Высоцк',\n",
       " 'поселок Гарболово',\n",
       " 'село Шум',\n",
       " 'поселок Котельский',\n",
       " 'поселок станции Лужайка',\n",
       " 'деревня Большая Пустомержа',\n",
       " 'поселок Красносельское',\n",
       " 'деревня Вахнова Кара',\n",
       " 'деревня Пижма',\n",
       " 'коттеджный поселок Кивеннапа Север',\n",
       " 'поселок Коробицыно',\n",
       " 'поселок Ромашки',\n",
       " 'посёлок Перово',\n",
       " 'деревня Каськово',\n",
       " 'деревня Куровицы',\n",
       " 'посёлок Плоское',\n",
       " 'поселок Сумино',\n",
       " 'поселок городского типа Большая Ижора',\n",
       " 'поселок Кирпичное',\n",
       " 'деревня Ям-Тесово',\n",
       " 'деревня Раздолье',\n",
       " 'деревня Терпилицы',\n",
       " 'посёлок Шугозеро',\n",
       " 'деревня Ваганово',\n",
       " 'поселок Пушное',\n",
       " 'садовое товарищество Садко',\n",
       " 'посёлок Усть-Ижора',\n",
       " 'деревня Выскатка',\n",
       " 'городской посёлок Свирьстрой',\n",
       " 'поселок Громово',\n",
       " 'деревня Кисельня',\n",
       " 'посёлок Старая Малукса',\n",
       " 'деревня Трубников Бор',\n",
       " 'поселок Калитино',\n",
       " 'посёлок Высокоключевой',\n",
       " 'садовое товарищество Приладожский',\n",
       " 'посёлок Пансионат Зелёный Бор',\n",
       " 'деревня Ненимяки',\n",
       " 'поселок Пансионат Зелёный Бор',\n",
       " 'деревня Снегирёвка',\n",
       " 'посёлок Александровская',\n",
       " 'деревня Рапполово',\n",
       " 'деревня Пустынка',\n",
       " 'поселок Рабитицы',\n",
       " 'деревня Большой Сабск',\n",
       " 'деревня Русско',\n",
       " 'деревня Лупполово',\n",
       " 'деревня Большое Рейзино',\n",
       " 'деревня Малая Романовка',\n",
       " 'поселок Дружноселье',\n",
       " 'поселок Пчевжа',\n",
       " 'поселок Володарское',\n",
       " 'деревня Нижняя',\n",
       " 'коттеджный посёлок Лесное',\n",
       " 'деревня Тихковицы',\n",
       " 'деревня Борисова Грива',\n",
       " 'посёлок Дзержинского']"
      ]
     },
     "execution_count": 51,
     "metadata": {},
     "output_type": "execute_result"
    }
   ],
   "source": [
    "data['locality_name'].unique().tolist()"
   ]
  },
  {
   "cell_type": "markdown",
   "metadata": {},
   "source": [
    "*Внушительный список, посчитаем сколько всего уникальных значений на данный момент*"
   ]
  },
  {
   "cell_type": "code",
   "execution_count": 52,
   "metadata": {},
   "outputs": [
    {
     "data": {
      "text/plain": [
       "365"
      ]
     },
     "execution_count": 52,
     "metadata": {},
     "output_type": "execute_result"
    }
   ],
   "source": [
    "len(data['locality_name'].unique())"
   ]
  },
  {
   "cell_type": "markdown",
   "metadata": {},
   "source": [
    "*То есть уникальных значений 365, и сразу видно, что некоторые НП написаны разными способами, я составила таблицу и отсортировала все неявные дубликаты и теперь занесла их в метод replace()*"
   ]
  },
  {
   "cell_type": "code",
   "execution_count": 53,
   "metadata": {},
   "outputs": [],
   "source": [
    "data['locality_name'] = data['locality_name'].str.replace('посёлок','поселок')"
   ]
  },
  {
   "cell_type": "code",
   "execution_count": 54,
   "metadata": {},
   "outputs": [],
   "source": [
    "data['locality_name'] = data['locality_name'].replace('поселок Мурино','Мурино')\n",
    "data['locality_name'] = data['locality_name'].replace('деревня Кудрово','Кудрово')\n",
    "data['locality_name'] = data['locality_name'].replace('Коммунар','поселок Коммунары')\n",
    "data['locality_name'] = data['locality_name'].replace('городской поселок Фёдоровское','деревня Фёдоровское')\n",
    "data['locality_name'] = data['locality_name'].replace('село Никольское','Никольское')\n",
    "data['locality_name'] = data['locality_name'].replace('городской поселок Рощино','поселок городского типа Рощино')\n",
    "data['locality_name'] = data['locality_name'].replace('коттеджный поселок Лесное','поселок Лесное')\n",
    "data['locality_name'] = data['locality_name'].replace('поселок Любань','Любань')\n",
    "data['locality_name'] = data['locality_name'].replace('поселок при железнодорожной станции Приветнинское','поселок станции Приветнинское')\n",
    "data['locality_name'] = data['locality_name'].replace('деревня Гарболово','поселок Гарболово')\n",
    "data['locality_name'] = data['locality_name'].replace('городской поселок Назия','поселок городского типа Назия')\n",
    "data['locality_name'] = data['locality_name'].replace('поселок Щеглово','деревня Щеглово')\n",
    "data['locality_name'] = data['locality_name'].replace('поселок при железнодорожной станции Вещево','поселок станции Вещево')\n",
    "data['locality_name'] = data['locality_name'].replace('городской поселок Мга','посёлок городского типа Мга')\n",
    "data['locality_name'] = data['locality_name'].replace('поселок городского типа Рябово','поселок Рябово')\n",
    "data['locality_name'] = data['locality_name'].replace('поселок Зимитицы','деревня Зимитицы')\n",
    "data['locality_name'] = data['locality_name'].replace('городской поселок Лесогорский','поселок городского типа Лесогорский')\n",
    "data['locality_name'] = data['locality_name'].replace('поселок городского типа Большая Ижора','городской поселок Большая Ижора')\n",
    "data['locality_name'] = data['locality_name'].replace('поселок городского типа Советский','городской посёлок Советский')\n",
    "data['locality_name'] = data['locality_name'].replace('городской поселок Павлово','село Павлово')\n",
    "data['locality_name'] = data['locality_name'].replace('поселок городского типа Павлово','село Павлово')"
   ]
  },
  {
   "cell_type": "markdown",
   "metadata": {},
   "source": [
    "*Теперь снова посчитаем количество уникальных значений, теперь их на 53 меньше*"
   ]
  },
  {
   "cell_type": "code",
   "execution_count": 55,
   "metadata": {
    "scrolled": true
   },
   "outputs": [
    {
     "data": {
      "text/plain": [
       "312"
      ]
     },
     "execution_count": 55,
     "metadata": {},
     "output_type": "execute_result"
    }
   ],
   "source": [
    "len(data['locality_name'].unique())"
   ]
  },
  {
   "cell_type": "markdown",
   "metadata": {},
   "source": [
    "*Теперь всем пропускам присвоим значение 'unknown' так как заполнить эти пропуски не представляется возможным, и посчитаем все пропуски для проверки*"
   ]
  },
  {
   "cell_type": "code",
   "execution_count": 56,
   "metadata": {
    "scrolled": true
   },
   "outputs": [
    {
     "data": {
      "text/plain": [
       "0"
      ]
     },
     "execution_count": 56,
     "metadata": {},
     "output_type": "execute_result"
    }
   ],
   "source": [
    "data['locality_name'] = data['locality_name'].fillna('unknown')\n",
    "data['locality_name'].isna().sum()"
   ]
  },
  {
   "cell_type": "markdown",
   "metadata": {},
   "source": [
    "#### **parks_around3000 и ponds_around3000**"
   ]
  },
  {
   "cell_type": "markdown",
   "metadata": {},
   "source": [
    "*С прудами и парками все сложно, ближайшие пруды/парки можно заполнить нулями, видимо в радиусе 3 км нет никого из них. Про ближайшие пруды/парки вообще ничего не известно, и корреляции вменяемой нет ни с каким столбцом, поэтому видимо придется оставить с пропусками*"
   ]
  },
  {
   "cell_type": "code",
   "execution_count": 57,
   "metadata": {},
   "outputs": [],
   "source": [
    "data['parks_around3000'].fillna(0, inplace=True)\n",
    "data['ponds_around3000'].fillna(0, inplace=True)"
   ]
  },
  {
   "cell_type": "code",
   "execution_count": 58,
   "metadata": {},
   "outputs": [
    {
     "data": {
      "image/png": "[encoded data removed]",
      "text/plain": [
       "<Figure size 640x480 with 1 Axes>"
      ]
     },
     "metadata": {},
     "output_type": "display_data"
    }
   ],
   "source": [
    "plt.hist(data['parks_around3000'], color = 'pink', bins=4, ec=\"black\", lw= 1, range=(0,4));\n",
    "plt.title('Парки поблизости')\n",
    "plt.xlabel('Количество парков')\n",
    "plt.ylabel('Объекты');"
   ]
  },
  {
   "cell_type": "code",
   "execution_count": 59,
   "metadata": {
    "scrolled": false
   },
   "outputs": [
    {
     "data": {
      "image/png": "[encoded data removed]",
      "text/plain": [
       "<Figure size 640x480 with 1 Axes>"
      ]
     },
     "metadata": {},
     "output_type": "display_data"
    }
   ],
   "source": [
    "plt.hist(data['ponds_around3000'], color = 'pink', bins=4, ec=\"black\", lw= 1, range=(0,4));\n",
    "plt.title('Пруды поблизости')\n",
    "plt.xlabel('Количество прудов')\n",
    "plt.ylabel('Объекты');"
   ]
  },
  {
   "cell_type": "markdown",
   "metadata": {},
   "source": [
    "#### **ponds_nearest и parks_nearest**"
   ]
  },
  {
   "cell_type": "code",
   "execution_count": 60,
   "metadata": {},
   "outputs": [
    {
     "data": {
      "image/png": "[encoded data removed]",
      "text/plain": [
       "<Figure size 1500x300 with 1 Axes>"
      ]
     },
     "metadata": {},
     "output_type": "display_data"
    }
   ],
   "source": [
    "plt.figure(figsize=(15,3));\n",
    "plt.hist(data['parks_nearest'], color = 'pink', bins=100, ec=\"black\", lw= 1);\n",
    "plt.title('Ближайший парк')\n",
    "plt.xlabel('Расстояние до парка')\n",
    "plt.ylabel('Объекты');"
   ]
  },
  {
   "cell_type": "code",
   "execution_count": 61,
   "metadata": {},
   "outputs": [
    {
     "data": {
      "image/png": "[encoded data removed]",
      "text/plain": [
       "<Figure size 1500x300 with 1 Axes>"
      ]
     },
     "metadata": {},
     "output_type": "display_data"
    }
   ],
   "source": [
    "plt.figure(figsize=(15,3));\n",
    "plt.hist(data['ponds_nearest'], color = 'pink', bins=100, ec=\"black\", lw= 1);\n",
    "plt.title('Ближайший пруд')\n",
    "plt.xlabel('Расстояние до пруда')\n",
    "plt.ylabel('Объекты');"
   ]
  },
  {
   "cell_type": "markdown",
   "metadata": {},
   "source": [
    "#### **kitchen_area**"
   ]
  },
  {
   "cell_type": "code",
   "execution_count": 62,
   "metadata": {},
   "outputs": [
    {
     "data": {
      "image/png": "[encoded data removed]",
      "text/plain": [
       "<Figure size 640x480 with 1 Axes>"
      ]
     },
     "metadata": {},
     "output_type": "display_data"
    }
   ],
   "source": [
    "plt.hist(data['kitchen_area'], color = 'pink', bins=29, ec=\"black\", lw= 1, range=(1,30));\n",
    "plt.title('Площадь кухни')\n",
    "plt.xlabel('кв.м.')\n",
    "plt.ylabel('Количество квартир в домах с такой площадью кухни');"
   ]
  },
  {
   "cell_type": "code",
   "execution_count": 63,
   "metadata": {},
   "outputs": [
    {
     "data": {
      "text/plain": [
       "count    21140.000000\n",
       "mean        10.377512\n",
       "std          5.434422\n",
       "min          1.300000\n",
       "25%          7.000000\n",
       "50%          9.000000\n",
       "75%         11.900000\n",
       "max        107.000000\n",
       "Name: kitchen_area, dtype: float64"
      ]
     },
     "execution_count": 63,
     "metadata": {},
     "output_type": "execute_result"
    }
   ],
   "source": [
    "data['kitchen_area'].describe()"
   ]
  },
  {
   "cell_type": "markdown",
   "metadata": {},
   "source": [
    "*Сейчас строк, подходящих под условие, что жилая площадь и кухня больше 0,9 от общей площади - 530 штук*"
   ]
  },
  {
   "cell_type": "code",
   "execution_count": 64,
   "metadata": {},
   "outputs": [
    {
     "data": {
      "text/plain": [
       "511"
      ]
     },
     "execution_count": 64,
     "metadata": {},
     "output_type": "execute_result"
    }
   ],
   "source": [
    "len(data.query('total_area*0.9 <= (living_area + kitchen_area)'))"
   ]
  },
  {
   "cell_type": "markdown",
   "metadata": {},
   "source": [
    "*То есть аномальных значений стало не намного больше, возможно это те квартиры, где нет балкона*"
   ]
  },
  {
   "cell_type": "code",
   "execution_count": 65,
   "metadata": {},
   "outputs": [
    {
     "name": "stdout",
     "output_type": "stream",
     "text": [
      "count    21090.000000\n",
      "mean        10.291495\n",
      "std          4.949198\n",
      "min          3.200000\n",
      "25%          7.000000\n",
      "50%          9.000000\n",
      "75%         11.900000\n",
      "max         49.400000\n",
      "Name: kitchen_area, dtype: float64\n"
     ]
    }
   ],
   "source": [
    "data = data[(data['kitchen_area'] > 3) | (data['kitchen_area'].isna())]\n",
    "data = data[(data['kitchen_area'] < 50) | (data['kitchen_area'].isna())]\n",
    "print(data['kitchen_area'].describe())"
   ]
  },
  {
   "cell_type": "code",
   "execution_count": 66,
   "metadata": {},
   "outputs": [
    {
     "data": {
      "text/plain": [
       "502"
      ]
     },
     "execution_count": 66,
     "metadata": {},
     "output_type": "execute_result"
    }
   ],
   "source": [
    "len(data.query('total_area*0.9 <= (living_area + kitchen_area)'))"
   ]
  },
  {
   "cell_type": "markdown",
   "metadata": {},
   "source": [
    "*Аномалий стало на 12 меньше*"
   ]
  },
  {
   "cell_type": "markdown",
   "metadata": {},
   "source": [
    "*Еще раз посмотрим на график*"
   ]
  },
  {
   "cell_type": "code",
   "execution_count": 67,
   "metadata": {},
   "outputs": [
    {
     "data": {
      "image/png": "[encoded data removed]",
      "text/plain": [
       "<Figure size 640x480 with 1 Axes>"
      ]
     },
     "metadata": {},
     "output_type": "display_data"
    }
   ],
   "source": [
    "plt.hist(data['kitchen_area'], color = 'pink', bins=29, ec=\"black\", lw= 1, range=(1,30));\n",
    "plt.title('Площадь кухни')\n",
    "plt.xlabel('кв.м.')\n",
    "plt.ylabel('Количество квартир в домах с такой площадью кухни');"
   ]
  },
  {
   "cell_type": "markdown",
   "metadata": {},
   "source": [
    "*Большинство кухонь, видимо 7, 9 и 11 кв.м.*"
   ]
  },
  {
   "cell_type": "markdown",
   "metadata": {},
   "source": [
    "Почистим от выбросов"
   ]
  },
  {
   "cell_type": "code",
   "execution_count": 68,
   "metadata": {},
   "outputs": [
    {
     "data": {
      "text/plain": [
       "count    20901.000000\n",
       "mean        10.086495\n",
       "std          4.256516\n",
       "min          4.100000\n",
       "25%          7.000000\n",
       "50%          9.000000\n",
       "75%         11.700000\n",
       "max         34.800000\n",
       "Name: kitchen_area, dtype: float64"
      ]
     },
     "execution_count": 68,
     "metadata": {},
     "output_type": "execute_result"
    }
   ],
   "source": [
    "data = data[(data['kitchen_area'] > 4) | (data['kitchen_area'].isna())]\n",
    "data = data[(data['kitchen_area'] < 35) | (data['kitchen_area'].isna())]\n",
    "data['kitchen_area'].describe()"
   ]
  },
  {
   "cell_type": "markdown",
   "metadata": {},
   "source": [
    "#### **days_exposition**"
   ]
  },
  {
   "cell_type": "code",
   "execution_count": 69,
   "metadata": {},
   "outputs": [
    {
     "data": {
      "text/plain": [
       "0      NaN\n",
       "1     81.0\n",
       "2    558.0\n",
       "3    424.0\n",
       "5     55.0\n",
       "Name: days_exposition, dtype: float64"
      ]
     },
     "execution_count": 69,
     "metadata": {},
     "output_type": "execute_result"
    }
   ],
   "source": [
    "data['days_exposition'].head()"
   ]
  },
  {
   "cell_type": "code",
   "execution_count": 70,
   "metadata": {},
   "outputs": [
    {
     "data": {
      "image/png": "[encoded data removed]",
      "text/plain": [
       "<Figure size 640x480 with 1 Axes>"
      ]
     },
     "metadata": {},
     "output_type": "display_data"
    }
   ],
   "source": [
    "plt.hist(data['days_exposition'], color = 'pink', bins=50, ec=\"black\", lw= 1, range=(0, 1400));\n",
    "plt.title('Дни объявления')\n",
    "plt.xlabel('Дни')\n",
    "plt.ylabel('Объявления');"
   ]
  },
  {
   "cell_type": "markdown",
   "metadata": {},
   "source": [
    "*Абсолютное большинство объявлений не висит дольше 200 дней, и так как пропусков много и заполнить их нечем, то и тип float на int не поменять*"
   ]
  },
  {
   "cell_type": "code",
   "execution_count": 71,
   "metadata": {
    "scrolled": false
   },
   "outputs": [
    {
     "data": {
      "text/html": [
       "<style type=\"text/css\">\n",
       "</style>\n",
       "<table id=\"T_ff871\">\n",
       "  <thead>\n",
       "    <tr>\n",
       "      <th class=\"blank level0\" >&nbsp;</th>\n",
       "      <th id=\"T_ff871_level0_col0\" class=\"col_heading level0 col0\" >rooms</th>\n",
       "      <th id=\"T_ff871_level0_col1\" class=\"col_heading level0 col1\" >total_area</th>\n",
       "      <th id=\"T_ff871_level0_col2\" class=\"col_heading level0 col2\" >ceiling_height</th>\n",
       "      <th id=\"T_ff871_level0_col3\" class=\"col_heading level0 col3\" >days_exposition</th>\n",
       "      <th id=\"T_ff871_level0_col4\" class=\"col_heading level0 col4\" >last_price</th>\n",
       "      <th id=\"T_ff871_level0_col5\" class=\"col_heading level0 col5\" >living_area</th>\n",
       "      <th id=\"T_ff871_level0_col6\" class=\"col_heading level0 col6\" >kitchen_area</th>\n",
       "      <th id=\"T_ff871_level0_col7\" class=\"col_heading level0 col7\" >floor</th>\n",
       "      <th id=\"T_ff871_level0_col8\" class=\"col_heading level0 col8\" >floors_total</th>\n",
       "    </tr>\n",
       "  </thead>\n",
       "  <tbody>\n",
       "    <tr>\n",
       "      <th id=\"T_ff871_level0_row0\" class=\"row_heading level0 row0\" >count</th>\n",
       "      <td id=\"T_ff871_row0_col0\" class=\"data row0 col0\" >23,122.00</td>\n",
       "      <td id=\"T_ff871_row0_col1\" class=\"data row0 col1\" >23,122.00</td>\n",
       "      <td id=\"T_ff871_row0_col2\" class=\"data row0 col2\" >22,967.00</td>\n",
       "      <td id=\"T_ff871_row0_col3\" class=\"data row0 col3\" >20,064.00</td>\n",
       "      <td id=\"T_ff871_row0_col4\" class=\"data row0 col4\" >23,122.00</td>\n",
       "      <td id=\"T_ff871_row0_col5\" class=\"data row0 col5\" >23,122.00</td>\n",
       "      <td id=\"T_ff871_row0_col6\" class=\"data row0 col6\" >20,901.00</td>\n",
       "      <td id=\"T_ff871_row0_col7\" class=\"data row0 col7\" >23,122.00</td>\n",
       "      <td id=\"T_ff871_row0_col8\" class=\"data row0 col8\" >23,122.00</td>\n",
       "    </tr>\n",
       "    <tr>\n",
       "      <th id=\"T_ff871_level0_row1\" class=\"row_heading level0 row1\" >min</th>\n",
       "      <td id=\"T_ff871_row1_col0\" class=\"data row1 col0\" >0.00</td>\n",
       "      <td id=\"T_ff871_row1_col1\" class=\"data row1 col1\" >20.10</td>\n",
       "      <td id=\"T_ff871_row1_col2\" class=\"data row1 col2\" >2.20</td>\n",
       "      <td id=\"T_ff871_row1_col3\" class=\"data row1 col3\" >1.00</td>\n",
       "      <td id=\"T_ff871_row1_col4\" class=\"data row1 col4\" >430,000.00</td>\n",
       "      <td id=\"T_ff871_row1_col5\" class=\"data row1 col5\" >9.10</td>\n",
       "      <td id=\"T_ff871_row1_col6\" class=\"data row1 col6\" >4.10</td>\n",
       "      <td id=\"T_ff871_row1_col7\" class=\"data row1 col7\" >1.00</td>\n",
       "      <td id=\"T_ff871_row1_col8\" class=\"data row1 col8\" >1.00</td>\n",
       "    </tr>\n",
       "    <tr>\n",
       "      <th id=\"T_ff871_level0_row2\" class=\"row_heading level0 row2\" >max</th>\n",
       "      <td id=\"T_ff871_row2_col0\" class=\"data row2 col0\" >9.00</td>\n",
       "      <td id=\"T_ff871_row2_col1\" class=\"data row2 col1\" >241.00</td>\n",
       "      <td id=\"T_ff871_row2_col2\" class=\"data row2 col2\" >5.80</td>\n",
       "      <td id=\"T_ff871_row2_col3\" class=\"data row2 col3\" >1,580.00</td>\n",
       "      <td id=\"T_ff871_row2_col4\" class=\"data row2 col4\" >289,238,400.00</td>\n",
       "      <td id=\"T_ff871_row2_col5\" class=\"data row2 col5\" >119.90</td>\n",
       "      <td id=\"T_ff871_row2_col6\" class=\"data row2 col6\" >34.80</td>\n",
       "      <td id=\"T_ff871_row2_col7\" class=\"data row2 col7\" >27.00</td>\n",
       "      <td id=\"T_ff871_row2_col8\" class=\"data row2 col8\" >29.00</td>\n",
       "    </tr>\n",
       "  </tbody>\n",
       "</table>\n"
      ],
      "text/plain": [
       "<pandas.io.formats.style.Styler at 0x1b7d4aff760>"
      ]
     },
     "execution_count": 71,
     "metadata": {},
     "output_type": "execute_result"
    }
   ],
   "source": [
    "(\n",
    "    data[['rooms', 'total_area', 'ceiling_height', 'days_exposition', 'last_price', 'living_area',  'kitchen_area',\n",
    "          'floor', 'floors_total']]\n",
    "    .apply (['count', 'min', 'max'])   \n",
    "    .style.format(\"{:,.2f}\")\n",
    ")"
   ]
  },
  {
   "cell_type": "code",
   "execution_count": 72,
   "metadata": {
    "scrolled": true
   },
   "outputs": [
    {
     "data": {
      "text/plain": [
       "count    20064.00000\n",
       "mean       179.12191\n",
       "std        217.57750\n",
       "min          1.00000\n",
       "25%         45.00000\n",
       "50%         94.00000\n",
       "75%        229.00000\n",
       "max       1580.00000\n",
       "Name: days_exposition, dtype: float64"
      ]
     },
     "execution_count": 72,
     "metadata": {},
     "output_type": "execute_result"
    }
   ],
   "source": [
    "data['days_exposition'].describe()"
   ]
  },
  {
   "cell_type": "markdown",
   "metadata": {},
   "source": [
    "*Думаю не имеет смысла рассматривать объявления, которые висят дольше 2 лет, за это время и цена могла поменяться и человек мог просто забыть снять с объявления*"
   ]
  },
  {
   "cell_type": "code",
   "execution_count": 73,
   "metadata": {},
   "outputs": [
    {
     "data": {
      "text/plain": [
       "count    19347.000000\n",
       "mean       150.032356\n",
       "std        155.523135\n",
       "min          1.000000\n",
       "25%         43.000000\n",
       "50%         90.000000\n",
       "75%        205.000000\n",
       "max        729.000000\n",
       "Name: days_exposition, dtype: float64"
      ]
     },
     "execution_count": 73,
     "metadata": {},
     "output_type": "execute_result"
    }
   ],
   "source": [
    "data = data[(data['days_exposition'] < 730) | (data['days_exposition'].isna())]\n",
    "data['days_exposition'].describe()"
   ]
  },
  {
   "cell_type": "code",
   "execution_count": 74,
   "metadata": {},
   "outputs": [
    {
     "data": {
      "text/plain": [
       "count    18116.000000\n",
       "mean       159.795981\n",
       "std        155.988612\n",
       "min         11.000000\n",
       "25%         45.000000\n",
       "50%         99.000000\n",
       "75%        218.000000\n",
       "max        729.000000\n",
       "Name: days_exposition, dtype: float64"
      ]
     },
     "execution_count": 74,
     "metadata": {},
     "output_type": "execute_result"
    }
   ],
   "source": [
    "data = data[(data['days_exposition'] > 10) | (data['days_exposition'].isna())]\n",
    "data['days_exposition'].describe()"
   ]
  },
  {
   "cell_type": "markdown",
   "metadata": {},
   "source": [
    "#### **rooms**"
   ]
  },
  {
   "cell_type": "code",
   "execution_count": 75,
   "metadata": {},
   "outputs": [
    {
     "data": {
      "text/html": [
       "<div>\n",
       "<style scoped>\n",
       "    .dataframe tbody tr th:only-of-type {\n",
       "        vertical-align: middle;\n",
       "    }\n",
       "\n",
       "    .dataframe tbody tr th {\n",
       "        vertical-align: top;\n",
       "    }\n",
       "\n",
       "    .dataframe thead th {\n",
       "        text-align: right;\n",
       "    }\n",
       "</style>\n",
       "<table border=\"1\" class=\"dataframe\">\n",
       "  <thead>\n",
       "    <tr style=\"text-align: right;\">\n",
       "      <th></th>\n",
       "      <th>rooms</th>\n",
       "    </tr>\n",
       "  </thead>\n",
       "  <tbody>\n",
       "    <tr>\n",
       "      <th>1</th>\n",
       "      <td>7240</td>\n",
       "    </tr>\n",
       "    <tr>\n",
       "      <th>2</th>\n",
       "      <td>7200</td>\n",
       "    </tr>\n",
       "    <tr>\n",
       "      <th>3</th>\n",
       "      <td>5258</td>\n",
       "    </tr>\n",
       "    <tr>\n",
       "      <th>4</th>\n",
       "      <td>1022</td>\n",
       "    </tr>\n",
       "    <tr>\n",
       "      <th>5</th>\n",
       "      <td>227</td>\n",
       "    </tr>\n",
       "    <tr>\n",
       "      <th>0</th>\n",
       "      <td>161</td>\n",
       "    </tr>\n",
       "    <tr>\n",
       "      <th>6</th>\n",
       "      <td>49</td>\n",
       "    </tr>\n",
       "    <tr>\n",
       "      <th>7</th>\n",
       "      <td>14</td>\n",
       "    </tr>\n",
       "    <tr>\n",
       "      <th>8</th>\n",
       "      <td>2</td>\n",
       "    </tr>\n",
       "    <tr>\n",
       "      <th>9</th>\n",
       "      <td>1</td>\n",
       "    </tr>\n",
       "  </tbody>\n",
       "</table>\n",
       "</div>"
      ],
      "text/plain": [
       "   rooms\n",
       "1   7240\n",
       "2   7200\n",
       "3   5258\n",
       "4   1022\n",
       "5    227\n",
       "0    161\n",
       "6     49\n",
       "7     14\n",
       "8      2\n",
       "9      1"
      ]
     },
     "execution_count": 75,
     "metadata": {},
     "output_type": "execute_result"
    }
   ],
   "source": [
    "data.rooms.value_counts().to_frame()"
   ]
  },
  {
   "cell_type": "code",
   "execution_count": 76,
   "metadata": {
    "scrolled": true
   },
   "outputs": [
    {
     "data": {
      "text/plain": [
       "count    21171.000000\n",
       "mean         2.032450\n",
       "std          0.981277\n",
       "min          0.000000\n",
       "25%          1.000000\n",
       "50%          2.000000\n",
       "75%          3.000000\n",
       "max          7.000000\n",
       "Name: rooms, dtype: float64"
      ]
     },
     "execution_count": 76,
     "metadata": {},
     "output_type": "execute_result"
    }
   ],
   "source": [
    "data = data[(data['rooms'] < 8) | (data['rooms'].isna())]\n",
    "data['rooms'].describe()"
   ]
  },
  {
   "cell_type": "code",
   "execution_count": null,
   "metadata": {},
   "outputs": [],
   "source": [
    "plt.hist(data['rooms'], color = 'pink', bins=7, ec=\"black\", lw= 1);\n",
    "plt.title('Комнаты')\n",
    "plt.xlabel('Количество')\n",
    "plt.ylabel('Объявления');"
   ]
  },
  {
   "cell_type": "markdown",
   "metadata": {},
   "source": [
    "#### **last_price**"
   ]
  },
  {
   "cell_type": "code",
   "execution_count": null,
   "metadata": {},
   "outputs": [],
   "source": [
    "print(data['last_price'].describe())"
   ]
  },
  {
   "cell_type": "markdown",
   "metadata": {},
   "source": [
    "*Очень неудобно читать эти цифры, сделаю в нем значения равные миллиону*"
   ]
  },
  {
   "cell_type": "code",
   "execution_count": null,
   "metadata": {},
   "outputs": [],
   "source": [
    "data['last_price_mill'] = data['last_price']/1000000\n",
    "print(data['last_price_mill'].describe())"
   ]
  },
  {
   "cell_type": "code",
   "execution_count": null,
   "metadata": {},
   "outputs": [],
   "source": [
    "plt.figure(figsize=(15,3));\n",
    "plt.hist(data['last_price_mill'], color = 'pink', bins=60, ec=\"black\", lw= 1, range=(0, 60))\n",
    "plt.title('Цена объекта')\n",
    "plt.xlabel('Цена, миллионы')\n",
    "plt.ylabel('Объявления');"
   ]
  },
  {
   "cell_type": "markdown",
   "metadata": {},
   "source": [
    "*Квартира не может стоить меньше 1 миллиона и значений больше 60 миллионов вряд ли имеет смысл рассматривать*"
   ]
  },
  {
   "cell_type": "code",
   "execution_count": null,
   "metadata": {},
   "outputs": [],
   "source": [
    "data = data[(data['last_price_mill'] < 60) | (data['last_price_mill'].isna())]\n",
    "data = data[(data['last_price_mill'] > 1) | (data['last_price_mill'].isna())]\n",
    "print(data['last_price_mill'].describe())"
   ]
  },
  {
   "cell_type": "code",
   "execution_count": null,
   "metadata": {},
   "outputs": [],
   "source": [
    "(\n",
    "    data[['rooms', 'total_area', 'ceiling_height', 'days_exposition', 'last_price', 'living_area',  \n",
    "        'kitchen_area', 'floor',   'floors_total']]\n",
    "    .quantile([0.01, .5, .90, .9976])  \n",
    "    .style.format(\"{:,.2f}\")\n",
    ")"
   ]
  },
  {
   "cell_type": "markdown",
   "metadata": {},
   "source": [
    "#### **cityCenters_nearest**"
   ]
  },
  {
   "cell_type": "code",
   "execution_count": null,
   "metadata": {},
   "outputs": [],
   "source": [
    "data['cityCenters_nearest'].describe()"
   ]
  },
  {
   "cell_type": "code",
   "execution_count": null,
   "metadata": {},
   "outputs": [],
   "source": [
    "plt.figure(figsize=(15,3));\n",
    "plt.hist(data['cityCenters_nearest'], color = 'pink', bins=100, ec=\"black\", lw= 1)\n",
    "plt.title('Расстоние до центра города, м')\n",
    "plt.xlabel('Расстояние')\n",
    "plt.ylabel('Объявления');"
   ]
  },
  {
   "cell_type": "markdown",
   "metadata": {},
   "source": [
    "*Интересный провал в объявлениях на 40 км от центра, там вообще почти нет квартир. при этом дальше, на 50 км объявления есть. Много квартир от 10 до 20 км до центра города, а также примерно в 5 км от центра есть достаточно большое количество объявлений.* "
   ]
  },
  {
   "cell_type": "markdown",
   "metadata": {},
   "source": [
    "### Новые признаки"
   ]
  },
  {
   "cell_type": "markdown",
   "metadata": {},
   "source": [
    "#### **price_mkv**"
   ]
  },
  {
   "cell_type": "markdown",
   "metadata": {},
   "source": [
    "**Цена одного квадратного метра**"
   ]
  },
  {
   "cell_type": "code",
   "execution_count": null,
   "metadata": {},
   "outputs": [],
   "source": [
    "data['price_mkv'] = data['last_price'] / data['total_area']\n",
    "print(data['price_mkv'])"
   ]
  },
  {
   "cell_type": "markdown",
   "metadata": {},
   "source": [
    "#### **day**"
   ]
  },
  {
   "cell_type": "markdown",
   "metadata": {},
   "source": [
    "**День публикации объявления (0 - понедельник, 1 - вторник и т.д.)**"
   ]
  },
  {
   "cell_type": "code",
   "execution_count": null,
   "metadata": {},
   "outputs": [],
   "source": [
    "data['day'] = pd.DatetimeIndex(data['first_day_exposition']).weekday\n",
    "print(data['day'].head())"
   ]
  },
  {
   "cell_type": "markdown",
   "metadata": {},
   "source": [
    "#### **month**"
   ]
  },
  {
   "cell_type": "markdown",
   "metadata": {},
   "source": [
    "**Месяц публикации объявления**"
   ]
  },
  {
   "cell_type": "code",
   "execution_count": null,
   "metadata": {},
   "outputs": [],
   "source": [
    "data['month'] = pd.DatetimeIndex(data['first_day_exposition']).month\n",
    "print(data['month'].head())"
   ]
  },
  {
   "cell_type": "markdown",
   "metadata": {},
   "source": [
    "#### **year**"
   ]
  },
  {
   "cell_type": "markdown",
   "metadata": {},
   "source": [
    "**Год публикации объявления**"
   ]
  },
  {
   "cell_type": "code",
   "execution_count": null,
   "metadata": {},
   "outputs": [],
   "source": [
    "data['year'] = pd.DatetimeIndex(data['first_day_exposition']).year\n",
    "print(data['year'].head())"
   ]
  },
  {
   "cell_type": "markdown",
   "metadata": {},
   "source": [
    "#### **floor_type**"
   ]
  },
  {
   "cell_type": "markdown",
   "metadata": {},
   "source": [
    "**Тип этажа квартиры (значения — «первый», «последний», «другой»)**"
   ]
  },
  {
   "cell_type": "code",
   "execution_count": null,
   "metadata": {},
   "outputs": [],
   "source": [
    "data['floor'].describe()"
   ]
  },
  {
   "cell_type": "code",
   "execution_count": null,
   "metadata": {},
   "outputs": [],
   "source": [
    "def floor_identity(floor):\n",
    "    if floor['floor'] == 1:\n",
    "        return 'первый'\n",
    "    elif floor['floor'] == floor['floors_total']:\n",
    "        return 'последний'\n",
    "    else:\n",
    "        return 'другой'\n",
    "\n",
    "data['floor_type'] = data.apply(floor_identity, axis=1)\n",
    "print(data['floor_type'].head())"
   ]
  },
  {
   "cell_type": "markdown",
   "metadata": {},
   "source": [
    "#### **center_km**"
   ]
  },
  {
   "cell_type": "markdown",
   "metadata": {},
   "source": [
    "**Расстояние в км до центра города**"
   ]
  },
  {
   "cell_type": "code",
   "execution_count": null,
   "metadata": {},
   "outputs": [],
   "source": [
    "data['center_km'] = data['cityCenters_nearest'] / 1000\n",
    "\n",
    "print(data['center_km'])"
   ]
  },
  {
   "cell_type": "code",
   "execution_count": null,
   "metadata": {},
   "outputs": [],
   "source": [
    "data['center_km'] = round(data['center_km'])\n",
    "print(data['center_km'].head())"
   ]
  },
  {
   "cell_type": "markdown",
   "metadata": {},
   "source": [
    "***Итог***\n",
    "\n",
    "*В датасет добавлены столбцы цена одного квадратного метра, день публикации объявления (0 - понедельник, 1 - вторник и т.д.), месяц публикации объявления, год публикации объявления, тип этажа квартиры (значения — «первый», «последний», «другой»), расстояние в км до центра города*"
   ]
  },
  {
   "cell_type": "markdown",
   "metadata": {},
   "source": [
    "Убираем лишние столбцы"
   ]
  },
  {
   "cell_type": "code",
   "execution_count": null,
   "metadata": {},
   "outputs": [],
   "source": [
    "data = data.drop('first_day_exposition', axis=1)\n",
    "data = data.drop('last_price', axis=1)\n",
    "data = data.drop('cityCenters_nearest',axis=1)"
   ]
  },
  {
   "cell_type": "markdown",
   "metadata": {},
   "source": [
    "## Доп. Графики"
   ]
  },
  {
   "cell_type": "markdown",
   "metadata": {},
   "source": [
    "### **Матрица корреляций**"
   ]
  },
  {
   "cell_type": "code",
   "execution_count": null,
   "metadata": {},
   "outputs": [],
   "source": [
    "display(data.head())"
   ]
  },
  {
   "cell_type": "code",
   "execution_count": null,
   "metadata": {},
   "outputs": [],
   "source": [
    "data.columns"
   ]
  },
  {
   "cell_type": "code",
   "execution_count": null,
   "metadata": {},
   "outputs": [],
   "source": [
    "int_cols = ['total_area', 'ceiling_height',\\\n",
    "       'living_area', 'kitchen_area', 'airports_nearest',\\\n",
    "       'parks_nearest','ponds_nearest',\\\n",
    "       'last_price_mill', 'price_mkv', 'center_km']\n",
    "\n",
    "matrix = round(data.phik_matrix(interval_cols=int_cols), 2)\n",
    "plt.figure(figsize=(16,12))\n",
    "plt.suptitle('Матрица корреляции признаков')\n",
    "sns.heatmap(matrix, cmap=\"coolwarm\", annot=True)\n",
    "plt.tight_layout();"
   ]
  },
  {
   "cell_type": "markdown",
   "metadata": {},
   "source": [
    "### **floor**"
   ]
  },
  {
   "cell_type": "code",
   "execution_count": null,
   "metadata": {},
   "outputs": [],
   "source": [
    "data['floor'].describe()"
   ]
  },
  {
   "cell_type": "code",
   "execution_count": null,
   "metadata": {},
   "outputs": [],
   "source": [
    "plt.hist(data['floor'], color = 'pink', bins=26, ec=\"black\", lw= 1);\n",
    "plt.title('Этаж')\n",
    "plt.xlabel('Номер этажа')\n",
    "plt.ylabel('Объявления');"
   ]
  },
  {
   "cell_type": "markdown",
   "metadata": {},
   "source": [
    "*Большинство квартир находится на 2 и 3 этажах, большинство квартир находится с 1 по 6 этажи*"
   ]
  },
  {
   "cell_type": "markdown",
   "metadata": {},
   "source": [
    "### **floor_type**"
   ]
  },
  {
   "cell_type": "code",
   "execution_count": null,
   "metadata": {},
   "outputs": [],
   "source": [
    "data['floor_type'].describe()"
   ]
  },
  {
   "cell_type": "code",
   "execution_count": null,
   "metadata": {},
   "outputs": [],
   "source": [
    "plt.hist(data['floor_type'], color = 'pink', bins=5, ec=\"black\", lw= 1);\n",
    "plt.title('Тип этажа')\n",
    "plt.xlabel('Этаж')\n",
    "plt.ylabel('Объявления');"
   ]
  },
  {
   "cell_type": "markdown",
   "metadata": {},
   "source": [
    "*Данный график подтверждает предыдущие выводы, большинство квартир находятся не на первом и не на последнем этажах*"
   ]
  },
  {
   "cell_type": "markdown",
   "metadata": {},
   "source": [
    "### **day**"
   ]
  },
  {
   "cell_type": "code",
   "execution_count": null,
   "metadata": {},
   "outputs": [],
   "source": [
    "plt.hist(data['day'], color = 'pink', bins=13, ec=\"black\", lw= 1);\n",
    "plt.title('День публикации')\n",
    "plt.xlabel('День недели')\n",
    "plt.ylabel('Объявления');"
   ]
  },
  {
   "cell_type": "markdown",
   "metadata": {},
   "source": [
    "*Реже всего объявления размещают в выходные, предполагаю, что это связано с тем, что размещением часто занимаются агенты, а у них рабочая неделя стандартная*"
   ]
  },
  {
   "cell_type": "markdown",
   "metadata": {},
   "source": [
    "### **month**"
   ]
  },
  {
   "cell_type": "code",
   "execution_count": null,
   "metadata": {},
   "outputs": [],
   "source": [
    "plt.hist(data['month'], color = 'pink', bins=23, ec=\"black\", lw= 1);\n",
    "plt.title('Месяц публикации')\n",
    "plt.xlabel('Номер месяца')\n",
    "plt.ylabel('Объявления');"
   ]
  },
  {
   "cell_type": "markdown",
   "metadata": {},
   "source": [
    "*Чаще всего объявления размешают в феврале-марте-апреле, потом спад, а затем снова плавный подъем с пиком в ноябре*"
   ]
  },
  {
   "cell_type": "markdown",
   "metadata": {},
   "source": [
    "### **days_exposition**"
   ]
  },
  {
   "cell_type": "code",
   "execution_count": null,
   "metadata": {},
   "outputs": [],
   "source": [
    "data['days_exposition'].describe()"
   ]
  },
  {
   "cell_type": "code",
   "execution_count": null,
   "metadata": {},
   "outputs": [],
   "source": [
    "plt.hist(data['days_exposition'], color = 'pink', bins=49, ec=\"black\", lw= 1);\n",
    "plt.title('Время объявления')\n",
    "plt.xlabel('Количество дней')\n",
    "plt.ylabel('Объявления');"
   ]
  },
  {
   "cell_type": "code",
   "execution_count": null,
   "metadata": {},
   "outputs": [],
   "source": [
    "plt.figure(figsize=(15,3));\n",
    "plt.hist(data['days_exposition'], color = 'pink', bins=74, ec=\"black\", lw= 1, range=(25, 100));\n",
    "plt.title('Время объявления, в масштабе')\n",
    "plt.xlabel('Количество дней')\n",
    "plt.ylabel('Объекты');"
   ]
  },
  {
   "cell_type": "markdown",
   "metadata": {},
   "source": [
    "*Пики в 45, 60 и 90 дней, далее становится ясно почему*"
   ]
  },
  {
   "cell_type": "code",
   "execution_count": null,
   "metadata": {},
   "outputs": [],
   "source": [
    "days_mean = data.pivot_table(index='year', values='days_exposition', aggfunc=['count','mean'])\n",
    "days_mean.columns = ['count', 'mean']\n",
    "print(days_mean)"
   ]
  },
  {
   "cell_type": "markdown",
   "metadata": {},
   "source": [
    "*То есть больше всего объявлений за 2017 и 2018ые года, и меньше всего висят объявления 2019 года? Может он просто еще не закончился, когда выгружали датасет*"
   ]
  },
  {
   "cell_type": "code",
   "execution_count": null,
   "metadata": {},
   "outputs": [],
   "source": [
    "dem = data['days_exposition'].mode()\n",
    "print(dem)"
   ]
  },
  {
   "attachments": {
    "image.png": {
     "image/png": "[encoded data removed]"
    }
   },
   "cell_type": "markdown",
   "metadata": {},
   "source": [
    "![image.png](attachment:image.png)"
   ]
  },
  {
   "cell_type": "markdown",
   "metadata": {},
   "source": [
    "*Условия сроков публикации объявлений вносят ясности, то есть квартиры до 4.5млн висит до 45 дней, до 10млн - 60 дней, от 10млн - 90 дней. И получается либо продается за этот срок, либо заново публикуется. Из моды по данному столбцу также ясно, что большинство квартир стоят до 4.5млн*"
   ]
  },
  {
   "cell_type": "markdown",
   "metadata": {},
   "source": [
    "### Влияния"
   ]
  },
  {
   "cell_type": "markdown",
   "metadata": {},
   "source": [
    "*Сначла соберу все необходимые данные в отдельную таблицу*"
   ]
  },
  {
   "cell_type": "code",
   "execution_count": null,
   "metadata": {},
   "outputs": [],
   "source": [
    "corr_data = data[['last_price_mill', 'total_area', 'living_area', 'kitchen_area', 'rooms', 'floor_type','day','month', 'year']]\n",
    "display(corr_data.head())"
   ]
  },
  {
   "cell_type": "markdown",
   "metadata": {},
   "source": [
    "#### *'last_price_mill' и 'total_area'*"
   ]
  },
  {
   "cell_type": "code",
   "execution_count": null,
   "metadata": {
    "scrolled": false
   },
   "outputs": [],
   "source": [
    "corr_data.plot(x='total_area', y='last_price_mill', kind='scatter',alpha=0.6,\\\n",
    "              edgecolor='black', linewidth=1, c='last_price_mill', cmap='Set1');\n",
    "plt.xlabel('Общая площадь')\n",
    "plt.ylabel('Цена в мл.')\n",
    "plt.title('Цена и общая площадь');"
   ]
  },
  {
   "cell_type": "code",
   "execution_count": null,
   "metadata": {
    "scrolled": true
   },
   "outputs": [],
   "source": [
    "data['last_price_mill'].corr(data['total_area'])"
   ]
  },
  {
   "cell_type": "markdown",
   "metadata": {},
   "source": [
    "*Видно, что цена достаточно явно зависит от общей площади объекта, корреляция почти в 0,75 - это сильная корреляция*"
   ]
  },
  {
   "cell_type": "markdown",
   "metadata": {},
   "source": [
    "#### *'last_price' и 'living_area'*"
   ]
  },
  {
   "cell_type": "code",
   "execution_count": null,
   "metadata": {},
   "outputs": [],
   "source": [
    "corr_data.plot(x='living_area', y='last_price_mill', kind='scatter', alpha=0.6, \\\n",
    "              edgecolor='black', linewidth=1, c='last_price_mill', cmap='Set1');\n",
    "plt.xlabel('Жилая площадь')\n",
    "plt.ylabel('Цена в мл.')\n",
    "plt.title('Цена и жилая площадь');"
   ]
  },
  {
   "cell_type": "code",
   "execution_count": null,
   "metadata": {},
   "outputs": [],
   "source": [
    "data['last_price_mill'].corr(data['living_area'])"
   ]
  },
  {
   "cell_type": "markdown",
   "metadata": {},
   "source": [
    "*Чуть меньше зависит цена от метража жилой площади, корреляция в 0,64*"
   ]
  },
  {
   "cell_type": "markdown",
   "metadata": {},
   "source": [
    "#### *'last_price' и 'kitchen_area'*"
   ]
  },
  {
   "cell_type": "code",
   "execution_count": null,
   "metadata": {},
   "outputs": [],
   "source": [
    "corr_data.plot(x='kitchen_area', y='last_price_mill', kind='scatter', alpha=0.6, \\\n",
    "              edgecolor='black', linewidth=1, c='last_price_mill', cmap='Set1');\n",
    "plt.xlabel('Площадь кухни')\n",
    "plt.ylabel('Цена в мл.')\n",
    "plt.title('Цена и площадь кухни');"
   ]
  },
  {
   "cell_type": "code",
   "execution_count": null,
   "metadata": {},
   "outputs": [],
   "source": [
    "data['last_price_mill'].corr(data['kitchen_area'])"
   ]
  },
  {
   "cell_type": "markdown",
   "metadata": {},
   "source": [
    "*Еще меньше цена зависит от площади кухни, но все равно зависимость ненулева, значит люди все таки смотрят на размер кухни*"
   ]
  },
  {
   "cell_type": "markdown",
   "metadata": {},
   "source": [
    "#### *'last_price' и 'rooms'*"
   ]
  },
  {
   "cell_type": "code",
   "execution_count": null,
   "metadata": {},
   "outputs": [],
   "source": [
    "corr_data.plot(x='rooms', y='last_price_mill', kind='scatter', alpha=0.6, \\\n",
    "              edgecolor='black', linewidth=1, c='last_price_mill', cmap='Set1');\n",
    "plt.xlabel('Количество комнат')\n",
    "plt.ylabel('Цена в мл.')\n",
    "plt.title('Количество комнат и цена');"
   ]
  },
  {
   "cell_type": "markdown",
   "metadata": {},
   "source": [
    "*Квартиры без комнат (студии) обычно не стоят выше 10 мл. Квартиры с одной комнатой обычно не стоят выше 30 мл, но есть объявления и за 40 мл. Квартиры с двумя комнатами уже могут стоить и 55 мл., но самые дорогие квартиры - с 4 комнатами. Много квартир с 3 комнатами стоят около 30 мл. Странно что квартиры с 7 комнатами не стоят выше 30 мл, но и ниже 10 мл они тоже не стоят*"
   ]
  },
  {
   "cell_type": "markdown",
   "metadata": {},
   "source": [
    "#### *'last_price' и 'floor_type'*"
   ]
  },
  {
   "cell_type": "code",
   "execution_count": null,
   "metadata": {},
   "outputs": [],
   "source": [
    "corr_data.plot(x='floor_type', y='last_price_mill', kind='scatter', alpha=0.6, \\\n",
    "              edgecolor='black', linewidth=1, c='last_price_mill', cmap='Set1');\n",
    "plt.xlabel('Тип этажа')\n",
    "plt.ylabel('Цена в мл.')\n",
    "plt.title('Цена и тип этажа');"
   ]
  },
  {
   "cell_type": "markdown",
   "metadata": {},
   "source": [
    "*Среди цен за первый и за последний этаж меньше высоких, в основном высокие цены за квартиры на других этажах*"
   ]
  },
  {
   "cell_type": "markdown",
   "metadata": {},
   "source": [
    "#### *'last_price' и 'day'*"
   ]
  },
  {
   "cell_type": "code",
   "execution_count": null,
   "metadata": {},
   "outputs": [],
   "source": [
    "corr_data.plot(x='day', y='last_price_mill', kind='scatter', alpha=0.6, \\\n",
    "              edgecolor='black', linewidth=1, c='last_price_mill', cmap='Set1');\n",
    "plt.xlabel('День недели')\n",
    "plt.ylabel('Цена в мл.')\n",
    "plt.title('Цена и день публикации');"
   ]
  },
  {
   "cell_type": "markdown",
   "metadata": {},
   "source": [
    "*Цена не зависит от дня недели размещения объявления, хотя объявления выставленные в воскресенье не имеют таких высоких цен*"
   ]
  },
  {
   "cell_type": "markdown",
   "metadata": {},
   "source": [
    "####  *'last_price' и 'month'*"
   ]
  },
  {
   "cell_type": "code",
   "execution_count": null,
   "metadata": {},
   "outputs": [],
   "source": [
    "corr_data.plot(x='month', y='last_price_mill', kind='scatter', alpha=0.6, \\\n",
    "              edgecolor='black', linewidth=1, c='last_price_mill', cmap='Set1');\n",
    "plt.xlabel('Месяц')\n",
    "plt.ylabel('Цена в мл.')\n",
    "plt.title('Цена и месяц публикации');"
   ]
  },
  {
   "cell_type": "markdown",
   "metadata": {},
   "source": [
    "*Цена также не зависит от месяца размещения объявления*"
   ]
  },
  {
   "cell_type": "markdown",
   "metadata": {},
   "source": [
    "#### *'last_price' и 'year'*"
   ]
  },
  {
   "cell_type": "code",
   "execution_count": null,
   "metadata": {},
   "outputs": [],
   "source": [
    "corr_data.plot(x='year', y='last_price_mill', kind='scatter', alpha=0.6, \\\n",
    "              edgecolor='black', linewidth=1, c='last_price_mill', cmap='Set1');\n",
    "plt.xlabel('Год')\n",
    "plt.ylabel('Цена в мл.')\n",
    "plt.title('Цена и год публикации');"
   ]
  },
  {
   "cell_type": "markdown",
   "metadata": {},
   "source": [
    "*Похоже что старые квартиры стоят меньше, а самые дорогие квартиры были выставлены в 2016 году*"
   ]
  },
  {
   "cell_type": "markdown",
   "metadata": {},
   "source": [
    "### Доп. расчеты"
   ]
  },
  {
   "cell_type": "markdown",
   "metadata": {},
   "source": [
    "**Посчитаем среднюю цену одного квадратного метра в 10 населённых пунктах с наибольшим числом объявлений и выделим населённые пункты с самой высокой и низкой стоимостью квадратного метра.**"
   ]
  },
  {
   "cell_type": "markdown",
   "metadata": {},
   "source": [
    "*Сначала посчитаю города в которых больше всего объявлений*"
   ]
  },
  {
   "cell_type": "code",
   "execution_count": null,
   "metadata": {},
   "outputs": [],
   "source": [
    "loc_freq = data['locality_name'].value_counts()\n",
    "print(loc_freq.head(10))"
   ]
  },
  {
   "cell_type": "markdown",
   "metadata": {},
   "source": [
    "*Создам отдельную переменную, чтобы потом к ней обратиться и сделаю срез с значениями только по нужным городам*"
   ]
  },
  {
   "cell_type": "code",
   "execution_count": null,
   "metadata": {
    "scrolled": true
   },
   "outputs": [],
   "source": [
    "loc_freq_ten = ['Санкт-Петербург', 'Мурино', 'Кудрово', 'поселок Шушары', 'Всеволожск', 'Пушкин', \\\n",
    "                'Колпино', 'поселок Парголово', 'Гатчина', 'Выборг']\n",
    "data_ten = data.query('locality_name in @loc_freq_ten')\n",
    "display(data_ten.head(10))"
   ]
  },
  {
   "cell_type": "markdown",
   "metadata": {},
   "source": [
    "*Выберу из этой таблицы только нужные для подсчета столбцы*"
   ]
  },
  {
   "cell_type": "code",
   "execution_count": null,
   "metadata": {},
   "outputs": [],
   "source": [
    "data_ten = data_ten[['locality_name', 'price_mkv']]\n",
    "print(data_ten.head())"
   ]
  },
  {
   "cell_type": "markdown",
   "metadata": {},
   "source": [
    "*Расчитаю среднее значение цены за м.кв. по каждому населенному пункту*"
   ]
  },
  {
   "cell_type": "code",
   "execution_count": null,
   "metadata": {},
   "outputs": [],
   "source": [
    "data_ten_table = round(data_ten.pivot_table(index='locality_name', values='price_mkv', aggfunc='mean'),1)\n",
    "display(data_ten_table)"
   ]
  },
  {
   "cell_type": "code",
   "execution_count": null,
   "metadata": {},
   "outputs": [],
   "source": [
    "data_ten_table = data_ten_table.reset_index()\n",
    "data_ten_table.columns = ['locality_name', 'price_mkv']\n",
    "display(data_ten_table)"
   ]
  },
  {
   "cell_type": "code",
   "execution_count": null,
   "metadata": {},
   "outputs": [],
   "source": [
    "data_ten_table = data_ten_table.sort_values('price_mkv', ascending=False)"
   ]
  },
  {
   "cell_type": "code",
   "execution_count": null,
   "metadata": {},
   "outputs": [],
   "source": [
    "plt.figure(figsize=(15,6.5))\n",
    "sns.set_style('darkgrid')\n",
    "g = sns.barplot(data=data_ten_table, x='locality_name', y='price_mkv', ci=False, palette='viridis');\n",
    "g.set_xticklabels(data_ten_table['locality_name'], rotation=55, fontdict={'fontsize':10});\n",
    "plt.xlabel('Город')\n",
    "plt.ylabel('Цена за кв.м.')\n",
    "plt.title('Города по цене за м.кв.')\n",
    "plt.show();"
   ]
  },
  {
   "cell_type": "markdown",
   "metadata": {},
   "source": [
    "*Вывод:*\n",
    "\n",
    "1) В Санкт-петербурге самая высокая средняя стоимость квадратного метра недвижимости, в Пушкине тоже получается достаточно высокая\n",
    "\n",
    "2) В Выборге получается самая низкая средняя стоимость квадратного метра"
   ]
  },
  {
   "cell_type": "markdown",
   "metadata": {},
   "source": [
    "**Теперь можно вычислить среднюю цену каждого километра**"
   ]
  },
  {
   "cell_type": "markdown",
   "metadata": {},
   "source": [
    "*Смотрю на выброс на 27 км*"
   ]
  },
  {
   "cell_type": "code",
   "execution_count": null,
   "metadata": {
    "scrolled": true
   },
   "outputs": [],
   "source": [
    "display(data[(data['center_km'] == 27) & (data['locality_name'] == 'Санкт-Петербург')])"
   ]
  },
  {
   "cell_type": "markdown",
   "metadata": {},
   "source": [
    "*за 74 м.кв. цена в 14 миллионов не выглядит адекватно, так что придется выбросить это значение* "
   ]
  },
  {
   "cell_type": "code",
   "execution_count": null,
   "metadata": {},
   "outputs": [],
   "source": [
    "data = data.drop(index = data.query('center_km == 27 and last_price_mill == 14.35').index)\n",
    "display(data[(data['center_km'] == 27) & (data['locality_name'] == 'Санкт-Петербург')])"
   ]
  },
  {
   "cell_type": "markdown",
   "metadata": {},
   "source": [
    "*выберем только данные по СПб, а также выберем только нужные нам столбцы - это цена и расстояние в км до центра*"
   ]
  },
  {
   "cell_type": "code",
   "execution_count": null,
   "metadata": {},
   "outputs": [],
   "source": [
    "data_saint_p = data.loc[data['locality_name'] == 'Санкт-Петербург']\n",
    "data_saint_pp = data_saint_p[['locality_name', 'center_km', 'last_price_mill', 'price_mkv']]\n",
    "display(data_saint_pp.head())"
   ]
  },
  {
   "cell_type": "markdown",
   "metadata": {},
   "source": [
    "*Создадим новый столбец для цены каждого км от центра города*"
   ]
  },
  {
   "cell_type": "markdown",
   "metadata": {},
   "source": [
    "*Построю дополнительный столбец с количеством объявлений на каждом километре, чтобы разобраться что происходит на 3 и 5 км*"
   ]
  },
  {
   "cell_type": "code",
   "execution_count": null,
   "metadata": {},
   "outputs": [],
   "source": [
    "dsppt = data_saint_pp.pivot_table(index='center_km', values='price_mkv', aggfunc=['count', 'mean'])\n",
    "dsppt = dsppt.reset_index()\n",
    "dsppt.columns = ['center_km', 'count_price_mkv', 'mean_price_mkv']\n",
    "display(dsppt)"
   ]
  },
  {
   "cell_type": "code",
   "execution_count": null,
   "metadata": {},
   "outputs": [],
   "source": [
    "dsppt.plot(x='center_km', y='count_price_mkv', kind='scatter',\\\n",
    "           edgecolor='black', linewidth=1, c='mean_price_mkv', cmap='Set1');\n",
    "plt.xlabel('Расстояние до центра города, км')\n",
    "plt.ylabel('Количество объявлений')\n",
    "plt.title('Средняя цена за кв.м. и расстояние до центра');"
   ]
  },
  {
   "cell_type": "markdown",
   "metadata": {},
   "source": [
    "*Из графика видно, что: большинство объявлений о квартирах на 10-17 км от центра.Очень дорогое жилье прямо в центре, затем идет достаточно резкий спад цены, а количество объявлений растет вплоть до 15 км от центра, затем количество объявлений падает и цена тоже*"
   ]
  },
  {
   "cell_type": "code",
   "execution_count": null,
   "metadata": {},
   "outputs": [],
   "source": [
    "dsppt.plot(x='center_km', y='mean_price_mkv', kind='scatter', \\\n",
    "              edgecolor='black', linewidth=1, c='mean_price_mkv', cmap='Set1');\n",
    "plt.xlabel('Расстояние до центра города, км')\n",
    "plt.ylabel('Средняя цена')\n",
    "plt.title('Отношение средней цена за км и км от центра города');"
   ]
  },
  {
   "cell_type": "markdown",
   "metadata": {},
   "source": [
    "*Этот график без параметра количества объявлений и на нем очень хорошо видно как снижается цена при удалении от центра города. Есть интересная аномалия примерно на 3 км  от центра, где есть квартиры средняя цена за кв.м. ниже ожидаемой, может быть это коммунальное жилье?*"
   ]
  },
  {
   "cell_type": "code",
   "execution_count": null,
   "metadata": {},
   "outputs": [],
   "source": [
    "data_saint_pp['last_price_mill'].corr(data_saint_p['center_km'])"
   ]
  },
  {
   "cell_type": "markdown",
   "metadata": {},
   "source": [
    "*То есть цена кв.м. слегка снижается с каждым километром от центра города*"
   ]
  },
  {
   "cell_type": "markdown",
   "metadata": {},
   "source": [
    "## Общий вывод"
   ]
  },
  {
   "cell_type": "markdown",
   "metadata": {},
   "source": [
    "**В результате исследования мы узнали, что:**\n",
    "\n",
    "* Апартаменты встречаются достаточно редко\n",
    "\n",
    "* В основном балконов нет, 1 и 2 балкона в квартире встречаются примерно равное количество раз, больше – реже.\n",
    "\n",
    "* Средняя общая площадь - 57 м.кв., а медианное значение - 50, несильный разброс. Большинство объектов недвижимости находятся в пределах от 27 до 75 м.кв.\n",
    "\n",
    "* Среднее по жилой площади - 32.5 м.кв., медианное значение - 29.8. Явный пик до 20 кв.м. и небольшой пик примерно на 30 кв.м.\n",
    "\n",
    "* Средняя площадь кухни - 10 м.кв, а медианное значение - 9,2 м.кв. Большинство кухонь находится в диапазоне от ~ 6 до 12 м.кв. С большим пиком на 10 кв.м Большинство кухонь, видимо 7, 9 и 11 м.кв.\n",
    "\n",
    "*В датасет добавлены столбцы цена одного квадратного метра, день публикации объявления (0 - понедельник, 1 - вторник и т.д.), месяц публикации объявления, год публикации объявления, тип этажа квартиры (значения — «первый», «последний», «другой»), расстояние в км до центра города.*\n",
    "\n",
    "* В среднем количество комнат равно двум, большинство объектов имеют либо 1, либо 2, либо 3 комнаты.\n",
    "\n",
    "* В среднем высота потолка это 2,6 м.\n",
    "\n",
    "* Большинство квартир находится на 2 и 3 этажах.\n",
    "\n",
    "* Большинство объектов располагаются либо в зданиях с 5 этажами, либо с 9.\n",
    "\n",
    "* Большинство объектов находятся на удалении от 10 до 17 км от центра города.\n",
    "\n",
    "* Чаще всего ближайший парк находится в 400 - 600 метров от объекта, но самих данных мало, поэтому сложно сказать насколько это репрезентативные данные.\n",
    "\n",
    "* Реже всего объявления размещают в выходные, предполагаю, что это связано с тем, что размещением часто занимаются агенты, а у них рабочая неделя стандартная.\n",
    "\n",
    "* Чаще всего объявления размешают в феврале-марте-апреле, потом спад, а затем снова плавный подъем с пиком в ноябре\n",
    "Обычно продажа занимает до 100 дней. Условно быстрая продажа — это примерно до 43 дней. Очень долгая - от 207 дней и далее. Особо сложные случаи - около двух лет.\n",
    "\n",
    "* Больше всего объявлений за 2017 и 2018ые года, и меньше всего висят объявления 2019 года -  может он просто еще не закончился, когда выгружали датасет.\n",
    "\n",
    "* Цена сильно зависит от: общей площади, чуть меньше от жилой площади, еще меньше от метража кухни. \n",
    "\n",
    "* Чем больше комнат, тем выше нижний порог цены, но и среди одинакового количества комнат есть и дорогие и подешевле квартиры, возможно площадь комнат и расположение имеют вес.\n",
    "\n",
    "* Среди цен за первый и за последний этаж меньше высоких, в основном высокие цены за квартиры на остальных этажах.\n",
    "\n",
    "* Цена не зависит от дня недели размещения объявления, хотя объявления выставленные в воскресенье не имеют таких высоких цен. Цена также не зависит от месяца размещения объявления и не зависит от года размещения объявления, хотя в 2015 и 2016 году были выставлены дорогие квартиры на продажу, может это связано с экономической ситуацией.\n",
    "\n",
    "* В Санкт-петербурге самая высокая средняя стоимость квадратного метра недвижимости, в Пушкине и Кудрово тоже получается достаточно высокая. В Выборге получается самая низкая средняя стоимость квадратного метра.\n",
    "\n",
    "* Большинство объявлений о квартирах на 10-17 км от центра. На 3 км цена резко ниже, чем на предыдущем, потом до 7 км снова растет, потом снова падает.\n",
    "\n",
    "* Чем дальше от центра тем меньше стоит кв.м. недвижимости.\n"
   ]
  }
 ],
 "metadata": {
  "ExecuteTimeLog": [
   {
    "duration": 1067,
    "start_time": "2022-10-28T01:19:04.324Z"
   },
   {
    "duration": 125,
    "start_time": "2022-10-28T01:19:05.392Z"
   },
   {
    "duration": 0,
    "start_time": "2022-10-28T01:19:05.522Z"
   },
   {
    "duration": 0,
    "start_time": "2022-10-28T01:19:05.523Z"
   },
   {
    "duration": 0,
    "start_time": "2022-10-28T01:19:05.524Z"
   },
   {
    "duration": 0,
    "start_time": "2022-10-28T01:19:05.525Z"
   },
   {
    "duration": 0,
    "start_time": "2022-10-28T01:19:05.527Z"
   },
   {
    "duration": 0,
    "start_time": "2022-10-28T01:19:05.528Z"
   },
   {
    "duration": 0,
    "start_time": "2022-10-28T01:19:05.529Z"
   },
   {
    "duration": 0,
    "start_time": "2022-10-28T01:19:05.530Z"
   },
   {
    "duration": 0,
    "start_time": "2022-10-28T01:19:05.531Z"
   },
   {
    "duration": 0,
    "start_time": "2022-10-28T01:19:05.532Z"
   },
   {
    "duration": 0,
    "start_time": "2022-10-28T01:19:05.534Z"
   },
   {
    "duration": 0,
    "start_time": "2022-10-28T01:19:05.535Z"
   },
   {
    "duration": 0,
    "start_time": "2022-10-28T01:19:05.536Z"
   },
   {
    "duration": 0,
    "start_time": "2022-10-28T01:19:05.537Z"
   },
   {
    "duration": 0,
    "start_time": "2022-10-28T01:19:05.538Z"
   },
   {
    "duration": 0,
    "start_time": "2022-10-28T01:19:05.540Z"
   },
   {
    "duration": 0,
    "start_time": "2022-10-28T01:19:05.541Z"
   },
   {
    "duration": 0,
    "start_time": "2022-10-28T01:19:05.542Z"
   },
   {
    "duration": 0,
    "start_time": "2022-10-28T01:19:05.544Z"
   },
   {
    "duration": 0,
    "start_time": "2022-10-28T01:19:05.545Z"
   },
   {
    "duration": 0,
    "start_time": "2022-10-28T01:19:05.546Z"
   },
   {
    "duration": 0,
    "start_time": "2022-10-28T01:19:05.547Z"
   },
   {
    "duration": 0,
    "start_time": "2022-10-28T01:19:05.548Z"
   },
   {
    "duration": 0,
    "start_time": "2022-10-28T01:19:05.549Z"
   },
   {
    "duration": 0,
    "start_time": "2022-10-28T01:19:05.550Z"
   },
   {
    "duration": 0,
    "start_time": "2022-10-28T01:19:05.550Z"
   },
   {
    "duration": 0,
    "start_time": "2022-10-28T01:19:05.551Z"
   },
   {
    "duration": 0,
    "start_time": "2022-10-28T01:19:05.552Z"
   },
   {
    "duration": 0,
    "start_time": "2022-10-28T01:19:05.553Z"
   },
   {
    "duration": 0,
    "start_time": "2022-10-28T01:19:05.605Z"
   },
   {
    "duration": 0,
    "start_time": "2022-10-28T01:19:05.606Z"
   },
   {
    "duration": 0,
    "start_time": "2022-10-28T01:19:05.607Z"
   },
   {
    "duration": 0,
    "start_time": "2022-10-28T01:19:05.608Z"
   },
   {
    "duration": 0,
    "start_time": "2022-10-28T01:19:05.609Z"
   },
   {
    "duration": 0,
    "start_time": "2022-10-28T01:19:05.610Z"
   },
   {
    "duration": 0,
    "start_time": "2022-10-28T01:19:05.611Z"
   },
   {
    "duration": 0,
    "start_time": "2022-10-28T01:19:05.611Z"
   },
   {
    "duration": 0,
    "start_time": "2022-10-28T01:19:05.612Z"
   },
   {
    "duration": 0,
    "start_time": "2022-10-28T01:19:05.613Z"
   },
   {
    "duration": 0,
    "start_time": "2022-10-28T01:19:05.614Z"
   },
   {
    "duration": 0,
    "start_time": "2022-10-28T01:19:05.614Z"
   },
   {
    "duration": 0,
    "start_time": "2022-10-28T01:19:05.615Z"
   },
   {
    "duration": 0,
    "start_time": "2022-10-28T01:19:05.616Z"
   },
   {
    "duration": 0,
    "start_time": "2022-10-28T01:19:05.617Z"
   },
   {
    "duration": 0,
    "start_time": "2022-10-28T01:19:05.618Z"
   },
   {
    "duration": 0,
    "start_time": "2022-10-28T01:19:05.618Z"
   },
   {
    "duration": 0,
    "start_time": "2022-10-28T01:19:05.619Z"
   },
   {
    "duration": 0,
    "start_time": "2022-10-28T01:19:05.620Z"
   },
   {
    "duration": 0,
    "start_time": "2022-10-28T01:19:05.621Z"
   },
   {
    "duration": 0,
    "start_time": "2022-10-28T01:19:05.622Z"
   },
   {
    "duration": 0,
    "start_time": "2022-10-28T01:19:05.623Z"
   },
   {
    "duration": 0,
    "start_time": "2022-10-28T01:19:05.624Z"
   },
   {
    "duration": 0,
    "start_time": "2022-10-28T01:19:05.624Z"
   },
   {
    "duration": 0,
    "start_time": "2022-10-28T01:19:05.625Z"
   },
   {
    "duration": 0,
    "start_time": "2022-10-28T01:19:05.626Z"
   },
   {
    "duration": 0,
    "start_time": "2022-10-28T01:19:05.627Z"
   },
   {
    "duration": 0,
    "start_time": "2022-10-28T01:19:05.628Z"
   },
   {
    "duration": 0,
    "start_time": "2022-10-28T01:19:05.629Z"
   },
   {
    "duration": 0,
    "start_time": "2022-10-28T01:19:05.630Z"
   },
   {
    "duration": 0,
    "start_time": "2022-10-28T01:19:05.631Z"
   },
   {
    "duration": 0,
    "start_time": "2022-10-28T01:19:05.631Z"
   },
   {
    "duration": 0,
    "start_time": "2022-10-28T01:19:05.632Z"
   },
   {
    "duration": 0,
    "start_time": "2022-10-28T01:19:05.633Z"
   },
   {
    "duration": 0,
    "start_time": "2022-10-28T01:19:05.634Z"
   },
   {
    "duration": 0,
    "start_time": "2022-10-28T01:19:05.635Z"
   },
   {
    "duration": 0,
    "start_time": "2022-10-28T01:19:05.636Z"
   },
   {
    "duration": 0,
    "start_time": "2022-10-28T01:19:05.636Z"
   },
   {
    "duration": 0,
    "start_time": "2022-10-28T01:19:05.637Z"
   },
   {
    "duration": 0,
    "start_time": "2022-10-28T01:19:05.638Z"
   },
   {
    "duration": 0,
    "start_time": "2022-10-28T01:19:05.639Z"
   },
   {
    "duration": 0,
    "start_time": "2022-10-28T01:19:05.640Z"
   },
   {
    "duration": 0,
    "start_time": "2022-10-28T01:19:05.641Z"
   },
   {
    "duration": 0,
    "start_time": "2022-10-28T01:19:05.641Z"
   },
   {
    "duration": 0,
    "start_time": "2022-10-28T01:19:05.643Z"
   },
   {
    "duration": 0,
    "start_time": "2022-10-28T01:19:05.706Z"
   },
   {
    "duration": 0,
    "start_time": "2022-10-28T01:19:05.707Z"
   },
   {
    "duration": 0,
    "start_time": "2022-10-28T01:19:05.708Z"
   },
   {
    "duration": 0,
    "start_time": "2022-10-28T01:19:05.709Z"
   },
   {
    "duration": 0,
    "start_time": "2022-10-28T01:19:05.710Z"
   },
   {
    "duration": 0,
    "start_time": "2022-10-28T01:19:05.711Z"
   },
   {
    "duration": 0,
    "start_time": "2022-10-28T01:19:05.712Z"
   },
   {
    "duration": 0,
    "start_time": "2022-10-28T01:19:05.712Z"
   },
   {
    "duration": 0,
    "start_time": "2022-10-28T01:19:05.713Z"
   },
   {
    "duration": 0,
    "start_time": "2022-10-28T01:19:05.714Z"
   },
   {
    "duration": 0,
    "start_time": "2022-10-28T01:19:05.715Z"
   },
   {
    "duration": 0,
    "start_time": "2022-10-28T01:19:05.716Z"
   },
   {
    "duration": 0,
    "start_time": "2022-10-28T01:19:05.717Z"
   },
   {
    "duration": 0,
    "start_time": "2022-10-28T01:19:05.718Z"
   },
   {
    "duration": 0,
    "start_time": "2022-10-28T01:19:05.719Z"
   },
   {
    "duration": 0,
    "start_time": "2022-10-28T01:19:05.720Z"
   },
   {
    "duration": 0,
    "start_time": "2022-10-28T01:19:05.721Z"
   },
   {
    "duration": 0,
    "start_time": "2022-10-28T01:19:05.722Z"
   },
   {
    "duration": 0,
    "start_time": "2022-10-28T01:19:05.723Z"
   },
   {
    "duration": 0,
    "start_time": "2022-10-28T01:19:05.723Z"
   },
   {
    "duration": 0,
    "start_time": "2022-10-28T01:19:05.724Z"
   },
   {
    "duration": 0,
    "start_time": "2022-10-28T01:19:05.725Z"
   },
   {
    "duration": 0,
    "start_time": "2022-10-28T01:19:05.726Z"
   },
   {
    "duration": 0,
    "start_time": "2022-10-28T01:19:05.727Z"
   },
   {
    "duration": 0,
    "start_time": "2022-10-28T01:19:05.728Z"
   },
   {
    "duration": 0,
    "start_time": "2022-10-28T01:19:05.729Z"
   },
   {
    "duration": 0,
    "start_time": "2022-10-28T01:19:05.730Z"
   },
   {
    "duration": 0,
    "start_time": "2022-10-28T01:19:05.731Z"
   },
   {
    "duration": 0,
    "start_time": "2022-10-28T01:19:05.732Z"
   },
   {
    "duration": 0,
    "start_time": "2022-10-28T01:19:05.733Z"
   },
   {
    "duration": 0,
    "start_time": "2022-10-28T01:19:05.734Z"
   },
   {
    "duration": 0,
    "start_time": "2022-10-28T01:19:05.735Z"
   },
   {
    "duration": 0,
    "start_time": "2022-10-28T01:19:05.735Z"
   },
   {
    "duration": 0,
    "start_time": "2022-10-28T01:19:05.736Z"
   },
   {
    "duration": 2,
    "start_time": "2022-10-28T01:24:19.378Z"
   },
   {
    "duration": 1094,
    "start_time": "2022-10-28T01:25:05.003Z"
   },
   {
    "duration": 88,
    "start_time": "2022-10-28T01:25:06.099Z"
   },
   {
    "duration": 7,
    "start_time": "2022-10-28T01:25:06.189Z"
   },
   {
    "duration": 19,
    "start_time": "2022-10-28T01:25:06.197Z"
   },
   {
    "duration": 14,
    "start_time": "2022-10-28T01:25:06.219Z"
   },
   {
    "duration": 49,
    "start_time": "2022-10-28T01:25:06.235Z"
   },
   {
    "duration": 1679,
    "start_time": "2022-10-28T01:25:06.285Z"
   },
   {
    "duration": 11,
    "start_time": "2022-10-28T01:25:07.966Z"
   },
   {
    "duration": 26,
    "start_time": "2022-10-28T01:25:07.978Z"
   },
   {
    "duration": 25,
    "start_time": "2022-10-28T01:25:08.006Z"
   },
   {
    "duration": 20,
    "start_time": "2022-10-28T01:25:08.032Z"
   },
   {
    "duration": 21,
    "start_time": "2022-10-28T01:25:08.053Z"
   },
   {
    "duration": 23,
    "start_time": "2022-10-28T01:25:08.076Z"
   },
   {
    "duration": 17,
    "start_time": "2022-10-28T01:25:08.101Z"
   },
   {
    "duration": 24,
    "start_time": "2022-10-28T01:25:08.119Z"
   },
   {
    "duration": 17,
    "start_time": "2022-10-28T01:25:08.144Z"
   },
   {
    "duration": 115,
    "start_time": "2022-10-28T01:25:08.162Z"
   },
   {
    "duration": 147,
    "start_time": "2022-10-28T01:25:08.279Z"
   },
   {
    "duration": 25,
    "start_time": "2022-10-28T01:25:08.428Z"
   },
   {
    "duration": 8,
    "start_time": "2022-10-28T01:25:08.454Z"
   },
   {
    "duration": 161,
    "start_time": "2022-10-28T01:25:08.463Z"
   },
   {
    "duration": 5,
    "start_time": "2022-10-28T01:25:08.626Z"
   },
   {
    "duration": 19,
    "start_time": "2022-10-28T01:25:08.633Z"
   },
   {
    "duration": 156,
    "start_time": "2022-10-28T01:25:08.654Z"
   },
   {
    "duration": 7,
    "start_time": "2022-10-28T01:25:08.812Z"
   },
   {
    "duration": 40,
    "start_time": "2022-10-28T01:25:08.821Z"
   },
   {
    "duration": 14,
    "start_time": "2022-10-28T01:25:08.862Z"
   },
   {
    "duration": 23,
    "start_time": "2022-10-28T01:25:08.877Z"
   },
   {
    "duration": 143,
    "start_time": "2022-10-28T01:25:08.901Z"
   },
   {
    "duration": 140,
    "start_time": "2022-10-28T01:25:09.046Z"
   },
   {
    "duration": 4,
    "start_time": "2022-10-28T01:25:09.188Z"
   },
   {
    "duration": 4,
    "start_time": "2022-10-28T01:25:09.204Z"
   },
   {
    "duration": 22,
    "start_time": "2022-10-28T01:25:09.209Z"
   },
   {
    "duration": 41,
    "start_time": "2022-10-28T01:25:09.233Z"
   },
   {
    "duration": 9,
    "start_time": "2022-10-28T01:25:09.276Z"
   },
   {
    "duration": 27,
    "start_time": "2022-10-28T01:25:09.286Z"
   },
   {
    "duration": 60,
    "start_time": "2022-10-28T01:25:09.314Z"
   },
   {
    "duration": 7,
    "start_time": "2022-10-28T01:25:09.376Z"
   },
   {
    "duration": 19,
    "start_time": "2022-10-28T01:25:09.384Z"
   },
   {
    "duration": 23,
    "start_time": "2022-10-28T01:25:09.404Z"
   },
   {
    "duration": 12,
    "start_time": "2022-10-28T01:25:09.432Z"
   },
   {
    "duration": 133,
    "start_time": "2022-10-28T01:25:09.445Z"
   },
   {
    "duration": 9,
    "start_time": "2022-10-28T01:25:09.579Z"
   },
   {
    "duration": 16,
    "start_time": "2022-10-28T01:25:09.589Z"
   },
   {
    "duration": 129,
    "start_time": "2022-10-28T01:25:09.606Z"
   },
   {
    "duration": 5,
    "start_time": "2022-10-28T01:25:09.736Z"
   },
   {
    "duration": 154,
    "start_time": "2022-10-28T01:25:09.742Z"
   },
   {
    "duration": 63,
    "start_time": "2022-10-28T01:25:09.898Z"
   },
   {
    "duration": 60,
    "start_time": "2022-10-28T01:25:09.963Z"
   },
   {
    "duration": 47,
    "start_time": "2022-10-28T01:25:10.025Z"
   },
   {
    "duration": 7,
    "start_time": "2022-10-28T01:25:10.073Z"
   },
   {
    "duration": 364,
    "start_time": "2022-10-28T01:25:10.081Z"
   },
   {
    "duration": 268,
    "start_time": "2022-10-28T01:25:10.446Z"
   },
   {
    "duration": 13,
    "start_time": "2022-10-28T01:25:10.715Z"
   },
   {
    "duration": 5,
    "start_time": "2022-10-28T01:25:10.729Z"
   },
   {
    "duration": 9,
    "start_time": "2022-10-28T01:25:10.735Z"
   },
   {
    "duration": 6,
    "start_time": "2022-10-28T01:25:10.745Z"
   },
   {
    "duration": 6,
    "start_time": "2022-10-28T01:25:10.752Z"
   },
   {
    "duration": 318,
    "start_time": "2022-10-28T01:25:10.759Z"
   },
   {
    "duration": 4,
    "start_time": "2022-10-28T01:25:11.079Z"
   },
   {
    "duration": 20,
    "start_time": "2022-10-28T01:25:11.085Z"
   },
   {
    "duration": 135,
    "start_time": "2022-10-28T01:25:11.107Z"
   },
   {
    "duration": 7,
    "start_time": "2022-10-28T01:25:11.244Z"
   },
   {
    "duration": 157,
    "start_time": "2022-10-28T01:25:11.252Z"
   },
   {
    "duration": 8,
    "start_time": "2022-10-28T01:25:11.411Z"
   },
   {
    "duration": 142,
    "start_time": "2022-10-28T01:25:11.420Z"
   },
   {
    "duration": 8,
    "start_time": "2022-10-28T01:25:11.563Z"
   },
   {
    "duration": 135,
    "start_time": "2022-10-28T01:25:11.572Z"
   },
   {
    "duration": 8,
    "start_time": "2022-10-28T01:25:11.708Z"
   },
   {
    "duration": 240,
    "start_time": "2022-10-28T01:25:11.718Z"
   },
   {
    "duration": 8,
    "start_time": "2022-10-28T01:25:11.959Z"
   },
   {
    "duration": 125,
    "start_time": "2022-10-28T01:25:11.968Z"
   },
   {
    "duration": 14,
    "start_time": "2022-10-28T01:25:12.094Z"
   },
   {
    "duration": 116,
    "start_time": "2022-10-28T01:25:12.109Z"
   },
   {
    "duration": 8,
    "start_time": "2022-10-28T01:25:12.226Z"
   },
   {
    "duration": 155,
    "start_time": "2022-10-28T01:25:12.235Z"
   },
   {
    "duration": 15,
    "start_time": "2022-10-28T01:25:12.391Z"
   },
   {
    "duration": 164,
    "start_time": "2022-10-28T01:25:12.407Z"
   },
   {
    "duration": 9,
    "start_time": "2022-10-28T01:25:12.572Z"
   },
   {
    "duration": 145,
    "start_time": "2022-10-28T01:25:12.582Z"
   },
   {
    "duration": 124,
    "start_time": "2022-10-28T01:25:12.729Z"
   },
   {
    "duration": 115,
    "start_time": "2022-10-28T01:25:12.855Z"
   },
   {
    "duration": 146,
    "start_time": "2022-10-28T01:25:12.971Z"
   },
   {
    "duration": 8,
    "start_time": "2022-10-28T01:25:13.119Z"
   },
   {
    "duration": 11,
    "start_time": "2022-10-28T01:25:13.128Z"
   },
   {
    "duration": 157,
    "start_time": "2022-10-28T01:25:13.140Z"
   },
   {
    "duration": 9,
    "start_time": "2022-10-28T01:25:13.299Z"
   },
   {
    "duration": 147,
    "start_time": "2022-10-28T01:25:13.309Z"
   },
   {
    "duration": 5,
    "start_time": "2022-10-28T01:25:13.457Z"
   },
   {
    "duration": 159,
    "start_time": "2022-10-28T01:25:13.463Z"
   },
   {
    "duration": 5,
    "start_time": "2022-10-28T01:25:13.623Z"
   },
   {
    "duration": 185,
    "start_time": "2022-10-28T01:25:13.629Z"
   },
   {
    "duration": 6,
    "start_time": "2022-10-28T01:25:13.816Z"
   },
   {
    "duration": 148,
    "start_time": "2022-10-28T01:25:13.824Z"
   },
   {
    "duration": 153,
    "start_time": "2022-10-28T01:25:13.973Z"
   },
   {
    "duration": 6,
    "start_time": "2022-10-28T01:25:14.127Z"
   },
   {
    "duration": 161,
    "start_time": "2022-10-28T01:25:14.134Z"
   },
   {
    "duration": 12,
    "start_time": "2022-10-28T01:25:14.297Z"
   },
   {
    "duration": 158,
    "start_time": "2022-10-28T01:25:14.311Z"
   },
   {
    "duration": 5,
    "start_time": "2022-10-28T01:25:14.471Z"
   },
   {
    "duration": 6,
    "start_time": "2022-10-28T01:25:14.477Z"
   },
   {
    "duration": 145,
    "start_time": "2022-10-28T01:25:14.485Z"
   },
   {
    "duration": 6,
    "start_time": "2022-10-28T01:25:14.631Z"
   },
   {
    "duration": 12,
    "start_time": "2022-10-28T01:25:14.638Z"
   },
   {
    "duration": 11,
    "start_time": "2022-10-28T01:25:14.651Z"
   },
   {
    "duration": 10,
    "start_time": "2022-10-28T01:25:14.663Z"
   },
   {
    "duration": 31,
    "start_time": "2022-10-28T01:25:14.674Z"
   },
   {
    "duration": 9,
    "start_time": "2022-10-28T01:25:14.707Z"
   },
   {
    "duration": 146,
    "start_time": "2022-10-28T01:25:14.718Z"
   },
   {
    "duration": 4,
    "start_time": "2022-10-28T01:25:14.865Z"
   },
   {
    "duration": 13,
    "start_time": "2022-10-28T01:55:13.516Z"
   },
   {
    "duration": 1436,
    "start_time": "2022-10-28T10:32:43.240Z"
   },
   {
    "duration": 168,
    "start_time": "2022-10-28T10:32:44.678Z"
   },
   {
    "duration": 6,
    "start_time": "2022-10-28T10:32:44.847Z"
   },
   {
    "duration": 23,
    "start_time": "2022-10-28T10:32:44.855Z"
   },
   {
    "duration": 16,
    "start_time": "2022-10-28T10:32:44.882Z"
   },
   {
    "duration": 64,
    "start_time": "2022-10-28T10:32:44.900Z"
   },
   {
    "duration": 1955,
    "start_time": "2022-10-28T10:32:44.966Z"
   },
   {
    "duration": 10,
    "start_time": "2022-10-28T10:32:46.923Z"
   },
   {
    "duration": 4,
    "start_time": "2022-10-28T10:32:46.935Z"
   },
   {
    "duration": 308,
    "start_time": "2022-10-28T10:32:46.941Z"
   },
   {
    "duration": 4,
    "start_time": "2022-10-28T10:32:47.251Z"
   },
   {
    "duration": 8,
    "start_time": "2022-10-28T10:32:47.257Z"
   },
   {
    "duration": 4,
    "start_time": "2022-10-28T10:32:47.267Z"
   },
   {
    "duration": 6,
    "start_time": "2022-10-28T10:32:47.274Z"
   },
   {
    "duration": 5,
    "start_time": "2022-10-28T10:32:47.282Z"
   },
   {
    "duration": 6,
    "start_time": "2022-10-28T10:32:47.288Z"
   },
   {
    "duration": 6,
    "start_time": "2022-10-28T10:32:47.330Z"
   },
   {
    "duration": 6,
    "start_time": "2022-10-28T10:32:47.337Z"
   },
   {
    "duration": 8,
    "start_time": "2022-10-28T10:32:47.345Z"
   },
   {
    "duration": 183,
    "start_time": "2022-10-28T10:32:47.355Z"
   },
   {
    "duration": 25,
    "start_time": "2022-10-28T10:32:47.540Z"
   },
   {
    "duration": 10,
    "start_time": "2022-10-28T10:32:47.567Z"
   },
   {
    "duration": 176,
    "start_time": "2022-10-28T10:32:47.579Z"
   },
   {
    "duration": 4,
    "start_time": "2022-10-28T10:32:47.757Z"
   },
   {
    "duration": 10,
    "start_time": "2022-10-28T10:32:47.763Z"
   },
   {
    "duration": 176,
    "start_time": "2022-10-28T10:32:47.775Z"
   },
   {
    "duration": 7,
    "start_time": "2022-10-28T10:32:47.952Z"
   },
   {
    "duration": 9,
    "start_time": "2022-10-28T10:32:47.961Z"
   },
   {
    "duration": 12,
    "start_time": "2022-10-28T10:32:47.974Z"
   },
   {
    "duration": 4,
    "start_time": "2022-10-28T10:32:47.988Z"
   },
   {
    "duration": 183,
    "start_time": "2022-10-28T10:32:47.994Z"
   },
   {
    "duration": 212,
    "start_time": "2022-10-28T10:32:48.179Z"
   },
   {
    "duration": 6,
    "start_time": "2022-10-28T10:32:48.392Z"
   },
   {
    "duration": 4,
    "start_time": "2022-10-28T10:32:48.400Z"
   },
   {
    "duration": 28,
    "start_time": "2022-10-28T10:32:48.406Z"
   },
   {
    "duration": 24,
    "start_time": "2022-10-28T10:32:48.436Z"
   },
   {
    "duration": 9,
    "start_time": "2022-10-28T10:32:48.462Z"
   },
   {
    "duration": 5,
    "start_time": "2022-10-28T10:32:48.473Z"
   },
   {
    "duration": 106,
    "start_time": "2022-10-28T10:32:48.480Z"
   },
   {
    "duration": 8,
    "start_time": "2022-10-28T10:32:48.588Z"
   },
   {
    "duration": 5,
    "start_time": "2022-10-28T10:32:48.601Z"
   },
   {
    "duration": 33,
    "start_time": "2022-10-28T10:32:48.607Z"
   },
   {
    "duration": 4,
    "start_time": "2022-10-28T10:32:48.642Z"
   },
   {
    "duration": 167,
    "start_time": "2022-10-28T10:32:48.648Z"
   },
   {
    "duration": 12,
    "start_time": "2022-10-28T10:32:48.817Z"
   },
   {
    "duration": 6,
    "start_time": "2022-10-28T10:32:48.831Z"
   },
   {
    "duration": 162,
    "start_time": "2022-10-28T10:32:48.839Z"
   },
   {
    "duration": 6,
    "start_time": "2022-10-28T10:32:49.002Z"
   },
   {
    "duration": 184,
    "start_time": "2022-10-28T10:32:49.009Z"
   },
   {
    "duration": 79,
    "start_time": "2022-10-28T10:32:49.195Z"
   },
   {
    "duration": 57,
    "start_time": "2022-10-28T10:32:49.276Z"
   },
   {
    "duration": 13,
    "start_time": "2022-10-28T10:32:49.335Z"
   },
   {
    "duration": 52,
    "start_time": "2022-10-28T10:32:49.350Z"
   },
   {
    "duration": 29,
    "start_time": "2022-10-28T10:32:49.404Z"
   },
   {
    "duration": 408,
    "start_time": "2022-10-28T10:32:49.435Z"
   },
   {
    "duration": 307,
    "start_time": "2022-10-28T10:32:49.845Z"
   },
   {
    "duration": 16,
    "start_time": "2022-10-28T10:32:50.153Z"
   },
   {
    "duration": 7,
    "start_time": "2022-10-28T10:32:50.171Z"
   },
   {
    "duration": 8,
    "start_time": "2022-10-28T10:32:50.180Z"
   },
   {
    "duration": 7,
    "start_time": "2022-10-28T10:32:50.189Z"
   },
   {
    "duration": 33,
    "start_time": "2022-10-28T10:32:50.197Z"
   },
   {
    "duration": 341,
    "start_time": "2022-10-28T10:32:50.232Z"
   },
   {
    "duration": 6,
    "start_time": "2022-10-28T10:32:50.575Z"
   },
   {
    "duration": 9,
    "start_time": "2022-10-28T10:32:50.582Z"
   },
   {
    "duration": 166,
    "start_time": "2022-10-28T10:32:50.593Z"
   },
   {
    "duration": 9,
    "start_time": "2022-10-28T10:32:50.761Z"
   },
   {
    "duration": 183,
    "start_time": "2022-10-28T10:32:50.772Z"
   },
   {
    "duration": 8,
    "start_time": "2022-10-28T10:32:50.957Z"
   },
   {
    "duration": 155,
    "start_time": "2022-10-28T10:32:50.967Z"
   },
   {
    "duration": 8,
    "start_time": "2022-10-28T10:32:51.129Z"
   },
   {
    "duration": 270,
    "start_time": "2022-10-28T10:32:51.139Z"
   },
   {
    "duration": 20,
    "start_time": "2022-10-28T10:32:51.410Z"
   },
   {
    "duration": 146,
    "start_time": "2022-10-28T10:32:51.432Z"
   },
   {
    "duration": 8,
    "start_time": "2022-10-28T10:32:51.580Z"
   },
   {
    "duration": 154,
    "start_time": "2022-10-28T10:32:51.590Z"
   },
   {
    "duration": 10,
    "start_time": "2022-10-28T10:32:51.746Z"
   },
   {
    "duration": 137,
    "start_time": "2022-10-28T10:32:51.757Z"
   },
   {
    "duration": 8,
    "start_time": "2022-10-28T10:32:51.896Z"
   },
   {
    "duration": 177,
    "start_time": "2022-10-28T10:32:51.906Z"
   },
   {
    "duration": 11,
    "start_time": "2022-10-28T10:32:52.085Z"
   },
   {
    "duration": 206,
    "start_time": "2022-10-28T10:32:52.097Z"
   },
   {
    "duration": 11,
    "start_time": "2022-10-28T10:32:52.305Z"
   },
   {
    "duration": 169,
    "start_time": "2022-10-28T10:32:52.328Z"
   },
   {
    "duration": 150,
    "start_time": "2022-10-28T10:32:52.499Z"
   },
   {
    "duration": 139,
    "start_time": "2022-10-28T10:32:52.651Z"
   },
   {
    "duration": 171,
    "start_time": "2022-10-28T10:32:52.792Z"
   },
   {
    "duration": 10,
    "start_time": "2022-10-28T10:32:52.964Z"
   },
   {
    "duration": 12,
    "start_time": "2022-10-28T10:32:52.975Z"
   },
   {
    "duration": 196,
    "start_time": "2022-10-28T10:32:52.988Z"
   },
   {
    "duration": 6,
    "start_time": "2022-10-28T10:32:53.186Z"
   },
   {
    "duration": 184,
    "start_time": "2022-10-28T10:32:53.193Z"
   },
   {
    "duration": 5,
    "start_time": "2022-10-28T10:32:53.379Z"
   },
   {
    "duration": 185,
    "start_time": "2022-10-28T10:32:53.386Z"
   },
   {
    "duration": 7,
    "start_time": "2022-10-28T10:32:53.573Z"
   },
   {
    "duration": 191,
    "start_time": "2022-10-28T10:32:53.582Z"
   },
   {
    "duration": 6,
    "start_time": "2022-10-28T10:32:53.775Z"
   },
   {
    "duration": 163,
    "start_time": "2022-10-28T10:32:53.783Z"
   },
   {
    "duration": 176,
    "start_time": "2022-10-28T10:32:53.947Z"
   },
   {
    "duration": 6,
    "start_time": "2022-10-28T10:32:54.126Z"
   },
   {
    "duration": 177,
    "start_time": "2022-10-28T10:32:54.133Z"
   },
   {
    "duration": 4,
    "start_time": "2022-10-28T10:32:54.312Z"
   },
   {
    "duration": 305,
    "start_time": "2022-10-28T10:32:54.318Z"
   },
   {
    "duration": 6,
    "start_time": "2022-10-28T10:32:54.629Z"
   },
   {
    "duration": 16,
    "start_time": "2022-10-28T10:32:54.636Z"
   },
   {
    "duration": 37,
    "start_time": "2022-10-28T10:32:54.653Z"
   },
   {
    "duration": 6,
    "start_time": "2022-10-28T10:32:54.692Z"
   },
   {
    "duration": 28,
    "start_time": "2022-10-28T10:32:54.700Z"
   },
   {
    "duration": 19,
    "start_time": "2022-10-28T10:32:54.730Z"
   },
   {
    "duration": 11,
    "start_time": "2022-10-28T10:32:54.751Z"
   },
   {
    "duration": 19,
    "start_time": "2022-10-28T10:32:54.764Z"
   },
   {
    "duration": 22,
    "start_time": "2022-10-28T10:32:54.784Z"
   },
   {
    "duration": 174,
    "start_time": "2022-10-28T10:32:54.808Z"
   },
   {
    "duration": 6,
    "start_time": "2022-10-28T10:32:54.984Z"
   },
   {
    "duration": 363,
    "start_time": "2022-10-28T10:39:06.029Z"
   },
   {
    "duration": 291,
    "start_time": "2022-10-28T10:39:07.480Z"
   },
   {
    "duration": 311,
    "start_time": "2022-10-28T10:39:17.499Z"
   },
   {
    "duration": 267,
    "start_time": "2022-10-28T10:42:12.724Z"
   },
   {
    "duration": 146,
    "start_time": "2022-10-28T10:42:23.058Z"
   },
   {
    "duration": 1271,
    "start_time": "2022-10-28T10:49:15.547Z"
   },
   {
    "duration": 102,
    "start_time": "2022-10-28T10:49:16.821Z"
   },
   {
    "duration": 6,
    "start_time": "2022-10-28T10:49:16.925Z"
   },
   {
    "duration": 29,
    "start_time": "2022-10-28T10:49:16.934Z"
   },
   {
    "duration": 17,
    "start_time": "2022-10-28T10:49:16.965Z"
   },
   {
    "duration": 65,
    "start_time": "2022-10-28T10:49:16.984Z"
   },
   {
    "duration": 2079,
    "start_time": "2022-10-28T10:49:17.051Z"
   },
   {
    "duration": 9,
    "start_time": "2022-10-28T10:49:19.132Z"
   },
   {
    "duration": 4,
    "start_time": "2022-10-28T10:49:19.143Z"
   },
   {
    "duration": 342,
    "start_time": "2022-10-28T10:49:19.150Z"
   },
   {
    "duration": 5,
    "start_time": "2022-10-28T10:49:19.494Z"
   },
   {
    "duration": 8,
    "start_time": "2022-10-28T10:49:19.500Z"
   },
   {
    "duration": 21,
    "start_time": "2022-10-28T10:49:19.509Z"
   },
   {
    "duration": 6,
    "start_time": "2022-10-28T10:49:19.532Z"
   },
   {
    "duration": 6,
    "start_time": "2022-10-28T10:49:19.539Z"
   },
   {
    "duration": 4,
    "start_time": "2022-10-28T10:49:19.547Z"
   },
   {
    "duration": 5,
    "start_time": "2022-10-28T10:49:19.553Z"
   },
   {
    "duration": 5,
    "start_time": "2022-10-28T10:49:19.560Z"
   },
   {
    "duration": 9,
    "start_time": "2022-10-28T10:49:19.567Z"
   },
   {
    "duration": 196,
    "start_time": "2022-10-28T10:49:19.577Z"
   },
   {
    "duration": 26,
    "start_time": "2022-10-28T10:49:19.774Z"
   },
   {
    "duration": 9,
    "start_time": "2022-10-28T10:49:19.801Z"
   },
   {
    "duration": 149,
    "start_time": "2022-10-28T10:49:19.828Z"
   },
   {
    "duration": 5,
    "start_time": "2022-10-28T10:49:19.979Z"
   },
   {
    "duration": 6,
    "start_time": "2022-10-28T10:49:19.986Z"
   },
   {
    "duration": 188,
    "start_time": "2022-10-28T10:49:19.993Z"
   },
   {
    "duration": 7,
    "start_time": "2022-10-28T10:49:20.183Z"
   },
   {
    "duration": 9,
    "start_time": "2022-10-28T10:49:20.194Z"
   },
   {
    "duration": 33,
    "start_time": "2022-10-28T10:49:20.205Z"
   },
   {
    "duration": 5,
    "start_time": "2022-10-28T10:49:20.239Z"
   },
   {
    "duration": 185,
    "start_time": "2022-10-28T10:49:20.245Z"
   },
   {
    "duration": 174,
    "start_time": "2022-10-28T10:49:20.431Z"
   },
   {
    "duration": 5,
    "start_time": "2022-10-28T10:49:20.606Z"
   },
   {
    "duration": 18,
    "start_time": "2022-10-28T10:49:20.613Z"
   },
   {
    "duration": 10,
    "start_time": "2022-10-28T10:49:20.632Z"
   },
   {
    "duration": 26,
    "start_time": "2022-10-28T10:49:20.644Z"
   },
   {
    "duration": 9,
    "start_time": "2022-10-28T10:49:20.672Z"
   },
   {
    "duration": 7,
    "start_time": "2022-10-28T10:49:20.683Z"
   },
   {
    "duration": 119,
    "start_time": "2022-10-28T10:49:20.692Z"
   },
   {
    "duration": 16,
    "start_time": "2022-10-28T10:49:20.813Z"
   },
   {
    "duration": 6,
    "start_time": "2022-10-28T10:49:20.831Z"
   },
   {
    "duration": 19,
    "start_time": "2022-10-28T10:49:20.839Z"
   },
   {
    "duration": 5,
    "start_time": "2022-10-28T10:49:20.860Z"
   },
   {
    "duration": 180,
    "start_time": "2022-10-28T10:49:20.867Z"
   },
   {
    "duration": 9,
    "start_time": "2022-10-28T10:49:21.049Z"
   },
   {
    "duration": 15,
    "start_time": "2022-10-28T10:49:21.060Z"
   },
   {
    "duration": 156,
    "start_time": "2022-10-28T10:49:21.077Z"
   },
   {
    "duration": 6,
    "start_time": "2022-10-28T10:49:21.234Z"
   },
   {
    "duration": 178,
    "start_time": "2022-10-28T10:49:21.241Z"
   },
   {
    "duration": 69,
    "start_time": "2022-10-28T10:49:21.421Z"
   },
   {
    "duration": 61,
    "start_time": "2022-10-28T10:49:21.491Z"
   },
   {
    "duration": 12,
    "start_time": "2022-10-28T10:49:21.554Z"
   },
   {
    "duration": 70,
    "start_time": "2022-10-28T10:49:21.568Z"
   },
   {
    "duration": 8,
    "start_time": "2022-10-28T10:49:21.639Z"
   },
   {
    "duration": 416,
    "start_time": "2022-10-28T10:49:21.649Z"
   },
   {
    "duration": 294,
    "start_time": "2022-10-28T10:49:22.067Z"
   },
   {
    "duration": 16,
    "start_time": "2022-10-28T10:49:22.362Z"
   },
   {
    "duration": 10,
    "start_time": "2022-10-28T10:49:22.380Z"
   },
   {
    "duration": 6,
    "start_time": "2022-10-28T10:49:22.392Z"
   },
   {
    "duration": 32,
    "start_time": "2022-10-28T10:49:22.401Z"
   },
   {
    "duration": 7,
    "start_time": "2022-10-28T10:49:22.435Z"
   },
   {
    "duration": 350,
    "start_time": "2022-10-28T10:49:22.444Z"
   },
   {
    "duration": 7,
    "start_time": "2022-10-28T10:49:22.796Z"
   },
   {
    "duration": 25,
    "start_time": "2022-10-28T10:49:22.805Z"
   },
   {
    "duration": 163,
    "start_time": "2022-10-28T10:49:22.832Z"
   },
   {
    "duration": 9,
    "start_time": "2022-10-28T10:49:22.997Z"
   },
   {
    "duration": 189,
    "start_time": "2022-10-28T10:49:23.007Z"
   },
   {
    "duration": 9,
    "start_time": "2022-10-28T10:49:23.197Z"
   },
   {
    "duration": 157,
    "start_time": "2022-10-28T10:49:23.208Z"
   },
   {
    "duration": 9,
    "start_time": "2022-10-28T10:49:23.366Z"
   },
   {
    "duration": 276,
    "start_time": "2022-10-28T10:49:23.377Z"
   },
   {
    "duration": 9,
    "start_time": "2022-10-28T10:49:23.655Z"
   },
   {
    "duration": 157,
    "start_time": "2022-10-28T10:49:23.666Z"
   },
   {
    "duration": 9,
    "start_time": "2022-10-28T10:49:23.829Z"
   },
   {
    "duration": 165,
    "start_time": "2022-10-28T10:49:23.840Z"
   },
   {
    "duration": 9,
    "start_time": "2022-10-28T10:49:24.007Z"
   },
   {
    "duration": 142,
    "start_time": "2022-10-28T10:49:24.018Z"
   },
   {
    "duration": 10,
    "start_time": "2022-10-28T10:49:24.161Z"
   },
   {
    "duration": 176,
    "start_time": "2022-10-28T10:49:24.172Z"
   },
   {
    "duration": 10,
    "start_time": "2022-10-28T10:49:24.349Z"
   },
   {
    "duration": 210,
    "start_time": "2022-10-28T10:49:24.361Z"
   },
   {
    "duration": 10,
    "start_time": "2022-10-28T10:49:24.577Z"
   },
   {
    "duration": 177,
    "start_time": "2022-10-28T10:49:24.589Z"
   },
   {
    "duration": 163,
    "start_time": "2022-10-28T10:49:24.768Z"
   },
   {
    "duration": 150,
    "start_time": "2022-10-28T10:49:24.933Z"
   },
   {
    "duration": 189,
    "start_time": "2022-10-28T10:49:25.085Z"
   },
   {
    "duration": 9,
    "start_time": "2022-10-28T10:49:25.276Z"
   },
   {
    "duration": 15,
    "start_time": "2022-10-28T10:49:25.287Z"
   },
   {
    "duration": 193,
    "start_time": "2022-10-28T10:49:25.304Z"
   },
   {
    "duration": 5,
    "start_time": "2022-10-28T10:49:25.499Z"
   },
   {
    "duration": 191,
    "start_time": "2022-10-28T10:49:25.506Z"
   },
   {
    "duration": 5,
    "start_time": "2022-10-28T10:49:25.699Z"
   },
   {
    "duration": 182,
    "start_time": "2022-10-28T10:49:25.705Z"
   },
   {
    "duration": 6,
    "start_time": "2022-10-28T10:49:25.889Z"
   },
   {
    "duration": 197,
    "start_time": "2022-10-28T10:49:25.897Z"
   },
   {
    "duration": 6,
    "start_time": "2022-10-28T10:49:26.095Z"
   },
   {
    "duration": 195,
    "start_time": "2022-10-28T10:49:26.103Z"
   },
   {
    "duration": 188,
    "start_time": "2022-10-28T10:49:26.301Z"
   },
   {
    "duration": 5,
    "start_time": "2022-10-28T10:49:26.491Z"
   },
   {
    "duration": 310,
    "start_time": "2022-10-28T10:49:26.498Z"
   },
   {
    "duration": 6,
    "start_time": "2022-10-28T10:49:26.811Z"
   },
   {
    "duration": 185,
    "start_time": "2022-10-28T10:49:26.830Z"
   },
   {
    "duration": 12,
    "start_time": "2022-10-28T10:49:27.017Z"
   },
   {
    "duration": 7,
    "start_time": "2022-10-28T10:49:27.031Z"
   },
   {
    "duration": 21,
    "start_time": "2022-10-28T10:49:27.040Z"
   },
   {
    "duration": 8,
    "start_time": "2022-10-28T10:49:27.063Z"
   },
   {
    "duration": 12,
    "start_time": "2022-10-28T10:49:27.073Z"
   },
   {
    "duration": 43,
    "start_time": "2022-10-28T10:49:27.088Z"
   },
   {
    "duration": 12,
    "start_time": "2022-10-28T10:49:27.133Z"
   },
   {
    "duration": 7,
    "start_time": "2022-10-28T10:49:27.147Z"
   },
   {
    "duration": 8,
    "start_time": "2022-10-28T10:49:27.156Z"
   },
   {
    "duration": 210,
    "start_time": "2022-10-28T10:49:27.165Z"
   },
   {
    "duration": 6,
    "start_time": "2022-10-28T10:49:27.377Z"
   },
   {
    "duration": 2009,
    "start_time": "2022-11-01T10:44:51.737Z"
   },
   {
    "duration": 210,
    "start_time": "2022-11-01T10:44:53.749Z"
   },
   {
    "duration": 5,
    "start_time": "2022-11-01T10:44:53.961Z"
   },
   {
    "duration": 45,
    "start_time": "2022-11-01T10:44:54.021Z"
   },
   {
    "duration": 71,
    "start_time": "2022-11-01T10:44:54.069Z"
   },
   {
    "duration": 107,
    "start_time": "2022-11-01T10:44:54.142Z"
   },
   {
    "duration": 4108,
    "start_time": "2022-11-01T10:44:54.251Z"
   },
   {
    "duration": 67,
    "start_time": "2022-11-01T10:44:58.360Z"
   },
   {
    "duration": 5,
    "start_time": "2022-11-01T10:44:58.429Z"
   },
   {
    "duration": 821,
    "start_time": "2022-11-01T10:44:58.438Z"
   },
   {
    "duration": 64,
    "start_time": "2022-11-01T10:44:59.261Z"
   },
   {
    "duration": 16,
    "start_time": "2022-11-01T10:44:59.328Z"
   },
   {
    "duration": 7,
    "start_time": "2022-11-01T10:44:59.345Z"
   },
   {
    "duration": 8,
    "start_time": "2022-11-01T10:44:59.354Z"
   },
   {
    "duration": 62,
    "start_time": "2022-11-01T10:44:59.364Z"
   },
   {
    "duration": 8,
    "start_time": "2022-11-01T10:44:59.428Z"
   },
   {
    "duration": 17,
    "start_time": "2022-11-01T10:44:59.437Z"
   },
   {
    "duration": 5,
    "start_time": "2022-11-01T10:44:59.456Z"
   },
   {
    "duration": 60,
    "start_time": "2022-11-01T10:44:59.463Z"
   },
   {
    "duration": 10,
    "start_time": "2022-11-01T10:44:59.525Z"
   },
   {
    "duration": 15,
    "start_time": "2022-11-01T10:44:59.537Z"
   },
   {
    "duration": 12,
    "start_time": "2022-11-01T10:44:59.554Z"
   },
   {
    "duration": 19,
    "start_time": "2022-11-01T10:44:59.623Z"
   },
   {
    "duration": 517,
    "start_time": "2022-11-01T10:44:59.644Z"
   },
   {
    "duration": 3760,
    "start_time": "2022-11-01T10:45:00.163Z"
   },
   {
    "duration": 418,
    "start_time": "2022-11-01T10:45:03.926Z"
   },
   {
    "duration": 3,
    "start_time": "2022-11-01T10:45:04.346Z"
   },
   {
    "duration": 9,
    "start_time": "2022-11-01T10:45:04.353Z"
   },
   {
    "duration": 372,
    "start_time": "2022-11-01T10:45:04.364Z"
   },
   {
    "duration": 9,
    "start_time": "2022-11-01T10:45:04.738Z"
   },
   {
    "duration": 77,
    "start_time": "2022-11-01T10:45:04.749Z"
   },
   {
    "duration": 16,
    "start_time": "2022-11-01T10:45:04.828Z"
   },
   {
    "duration": 77,
    "start_time": "2022-11-01T10:45:04.845Z"
   },
   {
    "duration": 417,
    "start_time": "2022-11-01T10:45:04.924Z"
   },
   {
    "duration": 322,
    "start_time": "2022-11-01T10:45:05.343Z"
   },
   {
    "duration": 6,
    "start_time": "2022-11-01T10:45:05.667Z"
   },
   {
    "duration": 5,
    "start_time": "2022-11-01T10:45:05.722Z"
   },
   {
    "duration": 46,
    "start_time": "2022-11-01T10:45:05.729Z"
   },
   {
    "duration": 71,
    "start_time": "2022-11-01T10:45:05.778Z"
   },
   {
    "duration": 13,
    "start_time": "2022-11-01T10:45:05.851Z"
   },
   {
    "duration": 8,
    "start_time": "2022-11-01T10:45:05.921Z"
   },
   {
    "duration": 307,
    "start_time": "2022-11-01T10:45:05.931Z"
   },
   {
    "duration": 82,
    "start_time": "2022-11-01T10:45:06.240Z"
   },
   {
    "duration": 7,
    "start_time": "2022-11-01T10:45:06.325Z"
   },
   {
    "duration": 12,
    "start_time": "2022-11-01T10:45:06.335Z"
   },
   {
    "duration": 75,
    "start_time": "2022-11-01T10:45:06.349Z"
   },
   {
    "duration": 904,
    "start_time": "2022-11-01T10:45:06.427Z"
   },
   {
    "duration": 13,
    "start_time": "2022-11-01T10:45:07.333Z"
   },
   {
    "duration": 16,
    "start_time": "2022-11-01T10:45:07.422Z"
   },
   {
    "duration": 9,
    "start_time": "2022-11-01T10:45:07.441Z"
   },
   {
    "duration": 77,
    "start_time": "2022-11-01T10:45:07.452Z"
   },
   {
    "duration": 91,
    "start_time": "2022-11-01T10:45:07.532Z"
   },
   {
    "duration": 11,
    "start_time": "2022-11-01T10:45:07.626Z"
   },
   {
    "duration": 85,
    "start_time": "2022-11-01T10:45:07.639Z"
   },
   {
    "duration": 799,
    "start_time": "2022-11-01T10:45:07.726Z"
   },
   {
    "duration": 6,
    "start_time": "2022-11-01T10:45:08.527Z"
   },
   {
    "duration": 688,
    "start_time": "2022-11-01T10:45:08.535Z"
   },
   {
    "duration": 123,
    "start_time": "2022-11-01T10:45:09.226Z"
   },
   {
    "duration": 107,
    "start_time": "2022-11-01T10:45:09.350Z"
   },
   {
    "duration": 65,
    "start_time": "2022-11-01T10:45:09.458Z"
   },
   {
    "duration": 5,
    "start_time": "2022-11-01T10:45:09.525Z"
   },
   {
    "duration": 121,
    "start_time": "2022-11-01T10:45:09.531Z"
   },
   {
    "duration": 7,
    "start_time": "2022-11-01T10:45:09.654Z"
   },
   {
    "duration": 72,
    "start_time": "2022-11-01T10:45:09.663Z"
   },
   {
    "duration": 795,
    "start_time": "2022-11-01T10:45:09.736Z"
   },
   {
    "duration": 10,
    "start_time": "2022-11-01T10:45:10.533Z"
   },
   {
    "duration": 792,
    "start_time": "2022-11-01T10:45:10.544Z"
   },
   {
    "duration": 12,
    "start_time": "2022-11-01T10:45:11.338Z"
   },
   {
    "duration": 991,
    "start_time": "2022-11-01T10:45:11.351Z"
   },
   {
    "duration": 15,
    "start_time": "2022-11-01T10:45:12.344Z"
   },
   {
    "duration": 68,
    "start_time": "2022-11-01T10:45:12.361Z"
   },
   {
    "duration": 26,
    "start_time": "2022-11-01T10:45:12.430Z"
   },
   {
    "duration": 69,
    "start_time": "2022-11-01T10:45:12.458Z"
   },
   {
    "duration": 25,
    "start_time": "2022-11-01T10:45:12.529Z"
   },
   {
    "duration": 70,
    "start_time": "2022-11-01T10:45:12.556Z"
   },
   {
    "duration": 17,
    "start_time": "2022-11-01T10:45:12.628Z"
   },
   {
    "duration": 13,
    "start_time": "2022-11-01T10:45:12.647Z"
   },
   {
    "duration": 29,
    "start_time": "2022-11-01T10:45:12.662Z"
   },
   {
    "duration": 6,
    "start_time": "2022-11-01T10:45:12.723Z"
   },
   {
    "duration": 15,
    "start_time": "2022-11-01T10:45:12.731Z"
   },
   {
    "duration": 10,
    "start_time": "2022-11-01T10:45:12.747Z"
   },
   {
    "duration": 63,
    "start_time": "2022-11-01T10:45:12.764Z"
   },
   {
    "duration": 621,
    "start_time": "2022-11-01T10:45:12.829Z"
   },
   {
    "duration": 6,
    "start_time": "2022-11-01T10:45:13.452Z"
   },
   {
    "duration": 64,
    "start_time": "2022-11-01T10:45:13.460Z"
   },
   {
    "duration": 9,
    "start_time": "2022-11-01T10:45:13.525Z"
   },
   {
    "duration": 530,
    "start_time": "2022-11-01T10:45:13.536Z"
   },
   {
    "duration": 9,
    "start_time": "2022-11-01T10:45:14.068Z"
   },
   {
    "duration": 291,
    "start_time": "2022-11-01T10:45:14.078Z"
   },
   {
    "duration": 10,
    "start_time": "2022-11-01T10:45:14.370Z"
   },
   {
    "duration": 319,
    "start_time": "2022-11-01T10:45:14.381Z"
   },
   {
    "duration": 9,
    "start_time": "2022-11-01T10:45:14.701Z"
   },
   {
    "duration": 150,
    "start_time": "2022-11-01T10:45:14.711Z"
   },
   {
    "duration": 10,
    "start_time": "2022-11-01T10:45:14.863Z"
   },
   {
    "duration": 196,
    "start_time": "2022-11-01T10:45:14.875Z"
   },
   {
    "duration": 9,
    "start_time": "2022-11-01T10:45:15.073Z"
   },
   {
    "duration": 162,
    "start_time": "2022-11-01T10:45:15.084Z"
   },
   {
    "duration": 9,
    "start_time": "2022-11-01T10:45:15.248Z"
   },
   {
    "duration": 209,
    "start_time": "2022-11-01T10:45:15.258Z"
   },
   {
    "duration": 8,
    "start_time": "2022-11-01T10:45:15.469Z"
   },
   {
    "duration": 180,
    "start_time": "2022-11-01T10:45:15.478Z"
   },
   {
    "duration": 14,
    "start_time": "2022-11-01T10:45:15.660Z"
   },
   {
    "duration": 1250,
    "start_time": "2022-11-01T10:45:15.676Z"
   },
   {
    "duration": 10,
    "start_time": "2022-11-01T10:45:16.928Z"
   },
   {
    "duration": 326,
    "start_time": "2022-11-01T10:45:16.940Z"
   },
   {
    "duration": 138,
    "start_time": "2022-11-01T10:45:17.267Z"
   },
   {
    "duration": 265,
    "start_time": "2022-11-01T10:45:17.422Z"
   },
   {
    "duration": 246,
    "start_time": "2022-11-01T10:45:17.688Z"
   },
   {
    "duration": 8,
    "start_time": "2022-11-01T10:45:17.936Z"
   },
   {
    "duration": 15,
    "start_time": "2022-11-01T10:45:17.946Z"
   },
   {
    "duration": 4,
    "start_time": "2022-11-01T10:45:17.963Z"
   },
   {
    "duration": 19,
    "start_time": "2022-11-01T10:45:17.968Z"
   },
   {
    "duration": 734,
    "start_time": "2022-11-01T10:45:17.988Z"
   },
   {
    "duration": 8,
    "start_time": "2022-11-01T10:45:18.724Z"
   },
   {
    "duration": 853,
    "start_time": "2022-11-01T10:45:18.734Z"
   },
   {
    "duration": 5,
    "start_time": "2022-11-01T10:45:19.589Z"
   },
   {
    "duration": 710,
    "start_time": "2022-11-01T10:45:19.596Z"
   },
   {
    "duration": 5,
    "start_time": "2022-11-01T10:45:20.307Z"
   },
   {
    "duration": 529,
    "start_time": "2022-11-01T10:45:20.323Z"
   },
   {
    "duration": 503,
    "start_time": "2022-11-01T10:45:20.853Z"
   },
   {
    "duration": 513,
    "start_time": "2022-11-01T10:45:21.357Z"
   },
   {
    "duration": 514,
    "start_time": "2022-11-01T10:45:21.872Z"
   },
   {
    "duration": 600,
    "start_time": "2022-11-01T10:45:22.388Z"
   },
   {
    "duration": 6,
    "start_time": "2022-11-01T10:45:22.990Z"
   },
   {
    "duration": 44,
    "start_time": "2022-11-01T10:45:22.998Z"
   },
   {
    "duration": 5,
    "start_time": "2022-11-01T10:45:23.043Z"
   },
   {
    "duration": 19,
    "start_time": "2022-11-01T10:45:23.050Z"
   },
   {
    "duration": 9,
    "start_time": "2022-11-01T10:45:23.070Z"
   },
   {
    "duration": 228,
    "start_time": "2022-11-01T10:45:23.081Z"
   },
   {
    "duration": 20,
    "start_time": "2022-11-01T10:45:23.311Z"
   },
   {
    "duration": 13,
    "start_time": "2022-11-01T10:45:23.332Z"
   },
   {
    "duration": 3,
    "start_time": "2022-11-01T10:45:23.346Z"
   },
   {
    "duration": 25,
    "start_time": "2022-11-01T10:45:23.351Z"
   },
   {
    "duration": 210,
    "start_time": "2022-11-01T10:45:23.378Z"
   },
   {
    "duration": 5,
    "start_time": "2022-11-01T10:45:23.589Z"
   },
   {
    "duration": 3,
    "start_time": "2022-11-01T10:46:49.882Z"
   },
   {
    "duration": 4147,
    "start_time": "2022-11-01T10:46:59.395Z"
   },
   {
    "duration": 465,
    "start_time": "2022-11-01T10:47:03.544Z"
   },
   {
    "duration": 1342,
    "start_time": "2022-11-01T10:47:04.011Z"
   },
   {
    "duration": 92,
    "start_time": "2022-11-01T10:54:35.358Z"
   },
   {
    "duration": 1173,
    "start_time": "2022-11-01T10:54:40.359Z"
   },
   {
    "duration": 140,
    "start_time": "2022-11-01T10:54:41.535Z"
   },
   {
    "duration": 6,
    "start_time": "2022-11-01T10:54:41.677Z"
   },
   {
    "duration": 22,
    "start_time": "2022-11-01T10:54:41.685Z"
   },
   {
    "duration": 34,
    "start_time": "2022-11-01T10:54:41.722Z"
   },
   {
    "duration": 95,
    "start_time": "2022-11-01T10:54:41.758Z"
   },
   {
    "duration": 1767,
    "start_time": "2022-11-01T10:54:41.856Z"
   },
   {
    "duration": 9,
    "start_time": "2022-11-01T10:54:43.624Z"
   },
   {
    "duration": 4,
    "start_time": "2022-11-01T10:54:43.635Z"
   },
   {
    "duration": 325,
    "start_time": "2022-11-01T10:54:43.642Z"
   },
   {
    "duration": 102,
    "start_time": "2022-11-01T10:54:43.969Z"
   },
   {
    "duration": 0,
    "start_time": "2022-11-01T10:54:44.075Z"
   },
   {
    "duration": 0,
    "start_time": "2022-11-01T10:54:44.076Z"
   },
   {
    "duration": 0,
    "start_time": "2022-11-01T10:54:44.077Z"
   },
   {
    "duration": 0,
    "start_time": "2022-11-01T10:54:44.077Z"
   },
   {
    "duration": 0,
    "start_time": "2022-11-01T10:54:44.078Z"
   },
   {
    "duration": 0,
    "start_time": "2022-11-01T10:54:44.079Z"
   },
   {
    "duration": 0,
    "start_time": "2022-11-01T10:54:44.080Z"
   },
   {
    "duration": 0,
    "start_time": "2022-11-01T10:54:44.081Z"
   },
   {
    "duration": 0,
    "start_time": "2022-11-01T10:54:44.082Z"
   },
   {
    "duration": 0,
    "start_time": "2022-11-01T10:54:44.083Z"
   },
   {
    "duration": 0,
    "start_time": "2022-11-01T10:54:44.084Z"
   },
   {
    "duration": 0,
    "start_time": "2022-11-01T10:54:44.085Z"
   },
   {
    "duration": 0,
    "start_time": "2022-11-01T10:54:44.086Z"
   },
   {
    "duration": 0,
    "start_time": "2022-11-01T10:54:44.087Z"
   },
   {
    "duration": 0,
    "start_time": "2022-11-01T10:54:44.088Z"
   },
   {
    "duration": 0,
    "start_time": "2022-11-01T10:54:44.089Z"
   },
   {
    "duration": 0,
    "start_time": "2022-11-01T10:54:44.090Z"
   },
   {
    "duration": 0,
    "start_time": "2022-11-01T10:54:44.091Z"
   },
   {
    "duration": 0,
    "start_time": "2022-11-01T10:54:44.092Z"
   },
   {
    "duration": 0,
    "start_time": "2022-11-01T10:54:44.093Z"
   },
   {
    "duration": 0,
    "start_time": "2022-11-01T10:54:44.122Z"
   },
   {
    "duration": 0,
    "start_time": "2022-11-01T10:54:44.123Z"
   },
   {
    "duration": 0,
    "start_time": "2022-11-01T10:54:44.124Z"
   },
   {
    "duration": 0,
    "start_time": "2022-11-01T10:54:44.125Z"
   },
   {
    "duration": 0,
    "start_time": "2022-11-01T10:54:44.126Z"
   },
   {
    "duration": 0,
    "start_time": "2022-11-01T10:54:44.127Z"
   },
   {
    "duration": 0,
    "start_time": "2022-11-01T10:54:44.128Z"
   },
   {
    "duration": 0,
    "start_time": "2022-11-01T10:54:44.129Z"
   },
   {
    "duration": 0,
    "start_time": "2022-11-01T10:54:44.130Z"
   },
   {
    "duration": 0,
    "start_time": "2022-11-01T10:54:44.131Z"
   },
   {
    "duration": 0,
    "start_time": "2022-11-01T10:54:44.132Z"
   },
   {
    "duration": 0,
    "start_time": "2022-11-01T10:54:44.133Z"
   },
   {
    "duration": 0,
    "start_time": "2022-11-01T10:54:44.134Z"
   },
   {
    "duration": 0,
    "start_time": "2022-11-01T10:54:44.135Z"
   },
   {
    "duration": 0,
    "start_time": "2022-11-01T10:54:44.136Z"
   },
   {
    "duration": 0,
    "start_time": "2022-11-01T10:54:44.137Z"
   },
   {
    "duration": 0,
    "start_time": "2022-11-01T10:54:44.138Z"
   },
   {
    "duration": 0,
    "start_time": "2022-11-01T10:54:44.139Z"
   },
   {
    "duration": 0,
    "start_time": "2022-11-01T10:54:44.140Z"
   },
   {
    "duration": 0,
    "start_time": "2022-11-01T10:54:44.141Z"
   },
   {
    "duration": 0,
    "start_time": "2022-11-01T10:54:44.142Z"
   },
   {
    "duration": 0,
    "start_time": "2022-11-01T10:54:44.143Z"
   },
   {
    "duration": 0,
    "start_time": "2022-11-01T10:54:44.144Z"
   },
   {
    "duration": 0,
    "start_time": "2022-11-01T10:54:44.145Z"
   },
   {
    "duration": 0,
    "start_time": "2022-11-01T10:54:44.145Z"
   },
   {
    "duration": 0,
    "start_time": "2022-11-01T10:54:44.146Z"
   },
   {
    "duration": 0,
    "start_time": "2022-11-01T10:54:44.147Z"
   },
   {
    "duration": 0,
    "start_time": "2022-11-01T10:54:44.148Z"
   },
   {
    "duration": 0,
    "start_time": "2022-11-01T10:54:44.149Z"
   },
   {
    "duration": 0,
    "start_time": "2022-11-01T10:54:44.149Z"
   },
   {
    "duration": 0,
    "start_time": "2022-11-01T10:54:44.150Z"
   },
   {
    "duration": 0,
    "start_time": "2022-11-01T10:54:44.152Z"
   },
   {
    "duration": 0,
    "start_time": "2022-11-01T10:54:44.153Z"
   },
   {
    "duration": 0,
    "start_time": "2022-11-01T10:54:44.154Z"
   },
   {
    "duration": 0,
    "start_time": "2022-11-01T10:54:44.155Z"
   },
   {
    "duration": 0,
    "start_time": "2022-11-01T10:54:44.156Z"
   },
   {
    "duration": 0,
    "start_time": "2022-11-01T10:54:44.159Z"
   },
   {
    "duration": 0,
    "start_time": "2022-11-01T10:54:44.160Z"
   },
   {
    "duration": 1,
    "start_time": "2022-11-01T10:54:44.222Z"
   },
   {
    "duration": 0,
    "start_time": "2022-11-01T10:54:44.224Z"
   },
   {
    "duration": 0,
    "start_time": "2022-11-01T10:54:44.225Z"
   },
   {
    "duration": 0,
    "start_time": "2022-11-01T10:54:44.225Z"
   },
   {
    "duration": 0,
    "start_time": "2022-11-01T10:54:44.226Z"
   },
   {
    "duration": 0,
    "start_time": "2022-11-01T10:54:44.227Z"
   },
   {
    "duration": 0,
    "start_time": "2022-11-01T10:54:44.228Z"
   },
   {
    "duration": 0,
    "start_time": "2022-11-01T10:54:44.229Z"
   },
   {
    "duration": 0,
    "start_time": "2022-11-01T10:54:44.230Z"
   },
   {
    "duration": 0,
    "start_time": "2022-11-01T10:54:44.231Z"
   },
   {
    "duration": 0,
    "start_time": "2022-11-01T10:54:44.231Z"
   },
   {
    "duration": 1,
    "start_time": "2022-11-01T10:54:44.232Z"
   },
   {
    "duration": 0,
    "start_time": "2022-11-01T10:54:44.233Z"
   },
   {
    "duration": 0,
    "start_time": "2022-11-01T10:54:44.234Z"
   },
   {
    "duration": 0,
    "start_time": "2022-11-01T10:54:44.235Z"
   },
   {
    "duration": 0,
    "start_time": "2022-11-01T10:54:44.236Z"
   },
   {
    "duration": 0,
    "start_time": "2022-11-01T10:54:44.237Z"
   },
   {
    "duration": 0,
    "start_time": "2022-11-01T10:54:44.238Z"
   },
   {
    "duration": 0,
    "start_time": "2022-11-01T10:54:44.240Z"
   },
   {
    "duration": 0,
    "start_time": "2022-11-01T10:54:44.241Z"
   },
   {
    "duration": 0,
    "start_time": "2022-11-01T10:54:44.242Z"
   },
   {
    "duration": 0,
    "start_time": "2022-11-01T10:54:44.243Z"
   },
   {
    "duration": 0,
    "start_time": "2022-11-01T10:54:44.244Z"
   },
   {
    "duration": 0,
    "start_time": "2022-11-01T10:54:44.244Z"
   },
   {
    "duration": 0,
    "start_time": "2022-11-01T10:54:44.245Z"
   },
   {
    "duration": 0,
    "start_time": "2022-11-01T10:54:44.246Z"
   },
   {
    "duration": 0,
    "start_time": "2022-11-01T10:54:44.247Z"
   },
   {
    "duration": 0,
    "start_time": "2022-11-01T10:54:44.248Z"
   },
   {
    "duration": 0,
    "start_time": "2022-11-01T10:54:44.249Z"
   },
   {
    "duration": 0,
    "start_time": "2022-11-01T10:54:44.250Z"
   },
   {
    "duration": 0,
    "start_time": "2022-11-01T10:54:44.251Z"
   },
   {
    "duration": 0,
    "start_time": "2022-11-01T10:54:44.252Z"
   },
   {
    "duration": 0,
    "start_time": "2022-11-01T10:54:44.253Z"
   },
   {
    "duration": 0,
    "start_time": "2022-11-01T10:54:44.254Z"
   },
   {
    "duration": 0,
    "start_time": "2022-11-01T10:54:44.255Z"
   },
   {
    "duration": 0,
    "start_time": "2022-11-01T10:54:44.256Z"
   },
   {
    "duration": 0,
    "start_time": "2022-11-01T10:54:44.322Z"
   },
   {
    "duration": 0,
    "start_time": "2022-11-01T10:54:44.324Z"
   },
   {
    "duration": 0,
    "start_time": "2022-11-01T10:54:44.325Z"
   },
   {
    "duration": 0,
    "start_time": "2022-11-01T10:54:44.326Z"
   },
   {
    "duration": 0,
    "start_time": "2022-11-01T10:54:44.327Z"
   },
   {
    "duration": 0,
    "start_time": "2022-11-01T10:54:44.328Z"
   },
   {
    "duration": 0,
    "start_time": "2022-11-01T10:54:44.329Z"
   },
   {
    "duration": 0,
    "start_time": "2022-11-01T10:54:44.329Z"
   },
   {
    "duration": 0,
    "start_time": "2022-11-01T10:54:44.331Z"
   },
   {
    "duration": 0,
    "start_time": "2022-11-01T10:54:44.331Z"
   },
   {
    "duration": 0,
    "start_time": "2022-11-01T10:54:44.333Z"
   },
   {
    "duration": 0,
    "start_time": "2022-11-01T10:54:44.334Z"
   },
   {
    "duration": 0,
    "start_time": "2022-11-01T10:54:44.335Z"
   },
   {
    "duration": 0,
    "start_time": "2022-11-01T10:54:44.336Z"
   },
   {
    "duration": 0,
    "start_time": "2022-11-01T10:54:44.337Z"
   },
   {
    "duration": 0,
    "start_time": "2022-11-01T10:54:44.338Z"
   },
   {
    "duration": 0,
    "start_time": "2022-11-01T10:54:44.339Z"
   },
   {
    "duration": 0,
    "start_time": "2022-11-01T10:54:44.340Z"
   },
   {
    "duration": 0,
    "start_time": "2022-11-01T10:54:44.341Z"
   },
   {
    "duration": 0,
    "start_time": "2022-11-01T10:54:44.342Z"
   },
   {
    "duration": 0,
    "start_time": "2022-11-01T10:54:44.343Z"
   },
   {
    "duration": 0,
    "start_time": "2022-11-01T10:54:44.344Z"
   },
   {
    "duration": 0,
    "start_time": "2022-11-01T10:54:44.345Z"
   },
   {
    "duration": 0,
    "start_time": "2022-11-01T10:54:44.346Z"
   },
   {
    "duration": 0,
    "start_time": "2022-11-01T10:54:44.347Z"
   },
   {
    "duration": 0,
    "start_time": "2022-11-01T10:54:44.348Z"
   },
   {
    "duration": 0,
    "start_time": "2022-11-01T10:54:44.349Z"
   },
   {
    "duration": 0,
    "start_time": "2022-11-01T10:54:44.350Z"
   },
   {
    "duration": 0,
    "start_time": "2022-11-01T10:54:44.351Z"
   },
   {
    "duration": 0,
    "start_time": "2022-11-01T10:54:44.352Z"
   },
   {
    "duration": 0,
    "start_time": "2022-11-01T10:54:44.353Z"
   },
   {
    "duration": 0,
    "start_time": "2022-11-01T10:54:44.353Z"
   },
   {
    "duration": 0,
    "start_time": "2022-11-01T10:54:44.355Z"
   },
   {
    "duration": 0,
    "start_time": "2022-11-01T10:54:44.356Z"
   },
   {
    "duration": 0,
    "start_time": "2022-11-01T10:54:44.357Z"
   },
   {
    "duration": 10,
    "start_time": "2022-11-01T10:54:56.797Z"
   },
   {
    "duration": 26,
    "start_time": "2022-11-01T10:55:03.533Z"
   },
   {
    "duration": 35,
    "start_time": "2022-11-01T10:55:44.071Z"
   },
   {
    "duration": 8,
    "start_time": "2022-11-01T10:57:36.690Z"
   },
   {
    "duration": 8,
    "start_time": "2022-11-01T10:57:43.827Z"
   },
   {
    "duration": 9,
    "start_time": "2022-11-01T10:58:06.812Z"
   },
   {
    "duration": 8,
    "start_time": "2022-11-01T10:58:20.501Z"
   },
   {
    "duration": 8,
    "start_time": "2022-11-01T10:58:32.460Z"
   },
   {
    "duration": 5,
    "start_time": "2022-11-01T11:03:12.431Z"
   },
   {
    "duration": 6,
    "start_time": "2022-11-01T11:04:12.217Z"
   },
   {
    "duration": 1214,
    "start_time": "2022-11-01T11:04:53.618Z"
   },
   {
    "duration": 132,
    "start_time": "2022-11-01T11:04:54.834Z"
   },
   {
    "duration": 5,
    "start_time": "2022-11-01T11:04:54.967Z"
   },
   {
    "duration": 36,
    "start_time": "2022-11-01T11:04:54.974Z"
   },
   {
    "duration": 49,
    "start_time": "2022-11-01T11:04:55.012Z"
   },
   {
    "duration": 89,
    "start_time": "2022-11-01T11:04:55.063Z"
   },
   {
    "duration": 2184,
    "start_time": "2022-11-01T11:04:55.154Z"
   },
   {
    "duration": 11,
    "start_time": "2022-11-01T11:04:57.339Z"
   },
   {
    "duration": 10,
    "start_time": "2022-11-01T11:04:57.351Z"
   },
   {
    "duration": 495,
    "start_time": "2022-11-01T11:04:57.363Z"
   },
   {
    "duration": 80,
    "start_time": "2022-11-01T11:04:57.859Z"
   },
   {
    "duration": 17,
    "start_time": "2022-11-01T11:04:57.941Z"
   },
   {
    "duration": 6,
    "start_time": "2022-11-01T11:04:57.960Z"
   },
   {
    "duration": 64,
    "start_time": "2022-11-01T11:04:57.968Z"
   },
   {
    "duration": 20,
    "start_time": "2022-11-01T11:04:58.035Z"
   },
   {
    "duration": 7,
    "start_time": "2022-11-01T11:04:58.057Z"
   },
   {
    "duration": 8,
    "start_time": "2022-11-01T11:04:58.066Z"
   },
   {
    "duration": 6,
    "start_time": "2022-11-01T11:04:58.075Z"
   },
   {
    "duration": 23,
    "start_time": "2022-11-01T11:04:58.123Z"
   },
   {
    "duration": 14,
    "start_time": "2022-11-01T11:04:58.148Z"
   },
   {
    "duration": 6,
    "start_time": "2022-11-01T11:04:58.164Z"
   },
   {
    "duration": 5,
    "start_time": "2022-11-01T11:04:58.171Z"
   },
   {
    "duration": 46,
    "start_time": "2022-11-01T11:04:58.177Z"
   },
   {
    "duration": 12,
    "start_time": "2022-11-01T11:04:58.232Z"
   },
   {
    "duration": 25,
    "start_time": "2022-11-01T11:04:58.246Z"
   },
   {
    "duration": 66,
    "start_time": "2022-11-01T11:04:58.272Z"
   },
   {
    "duration": 417,
    "start_time": "2022-11-01T11:04:58.339Z"
   },
   {
    "duration": 2315,
    "start_time": "2022-11-01T11:04:58.759Z"
   },
   {
    "duration": 166,
    "start_time": "2022-11-01T11:05:01.076Z"
   },
   {
    "duration": 3,
    "start_time": "2022-11-01T11:05:01.244Z"
   },
   {
    "duration": 60,
    "start_time": "2022-11-01T11:05:01.249Z"
   },
   {
    "duration": 204,
    "start_time": "2022-11-01T11:05:01.311Z"
   },
   {
    "duration": 17,
    "start_time": "2022-11-01T11:05:01.517Z"
   },
   {
    "duration": 36,
    "start_time": "2022-11-01T11:05:01.536Z"
   },
   {
    "duration": 84,
    "start_time": "2022-11-01T11:05:01.574Z"
   },
   {
    "duration": 28,
    "start_time": "2022-11-01T11:05:01.660Z"
   },
   {
    "duration": 168,
    "start_time": "2022-11-01T11:05:01.690Z"
   },
   {
    "duration": 151,
    "start_time": "2022-11-01T11:05:01.860Z"
   },
   {
    "duration": 22,
    "start_time": "2022-11-01T11:05:02.013Z"
   },
   {
    "duration": 59,
    "start_time": "2022-11-01T11:05:02.036Z"
   },
   {
    "duration": 24,
    "start_time": "2022-11-01T11:05:02.097Z"
   },
   {
    "duration": 32,
    "start_time": "2022-11-01T11:05:02.133Z"
   },
   {
    "duration": 8,
    "start_time": "2022-11-01T11:05:02.167Z"
   },
   {
    "duration": 18,
    "start_time": "2022-11-01T11:05:02.177Z"
   },
   {
    "duration": 90,
    "start_time": "2022-11-01T11:05:02.197Z"
   },
   {
    "duration": 8,
    "start_time": "2022-11-01T11:05:02.288Z"
   },
   {
    "duration": 77,
    "start_time": "2022-11-01T11:05:02.297Z"
   },
   {
    "duration": 43,
    "start_time": "2022-11-01T11:05:02.375Z"
   },
   {
    "duration": 27,
    "start_time": "2022-11-01T11:05:02.420Z"
   },
   {
    "duration": 196,
    "start_time": "2022-11-01T11:05:02.449Z"
   },
   {
    "duration": 9,
    "start_time": "2022-11-01T11:05:02.646Z"
   },
   {
    "duration": 15,
    "start_time": "2022-11-01T11:05:02.657Z"
   },
   {
    "duration": 20,
    "start_time": "2022-11-01T11:05:02.673Z"
   },
   {
    "duration": 10,
    "start_time": "2022-11-01T11:05:02.695Z"
   },
   {
    "duration": 30,
    "start_time": "2022-11-01T11:05:02.707Z"
   },
   {
    "duration": 12,
    "start_time": "2022-11-01T11:05:02.739Z"
   },
   {
    "duration": 11,
    "start_time": "2022-11-01T11:05:02.752Z"
   },
   {
    "duration": 167,
    "start_time": "2022-11-01T11:05:02.765Z"
   },
   {
    "duration": 6,
    "start_time": "2022-11-01T11:05:02.933Z"
   },
   {
    "duration": 166,
    "start_time": "2022-11-01T11:05:02.941Z"
   },
   {
    "duration": 76,
    "start_time": "2022-11-01T11:05:03.109Z"
   },
   {
    "duration": 53,
    "start_time": "2022-11-01T11:05:03.186Z"
   },
   {
    "duration": 12,
    "start_time": "2022-11-01T11:05:03.241Z"
   },
   {
    "duration": 6,
    "start_time": "2022-11-01T11:05:03.254Z"
   },
   {
    "duration": 76,
    "start_time": "2022-11-01T11:05:03.261Z"
   },
   {
    "duration": 8,
    "start_time": "2022-11-01T11:05:03.339Z"
   },
   {
    "duration": 14,
    "start_time": "2022-11-01T11:05:03.348Z"
   },
   {
    "duration": 389,
    "start_time": "2022-11-01T11:05:03.363Z"
   },
   {
    "duration": 8,
    "start_time": "2022-11-01T11:05:03.754Z"
   },
   {
    "duration": 289,
    "start_time": "2022-11-01T11:05:03.764Z"
   },
   {
    "duration": 11,
    "start_time": "2022-11-01T11:05:04.054Z"
   },
   {
    "duration": 290,
    "start_time": "2022-11-01T11:05:04.067Z"
   },
   {
    "duration": 16,
    "start_time": "2022-11-01T11:05:04.358Z"
   },
   {
    "duration": 10,
    "start_time": "2022-11-01T11:05:04.376Z"
   },
   {
    "duration": 12,
    "start_time": "2022-11-01T11:05:04.387Z"
   },
   {
    "duration": 35,
    "start_time": "2022-11-01T11:05:04.401Z"
   },
   {
    "duration": 13,
    "start_time": "2022-11-01T11:05:04.437Z"
   },
   {
    "duration": 16,
    "start_time": "2022-11-01T11:05:04.451Z"
   },
   {
    "duration": 20,
    "start_time": "2022-11-01T11:05:04.468Z"
   },
   {
    "duration": 5,
    "start_time": "2022-11-01T11:05:04.489Z"
   },
   {
    "duration": 8,
    "start_time": "2022-11-01T11:05:04.495Z"
   },
   {
    "duration": 8,
    "start_time": "2022-11-01T11:05:04.527Z"
   },
   {
    "duration": 11,
    "start_time": "2022-11-01T11:05:04.536Z"
   },
   {
    "duration": 15,
    "start_time": "2022-11-01T11:05:04.549Z"
   },
   {
    "duration": 12,
    "start_time": "2022-11-01T11:05:04.565Z"
   },
   {
    "duration": 275,
    "start_time": "2022-11-01T11:05:04.579Z"
   },
   {
    "duration": 5,
    "start_time": "2022-11-01T11:05:04.855Z"
   },
   {
    "duration": 26,
    "start_time": "2022-11-01T11:05:04.861Z"
   },
   {
    "duration": 23,
    "start_time": "2022-11-01T11:05:04.888Z"
   },
   {
    "duration": 426,
    "start_time": "2022-11-01T11:05:04.912Z"
   },
   {
    "duration": 8,
    "start_time": "2022-11-01T11:05:05.340Z"
   },
   {
    "duration": 271,
    "start_time": "2022-11-01T11:05:05.349Z"
   },
   {
    "duration": 17,
    "start_time": "2022-11-01T11:05:05.621Z"
   },
   {
    "duration": 316,
    "start_time": "2022-11-01T11:05:05.641Z"
   },
   {
    "duration": 7,
    "start_time": "2022-11-01T11:05:05.958Z"
   },
   {
    "duration": 153,
    "start_time": "2022-11-01T11:05:05.967Z"
   },
   {
    "duration": 13,
    "start_time": "2022-11-01T11:05:06.123Z"
   },
   {
    "duration": 201,
    "start_time": "2022-11-01T11:05:06.138Z"
   },
   {
    "duration": 10,
    "start_time": "2022-11-01T11:05:06.341Z"
   },
   {
    "duration": 139,
    "start_time": "2022-11-01T11:05:06.352Z"
   },
   {
    "duration": 8,
    "start_time": "2022-11-01T11:05:06.492Z"
   },
   {
    "duration": 210,
    "start_time": "2022-11-01T11:05:06.502Z"
   },
   {
    "duration": 25,
    "start_time": "2022-11-01T11:05:06.713Z"
   },
   {
    "duration": 157,
    "start_time": "2022-11-01T11:05:06.740Z"
   },
   {
    "duration": 9,
    "start_time": "2022-11-01T11:05:06.899Z"
   },
   {
    "duration": 731,
    "start_time": "2022-11-01T11:05:06.910Z"
   },
   {
    "duration": 9,
    "start_time": "2022-11-01T11:05:07.643Z"
   },
   {
    "duration": 316,
    "start_time": "2022-11-01T11:05:07.653Z"
   },
   {
    "duration": 136,
    "start_time": "2022-11-01T11:05:07.971Z"
   },
   {
    "duration": 225,
    "start_time": "2022-11-01T11:05:08.109Z"
   },
   {
    "duration": 239,
    "start_time": "2022-11-01T11:05:08.336Z"
   },
   {
    "duration": 21,
    "start_time": "2022-11-01T11:05:08.576Z"
   },
   {
    "duration": 28,
    "start_time": "2022-11-01T11:05:08.599Z"
   },
   {
    "duration": 4,
    "start_time": "2022-11-01T11:05:08.636Z"
   },
   {
    "duration": 20,
    "start_time": "2022-11-01T11:05:08.642Z"
   },
   {
    "duration": 735,
    "start_time": "2022-11-01T11:05:08.664Z"
   },
   {
    "duration": 4,
    "start_time": "2022-11-01T11:05:09.401Z"
   },
   {
    "duration": 666,
    "start_time": "2022-11-01T11:05:09.407Z"
   },
   {
    "duration": 5,
    "start_time": "2022-11-01T11:05:10.074Z"
   },
   {
    "duration": 792,
    "start_time": "2022-11-01T11:05:10.081Z"
   },
   {
    "duration": 6,
    "start_time": "2022-11-01T11:05:10.875Z"
   },
   {
    "duration": 573,
    "start_time": "2022-11-01T11:05:10.883Z"
   },
   {
    "duration": 531,
    "start_time": "2022-11-01T11:05:11.458Z"
   },
   {
    "duration": 548,
    "start_time": "2022-11-01T11:05:11.990Z"
   },
   {
    "duration": 541,
    "start_time": "2022-11-01T11:05:12.540Z"
   },
   {
    "duration": 630,
    "start_time": "2022-11-01T11:05:13.083Z"
   },
   {
    "duration": 23,
    "start_time": "2022-11-01T11:05:13.715Z"
   },
   {
    "duration": 44,
    "start_time": "2022-11-01T11:05:13.740Z"
   },
   {
    "duration": 6,
    "start_time": "2022-11-01T11:05:13.785Z"
   },
   {
    "duration": 22,
    "start_time": "2022-11-01T11:05:13.792Z"
   },
   {
    "duration": 37,
    "start_time": "2022-11-01T11:05:13.815Z"
   },
   {
    "duration": 226,
    "start_time": "2022-11-01T11:05:13.853Z"
   },
   {
    "duration": 12,
    "start_time": "2022-11-01T11:05:14.080Z"
   },
   {
    "duration": 45,
    "start_time": "2022-11-01T11:05:14.093Z"
   },
   {
    "duration": 14,
    "start_time": "2022-11-01T11:05:14.140Z"
   },
   {
    "duration": 39,
    "start_time": "2022-11-01T11:05:14.156Z"
   },
   {
    "duration": 194,
    "start_time": "2022-11-01T11:05:14.196Z"
   },
   {
    "duration": 5,
    "start_time": "2022-11-01T11:05:14.392Z"
   },
   {
    "duration": 36,
    "start_time": "2022-11-01T11:05:14.398Z"
   },
   {
    "duration": 4211,
    "start_time": "2022-11-01T11:05:14.436Z"
   },
   {
    "duration": 502,
    "start_time": "2022-11-01T11:05:18.649Z"
   },
   {
    "duration": 1314,
    "start_time": "2022-11-01T11:05:19.153Z"
   },
   {
    "duration": 18,
    "start_time": "2022-11-01T11:09:35.517Z"
   },
   {
    "duration": 211,
    "start_time": "2022-11-01T11:14:35.058Z"
   },
   {
    "duration": 183,
    "start_time": "2022-11-01T11:14:43.641Z"
   },
   {
    "duration": 199,
    "start_time": "2022-11-01T11:15:32.284Z"
   },
   {
    "duration": 190,
    "start_time": "2022-11-01T11:15:50.212Z"
   },
   {
    "duration": 197,
    "start_time": "2022-11-01T11:15:54.668Z"
   },
   {
    "duration": 324,
    "start_time": "2022-11-01T11:18:01.433Z"
   },
   {
    "duration": 9,
    "start_time": "2022-11-01T11:20:27.687Z"
   },
   {
    "duration": 9,
    "start_time": "2022-11-01T11:22:16.148Z"
   },
   {
    "duration": 1218,
    "start_time": "2022-11-01T11:31:49.421Z"
   },
   {
    "duration": 132,
    "start_time": "2022-11-01T11:31:50.641Z"
   },
   {
    "duration": 5,
    "start_time": "2022-11-01T11:31:50.774Z"
   },
   {
    "duration": 17,
    "start_time": "2022-11-01T11:31:50.781Z"
   },
   {
    "duration": 37,
    "start_time": "2022-11-01T11:31:50.800Z"
   },
   {
    "duration": 47,
    "start_time": "2022-11-01T11:31:50.838Z"
   },
   {
    "duration": 1802,
    "start_time": "2022-11-01T11:31:50.887Z"
   },
   {
    "duration": 9,
    "start_time": "2022-11-01T11:31:52.691Z"
   },
   {
    "duration": 4,
    "start_time": "2022-11-01T11:31:52.701Z"
   },
   {
    "duration": 297,
    "start_time": "2022-11-01T11:31:52.721Z"
   },
   {
    "duration": 24,
    "start_time": "2022-11-01T11:31:53.021Z"
   },
   {
    "duration": 4,
    "start_time": "2022-11-01T11:31:53.047Z"
   },
   {
    "duration": 14,
    "start_time": "2022-11-01T11:31:53.052Z"
   },
   {
    "duration": 6,
    "start_time": "2022-11-01T11:31:53.068Z"
   },
   {
    "duration": 10,
    "start_time": "2022-11-01T11:31:53.076Z"
   },
   {
    "duration": 5,
    "start_time": "2022-11-01T11:31:53.087Z"
   },
   {
    "duration": 8,
    "start_time": "2022-11-01T11:31:53.094Z"
   },
   {
    "duration": 22,
    "start_time": "2022-11-01T11:31:53.104Z"
   },
   {
    "duration": 12,
    "start_time": "2022-11-01T11:31:53.127Z"
   },
   {
    "duration": 9,
    "start_time": "2022-11-01T11:31:53.141Z"
   },
   {
    "duration": 8,
    "start_time": "2022-11-01T11:31:53.152Z"
   },
   {
    "duration": 7,
    "start_time": "2022-11-01T11:31:53.161Z"
   },
   {
    "duration": 7,
    "start_time": "2022-11-01T11:31:53.169Z"
   },
   {
    "duration": 11,
    "start_time": "2022-11-01T11:31:53.177Z"
   },
   {
    "duration": 11,
    "start_time": "2022-11-01T11:31:53.189Z"
   },
   {
    "duration": 38,
    "start_time": "2022-11-01T11:31:53.201Z"
   },
   {
    "duration": 165,
    "start_time": "2022-11-01T11:31:53.241Z"
   },
   {
    "duration": 1466,
    "start_time": "2022-11-01T11:31:53.411Z"
   },
   {
    "duration": 159,
    "start_time": "2022-11-01T11:31:54.878Z"
   },
   {
    "duration": 3,
    "start_time": "2022-11-01T11:31:55.038Z"
   },
   {
    "duration": 32,
    "start_time": "2022-11-01T11:31:55.042Z"
   },
   {
    "duration": 142,
    "start_time": "2022-11-01T11:31:55.076Z"
   },
   {
    "duration": 10,
    "start_time": "2022-11-01T11:31:55.219Z"
   },
   {
    "duration": 8,
    "start_time": "2022-11-01T11:31:55.230Z"
   },
   {
    "duration": 29,
    "start_time": "2022-11-01T11:31:55.240Z"
   },
   {
    "duration": 24,
    "start_time": "2022-11-01T11:31:55.270Z"
   },
   {
    "duration": 148,
    "start_time": "2022-11-01T11:31:55.295Z"
   },
   {
    "duration": 137,
    "start_time": "2022-11-01T11:31:55.445Z"
   },
   {
    "duration": 4,
    "start_time": "2022-11-01T11:31:55.585Z"
   },
   {
    "duration": 11,
    "start_time": "2022-11-01T11:31:55.591Z"
   },
   {
    "duration": 23,
    "start_time": "2022-11-01T11:31:55.603Z"
   },
   {
    "duration": 28,
    "start_time": "2022-11-01T11:31:55.627Z"
   },
   {
    "duration": 8,
    "start_time": "2022-11-01T11:31:55.657Z"
   },
   {
    "duration": 8,
    "start_time": "2022-11-01T11:31:55.667Z"
   },
   {
    "duration": 90,
    "start_time": "2022-11-01T11:31:55.677Z"
   },
   {
    "duration": 7,
    "start_time": "2022-11-01T11:31:55.769Z"
   },
   {
    "duration": 6,
    "start_time": "2022-11-01T11:31:55.777Z"
   },
   {
    "duration": 9,
    "start_time": "2022-11-01T11:31:55.785Z"
   },
   {
    "duration": 4,
    "start_time": "2022-11-01T11:31:55.796Z"
   },
   {
    "duration": 183,
    "start_time": "2022-11-01T11:31:55.801Z"
   },
   {
    "duration": 9,
    "start_time": "2022-11-01T11:31:55.986Z"
   },
   {
    "duration": 11,
    "start_time": "2022-11-01T11:31:55.996Z"
   },
   {
    "duration": 14,
    "start_time": "2022-11-01T11:31:56.009Z"
   },
   {
    "duration": 16,
    "start_time": "2022-11-01T11:31:56.024Z"
   },
   {
    "duration": 9,
    "start_time": "2022-11-01T11:31:56.042Z"
   },
   {
    "duration": 7,
    "start_time": "2022-11-01T11:31:56.053Z"
   },
   {
    "duration": 13,
    "start_time": "2022-11-01T11:31:56.061Z"
   },
   {
    "duration": 171,
    "start_time": "2022-11-01T11:31:56.075Z"
   },
   {
    "duration": 6,
    "start_time": "2022-11-01T11:31:56.247Z"
   },
   {
    "duration": 148,
    "start_time": "2022-11-01T11:31:56.254Z"
   },
   {
    "duration": 71,
    "start_time": "2022-11-01T11:31:56.404Z"
   },
   {
    "duration": 61,
    "start_time": "2022-11-01T11:31:56.476Z"
   },
   {
    "duration": 15,
    "start_time": "2022-11-01T11:31:56.538Z"
   },
   {
    "duration": 7,
    "start_time": "2022-11-01T11:31:56.554Z"
   },
   {
    "duration": 71,
    "start_time": "2022-11-01T11:31:56.563Z"
   },
   {
    "duration": 8,
    "start_time": "2022-11-01T11:31:56.635Z"
   },
   {
    "duration": 12,
    "start_time": "2022-11-01T11:31:56.644Z"
   },
   {
    "duration": 363,
    "start_time": "2022-11-01T11:31:56.657Z"
   },
   {
    "duration": 16,
    "start_time": "2022-11-01T11:31:57.022Z"
   },
   {
    "duration": 265,
    "start_time": "2022-11-01T11:31:57.039Z"
   },
   {
    "duration": 25,
    "start_time": "2022-11-01T11:31:57.306Z"
   },
   {
    "duration": 282,
    "start_time": "2022-11-01T11:31:57.336Z"
   },
   {
    "duration": 19,
    "start_time": "2022-11-01T11:31:57.622Z"
   },
   {
    "duration": 15,
    "start_time": "2022-11-01T11:31:57.642Z"
   },
   {
    "duration": 12,
    "start_time": "2022-11-01T11:31:57.658Z"
   },
   {
    "duration": 9,
    "start_time": "2022-11-01T11:31:57.671Z"
   },
   {
    "duration": 12,
    "start_time": "2022-11-01T11:31:57.681Z"
   },
   {
    "duration": 38,
    "start_time": "2022-11-01T11:31:57.694Z"
   },
   {
    "duration": 7,
    "start_time": "2022-11-01T11:31:57.734Z"
   },
   {
    "duration": 11,
    "start_time": "2022-11-01T11:31:57.743Z"
   },
   {
    "duration": 12,
    "start_time": "2022-11-01T11:31:57.755Z"
   },
   {
    "duration": 3,
    "start_time": "2022-11-01T11:31:57.773Z"
   },
   {
    "duration": 16,
    "start_time": "2022-11-01T11:31:57.778Z"
   },
   {
    "duration": 202,
    "start_time": "2022-11-01T11:31:57.795Z"
   },
   {
    "duration": 6,
    "start_time": "2022-11-01T11:31:57.998Z"
   },
   {
    "duration": 30,
    "start_time": "2022-11-01T11:31:58.005Z"
   },
   {
    "duration": 9,
    "start_time": "2022-11-01T11:31:58.037Z"
   },
   {
    "duration": 6,
    "start_time": "2022-11-01T11:31:58.047Z"
   },
   {
    "duration": 8,
    "start_time": "2022-11-01T11:31:58.055Z"
   },
   {
    "duration": 354,
    "start_time": "2022-11-01T11:31:58.065Z"
   },
   {
    "duration": 12,
    "start_time": "2022-11-01T11:31:58.421Z"
   },
   {
    "duration": 8,
    "start_time": "2022-11-01T11:31:58.435Z"
   },
   {
    "duration": 9,
    "start_time": "2022-11-01T11:31:58.445Z"
   },
   {
    "duration": 309,
    "start_time": "2022-11-01T11:31:58.456Z"
   },
   {
    "duration": 8,
    "start_time": "2022-11-01T11:31:58.767Z"
   },
   {
    "duration": 372,
    "start_time": "2022-11-01T11:31:58.776Z"
   },
   {
    "duration": 11,
    "start_time": "2022-11-01T11:31:59.150Z"
   },
   {
    "duration": 311,
    "start_time": "2022-11-01T11:31:59.162Z"
   },
   {
    "duration": 8,
    "start_time": "2022-11-01T11:31:59.474Z"
   },
   {
    "duration": 155,
    "start_time": "2022-11-01T11:31:59.483Z"
   },
   {
    "duration": 8,
    "start_time": "2022-11-01T11:31:59.639Z"
   },
   {
    "duration": 254,
    "start_time": "2022-11-01T11:31:59.648Z"
   },
   {
    "duration": 7,
    "start_time": "2022-11-01T11:31:59.904Z"
   },
   {
    "duration": 151,
    "start_time": "2022-11-01T11:31:59.912Z"
   },
   {
    "duration": 8,
    "start_time": "2022-11-01T11:32:00.064Z"
   },
   {
    "duration": 137,
    "start_time": "2022-11-01T11:32:00.073Z"
   },
   {
    "duration": 16,
    "start_time": "2022-11-01T11:32:00.211Z"
   },
   {
    "duration": 173,
    "start_time": "2022-11-01T11:32:00.228Z"
   },
   {
    "duration": 8,
    "start_time": "2022-11-01T11:32:00.403Z"
   },
   {
    "duration": 730,
    "start_time": "2022-11-01T11:32:00.412Z"
   },
   {
    "duration": 9,
    "start_time": "2022-11-01T11:32:01.144Z"
   },
   {
    "duration": 428,
    "start_time": "2022-11-01T11:32:01.155Z"
   },
   {
    "duration": 132,
    "start_time": "2022-11-01T11:32:01.584Z"
   },
   {
    "duration": 121,
    "start_time": "2022-11-01T11:32:01.728Z"
   },
   {
    "duration": 251,
    "start_time": "2022-11-01T11:32:01.851Z"
   },
   {
    "duration": 8,
    "start_time": "2022-11-01T11:32:02.104Z"
   },
   {
    "duration": 25,
    "start_time": "2022-11-01T11:32:02.114Z"
   },
   {
    "duration": 5,
    "start_time": "2022-11-01T11:32:02.141Z"
   },
   {
    "duration": 302,
    "start_time": "2022-11-01T11:32:02.147Z"
   },
   {
    "duration": 12,
    "start_time": "2022-11-01T11:32:02.451Z"
   },
   {
    "duration": 708,
    "start_time": "2022-11-01T11:32:02.464Z"
   },
   {
    "duration": 5,
    "start_time": "2022-11-01T11:32:03.173Z"
   },
   {
    "duration": 761,
    "start_time": "2022-11-01T11:32:03.180Z"
   },
   {
    "duration": 5,
    "start_time": "2022-11-01T11:32:03.942Z"
   },
   {
    "duration": 625,
    "start_time": "2022-11-01T11:32:03.948Z"
   },
   {
    "duration": 6,
    "start_time": "2022-11-01T11:32:04.574Z"
   },
   {
    "duration": 558,
    "start_time": "2022-11-01T11:32:04.581Z"
   },
   {
    "duration": 605,
    "start_time": "2022-11-01T11:32:05.141Z"
   },
   {
    "duration": 521,
    "start_time": "2022-11-01T11:32:05.748Z"
   },
   {
    "duration": 618,
    "start_time": "2022-11-01T11:32:06.272Z"
   },
   {
    "duration": 546,
    "start_time": "2022-11-01T11:32:06.892Z"
   },
   {
    "duration": 5,
    "start_time": "2022-11-01T11:32:07.440Z"
   },
   {
    "duration": 52,
    "start_time": "2022-11-01T11:32:07.447Z"
   },
   {
    "duration": 13,
    "start_time": "2022-11-01T11:32:07.501Z"
   },
   {
    "duration": 77,
    "start_time": "2022-11-01T11:32:07.516Z"
   },
   {
    "duration": 27,
    "start_time": "2022-11-01T11:32:07.595Z"
   },
   {
    "duration": 219,
    "start_time": "2022-11-01T11:32:07.628Z"
   },
   {
    "duration": 9,
    "start_time": "2022-11-01T11:32:07.849Z"
   },
   {
    "duration": 46,
    "start_time": "2022-11-01T11:32:07.859Z"
   },
   {
    "duration": 12,
    "start_time": "2022-11-01T11:32:07.907Z"
   },
   {
    "duration": 6,
    "start_time": "2022-11-01T11:32:07.921Z"
   },
   {
    "duration": 28,
    "start_time": "2022-11-01T11:32:07.928Z"
   },
   {
    "duration": 182,
    "start_time": "2022-11-01T11:32:07.958Z"
   },
   {
    "duration": 5,
    "start_time": "2022-11-01T11:32:08.141Z"
   },
   {
    "duration": 6,
    "start_time": "2022-11-01T11:32:08.148Z"
   },
   {
    "duration": 4297,
    "start_time": "2022-11-01T11:32:08.156Z"
   },
   {
    "duration": 428,
    "start_time": "2022-11-01T11:32:12.455Z"
   },
   {
    "duration": 1151,
    "start_time": "2022-11-01T11:32:12.885Z"
   },
   {
    "duration": 1147,
    "start_time": "2022-11-01T11:36:20.366Z"
   },
   {
    "duration": 135,
    "start_time": "2022-11-01T11:36:21.516Z"
   },
   {
    "duration": 6,
    "start_time": "2022-11-01T11:36:21.652Z"
   },
   {
    "duration": 23,
    "start_time": "2022-11-01T11:36:21.659Z"
   },
   {
    "duration": 31,
    "start_time": "2022-11-01T11:36:21.684Z"
   },
   {
    "duration": 53,
    "start_time": "2022-11-01T11:36:21.717Z"
   },
   {
    "duration": 1792,
    "start_time": "2022-11-01T11:36:21.772Z"
   },
   {
    "duration": 9,
    "start_time": "2022-11-01T11:36:23.565Z"
   },
   {
    "duration": 5,
    "start_time": "2022-11-01T11:36:23.575Z"
   },
   {
    "duration": 328,
    "start_time": "2022-11-01T11:36:23.583Z"
   },
   {
    "duration": 26,
    "start_time": "2022-11-01T11:36:23.913Z"
   },
   {
    "duration": 3,
    "start_time": "2022-11-01T11:36:23.941Z"
   },
   {
    "duration": 8,
    "start_time": "2022-11-01T11:36:23.946Z"
   },
   {
    "duration": 6,
    "start_time": "2022-11-01T11:36:23.955Z"
   },
   {
    "duration": 10,
    "start_time": "2022-11-01T11:36:23.962Z"
   },
   {
    "duration": 5,
    "start_time": "2022-11-01T11:36:23.973Z"
   },
   {
    "duration": 8,
    "start_time": "2022-11-01T11:36:23.979Z"
   },
   {
    "duration": 7,
    "start_time": "2022-11-01T11:36:23.988Z"
   },
   {
    "duration": 37,
    "start_time": "2022-11-01T11:36:23.996Z"
   },
   {
    "duration": 9,
    "start_time": "2022-11-01T11:36:24.035Z"
   },
   {
    "duration": 8,
    "start_time": "2022-11-01T11:36:24.046Z"
   },
   {
    "duration": 4,
    "start_time": "2022-11-01T11:36:24.055Z"
   },
   {
    "duration": 5,
    "start_time": "2022-11-01T11:36:24.060Z"
   },
   {
    "duration": 10,
    "start_time": "2022-11-01T11:36:24.067Z"
   },
   {
    "duration": 11,
    "start_time": "2022-11-01T11:36:24.079Z"
   },
   {
    "duration": 41,
    "start_time": "2022-11-01T11:36:24.092Z"
   },
   {
    "duration": 160,
    "start_time": "2022-11-01T11:36:24.135Z"
   },
   {
    "duration": 1491,
    "start_time": "2022-11-01T11:36:24.299Z"
   },
   {
    "duration": 157,
    "start_time": "2022-11-01T11:36:25.792Z"
   },
   {
    "duration": 3,
    "start_time": "2022-11-01T11:36:25.951Z"
   },
   {
    "duration": 12,
    "start_time": "2022-11-01T11:36:25.955Z"
   },
   {
    "duration": 144,
    "start_time": "2022-11-01T11:36:25.968Z"
   },
   {
    "duration": 18,
    "start_time": "2022-11-01T11:36:26.114Z"
   },
   {
    "duration": 9,
    "start_time": "2022-11-01T11:36:26.134Z"
   },
   {
    "duration": 22,
    "start_time": "2022-11-01T11:36:26.145Z"
   },
   {
    "duration": 4,
    "start_time": "2022-11-01T11:36:26.168Z"
   },
   {
    "duration": 140,
    "start_time": "2022-11-01T11:36:26.173Z"
   },
   {
    "duration": 140,
    "start_time": "2022-11-01T11:36:26.315Z"
   },
   {
    "duration": 4,
    "start_time": "2022-11-01T11:36:26.457Z"
   },
   {
    "duration": 6,
    "start_time": "2022-11-01T11:36:26.463Z"
   },
   {
    "duration": 10,
    "start_time": "2022-11-01T11:36:26.470Z"
   },
   {
    "duration": 55,
    "start_time": "2022-11-01T11:36:26.482Z"
   },
   {
    "duration": 8,
    "start_time": "2022-11-01T11:36:26.538Z"
   },
   {
    "duration": 6,
    "start_time": "2022-11-01T11:36:26.547Z"
   },
   {
    "duration": 81,
    "start_time": "2022-11-01T11:36:26.555Z"
   },
   {
    "duration": 7,
    "start_time": "2022-11-01T11:36:26.637Z"
   },
   {
    "duration": 9,
    "start_time": "2022-11-01T11:36:26.646Z"
   },
   {
    "duration": 9,
    "start_time": "2022-11-01T11:36:26.656Z"
   },
   {
    "duration": 6,
    "start_time": "2022-11-01T11:36:26.666Z"
   },
   {
    "duration": 173,
    "start_time": "2022-11-01T11:36:26.674Z"
   },
   {
    "duration": 8,
    "start_time": "2022-11-01T11:36:26.848Z"
   },
   {
    "duration": 7,
    "start_time": "2022-11-01T11:36:26.857Z"
   },
   {
    "duration": 22,
    "start_time": "2022-11-01T11:36:26.866Z"
   },
   {
    "duration": 5,
    "start_time": "2022-11-01T11:36:26.889Z"
   },
   {
    "duration": 8,
    "start_time": "2022-11-01T11:36:26.896Z"
   },
   {
    "duration": 29,
    "start_time": "2022-11-01T11:36:26.905Z"
   },
   {
    "duration": 12,
    "start_time": "2022-11-01T11:36:26.935Z"
   },
   {
    "duration": 162,
    "start_time": "2022-11-01T11:36:26.948Z"
   },
   {
    "duration": 21,
    "start_time": "2022-11-01T11:36:27.112Z"
   },
   {
    "duration": 149,
    "start_time": "2022-11-01T11:36:27.134Z"
   },
   {
    "duration": 66,
    "start_time": "2022-11-01T11:36:27.284Z"
   },
   {
    "duration": 46,
    "start_time": "2022-11-01T11:36:27.352Z"
   },
   {
    "duration": 34,
    "start_time": "2022-11-01T11:36:27.400Z"
   },
   {
    "duration": 5,
    "start_time": "2022-11-01T11:36:27.436Z"
   },
   {
    "duration": 52,
    "start_time": "2022-11-01T11:36:27.442Z"
   },
   {
    "duration": 8,
    "start_time": "2022-11-01T11:36:27.495Z"
   },
   {
    "duration": 32,
    "start_time": "2022-11-01T11:36:27.504Z"
   },
   {
    "duration": 348,
    "start_time": "2022-11-01T11:36:27.538Z"
   },
   {
    "duration": 8,
    "start_time": "2022-11-01T11:36:27.888Z"
   },
   {
    "duration": 286,
    "start_time": "2022-11-01T11:36:27.898Z"
   },
   {
    "duration": 10,
    "start_time": "2022-11-01T11:36:28.186Z"
   },
   {
    "duration": 284,
    "start_time": "2022-11-01T11:36:28.198Z"
   },
   {
    "duration": 14,
    "start_time": "2022-11-01T11:36:28.484Z"
   },
   {
    "duration": 36,
    "start_time": "2022-11-01T11:36:28.499Z"
   },
   {
    "duration": 23,
    "start_time": "2022-11-01T11:36:28.538Z"
   },
   {
    "duration": 10,
    "start_time": "2022-11-01T11:36:28.563Z"
   },
   {
    "duration": 17,
    "start_time": "2022-11-01T11:36:28.574Z"
   },
   {
    "duration": 6,
    "start_time": "2022-11-01T11:36:28.593Z"
   },
   {
    "duration": 11,
    "start_time": "2022-11-01T11:36:28.600Z"
   },
   {
    "duration": 36,
    "start_time": "2022-11-01T11:36:28.612Z"
   },
   {
    "duration": 15,
    "start_time": "2022-11-01T11:36:28.650Z"
   },
   {
    "duration": 4,
    "start_time": "2022-11-01T11:36:28.671Z"
   },
   {
    "duration": 26,
    "start_time": "2022-11-01T11:36:28.676Z"
   },
   {
    "duration": 205,
    "start_time": "2022-11-01T11:36:28.703Z"
   },
   {
    "duration": 18,
    "start_time": "2022-11-01T11:36:28.910Z"
   },
   {
    "duration": 42,
    "start_time": "2022-11-01T11:36:28.930Z"
   },
   {
    "duration": 30,
    "start_time": "2022-11-01T11:36:28.974Z"
   },
   {
    "duration": 9,
    "start_time": "2022-11-01T11:36:29.006Z"
   },
   {
    "duration": 24,
    "start_time": "2022-11-01T11:36:29.017Z"
   },
   {
    "duration": 396,
    "start_time": "2022-11-01T11:36:29.043Z"
   },
   {
    "duration": 5,
    "start_time": "2022-11-01T11:36:29.441Z"
   },
   {
    "duration": 7,
    "start_time": "2022-11-01T11:36:29.448Z"
   },
   {
    "duration": 8,
    "start_time": "2022-11-01T11:36:29.456Z"
   },
   {
    "duration": 309,
    "start_time": "2022-11-01T11:36:29.466Z"
   },
   {
    "duration": 8,
    "start_time": "2022-11-01T11:36:29.777Z"
   },
   {
    "duration": 302,
    "start_time": "2022-11-01T11:36:29.786Z"
   },
   {
    "duration": 9,
    "start_time": "2022-11-01T11:36:30.090Z"
   },
   {
    "duration": 308,
    "start_time": "2022-11-01T11:36:30.101Z"
   },
   {
    "duration": 24,
    "start_time": "2022-11-01T11:36:30.410Z"
   },
   {
    "duration": 145,
    "start_time": "2022-11-01T11:36:30.435Z"
   },
   {
    "duration": 10,
    "start_time": "2022-11-01T11:36:30.581Z"
   },
   {
    "duration": 273,
    "start_time": "2022-11-01T11:36:30.592Z"
   },
   {
    "duration": 8,
    "start_time": "2022-11-01T11:36:30.867Z"
   },
   {
    "duration": 185,
    "start_time": "2022-11-01T11:36:30.877Z"
   },
   {
    "duration": 13,
    "start_time": "2022-11-01T11:36:31.064Z"
   },
   {
    "duration": 188,
    "start_time": "2022-11-01T11:36:31.079Z"
   },
   {
    "duration": 8,
    "start_time": "2022-11-01T11:36:31.269Z"
   },
   {
    "duration": 173,
    "start_time": "2022-11-01T11:36:31.278Z"
   },
   {
    "duration": 8,
    "start_time": "2022-11-01T11:36:31.453Z"
   },
   {
    "duration": 679,
    "start_time": "2022-11-01T11:36:31.462Z"
   },
   {
    "duration": 9,
    "start_time": "2022-11-01T11:36:32.142Z"
   },
   {
    "duration": 387,
    "start_time": "2022-11-01T11:36:32.152Z"
   },
   {
    "duration": 129,
    "start_time": "2022-11-01T11:36:32.540Z"
   },
   {
    "duration": 118,
    "start_time": "2022-11-01T11:36:32.670Z"
   },
   {
    "duration": 252,
    "start_time": "2022-11-01T11:36:32.790Z"
   },
   {
    "duration": 9,
    "start_time": "2022-11-01T11:36:33.044Z"
   },
   {
    "duration": 19,
    "start_time": "2022-11-01T11:36:33.055Z"
   },
   {
    "duration": 5,
    "start_time": "2022-11-01T11:36:33.077Z"
   },
   {
    "duration": 297,
    "start_time": "2022-11-01T11:36:33.084Z"
   },
   {
    "duration": 11,
    "start_time": "2022-11-01T11:36:33.383Z"
   },
   {
    "duration": 700,
    "start_time": "2022-11-01T11:36:33.396Z"
   },
   {
    "duration": 4,
    "start_time": "2022-11-01T11:36:34.098Z"
   },
   {
    "duration": 750,
    "start_time": "2022-11-01T11:36:34.104Z"
   },
   {
    "duration": 5,
    "start_time": "2022-11-01T11:36:34.856Z"
   },
   {
    "duration": 681,
    "start_time": "2022-11-01T11:36:34.862Z"
   },
   {
    "duration": 6,
    "start_time": "2022-11-01T11:36:35.545Z"
   },
   {
    "duration": 556,
    "start_time": "2022-11-01T11:36:35.552Z"
   },
   {
    "duration": 513,
    "start_time": "2022-11-01T11:36:36.109Z"
   },
   {
    "duration": 537,
    "start_time": "2022-11-01T11:36:36.624Z"
   },
   {
    "duration": 624,
    "start_time": "2022-11-01T11:36:37.163Z"
   },
   {
    "duration": 547,
    "start_time": "2022-11-01T11:36:37.789Z"
   },
   {
    "duration": 6,
    "start_time": "2022-11-01T11:36:38.338Z"
   },
   {
    "duration": 34,
    "start_time": "2022-11-01T11:36:38.345Z"
   },
   {
    "duration": 5,
    "start_time": "2022-11-01T11:36:38.381Z"
   },
   {
    "duration": 9,
    "start_time": "2022-11-01T11:36:38.388Z"
   },
   {
    "duration": 7,
    "start_time": "2022-11-01T11:36:38.398Z"
   },
   {
    "duration": 212,
    "start_time": "2022-11-01T11:36:38.432Z"
   },
   {
    "duration": 8,
    "start_time": "2022-11-01T11:36:38.646Z"
   },
   {
    "duration": 15,
    "start_time": "2022-11-01T11:36:38.656Z"
   },
   {
    "duration": 11,
    "start_time": "2022-11-01T11:36:38.673Z"
   },
   {
    "duration": 2,
    "start_time": "2022-11-01T11:36:38.686Z"
   },
   {
    "duration": 46,
    "start_time": "2022-11-01T11:36:38.689Z"
   },
   {
    "duration": 227,
    "start_time": "2022-11-01T11:36:38.737Z"
   },
   {
    "duration": 6,
    "start_time": "2022-11-01T11:36:38.966Z"
   },
   {
    "duration": 7,
    "start_time": "2022-11-01T11:36:38.974Z"
   },
   {
    "duration": 4331,
    "start_time": "2022-11-01T11:36:38.983Z"
   },
   {
    "duration": 437,
    "start_time": "2022-11-01T11:36:43.322Z"
   },
   {
    "duration": 1175,
    "start_time": "2022-11-01T11:36:43.760Z"
   },
   {
    "duration": 1165,
    "start_time": "2022-11-03T22:41:21.978Z"
   },
   {
    "duration": 112,
    "start_time": "2022-11-03T22:41:23.146Z"
   },
   {
    "duration": 6,
    "start_time": "2022-11-03T22:41:23.259Z"
   },
   {
    "duration": 27,
    "start_time": "2022-11-03T22:41:23.268Z"
   },
   {
    "duration": 26,
    "start_time": "2022-11-03T22:41:23.297Z"
   },
   {
    "duration": 51,
    "start_time": "2022-11-03T22:41:23.324Z"
   },
   {
    "duration": 1727,
    "start_time": "2022-11-03T22:41:23.377Z"
   },
   {
    "duration": 10,
    "start_time": "2022-11-03T22:41:25.105Z"
   },
   {
    "duration": 6,
    "start_time": "2022-11-03T22:41:25.116Z"
   },
   {
    "duration": 304,
    "start_time": "2022-11-03T22:41:25.124Z"
   },
   {
    "duration": 18,
    "start_time": "2022-11-03T22:41:25.430Z"
   },
   {
    "duration": 4,
    "start_time": "2022-11-03T22:41:25.449Z"
   },
   {
    "duration": 10,
    "start_time": "2022-11-03T22:41:25.454Z"
   },
   {
    "duration": 7,
    "start_time": "2022-11-03T22:41:25.465Z"
   },
   {
    "duration": 10,
    "start_time": "2022-11-03T22:41:25.473Z"
   },
   {
    "duration": 25,
    "start_time": "2022-11-03T22:41:25.484Z"
   },
   {
    "duration": 5,
    "start_time": "2022-11-03T22:41:25.510Z"
   },
   {
    "duration": 7,
    "start_time": "2022-11-03T22:41:25.517Z"
   },
   {
    "duration": 7,
    "start_time": "2022-11-03T22:41:25.526Z"
   },
   {
    "duration": 8,
    "start_time": "2022-11-03T22:41:25.535Z"
   },
   {
    "duration": 5,
    "start_time": "2022-11-03T22:41:25.544Z"
   },
   {
    "duration": 3,
    "start_time": "2022-11-03T22:41:25.551Z"
   },
   {
    "duration": 4,
    "start_time": "2022-11-03T22:41:25.555Z"
   },
   {
    "duration": 15,
    "start_time": "2022-11-03T22:41:25.560Z"
   },
   {
    "duration": 38,
    "start_time": "2022-11-03T22:41:25.576Z"
   },
   {
    "duration": 13,
    "start_time": "2022-11-03T22:41:25.616Z"
   },
   {
    "duration": 166,
    "start_time": "2022-11-03T22:41:25.631Z"
   },
   {
    "duration": 1328,
    "start_time": "2022-11-03T22:41:25.800Z"
   },
   {
    "duration": 149,
    "start_time": "2022-11-03T22:41:27.130Z"
   },
   {
    "duration": 2,
    "start_time": "2022-11-03T22:41:27.281Z"
   },
   {
    "duration": 9,
    "start_time": "2022-11-03T22:41:27.284Z"
   },
   {
    "duration": 157,
    "start_time": "2022-11-03T22:41:27.294Z"
   },
   {
    "duration": 8,
    "start_time": "2022-11-03T22:41:27.453Z"
   },
   {
    "duration": 9,
    "start_time": "2022-11-03T22:41:27.462Z"
   },
   {
    "duration": 10,
    "start_time": "2022-11-03T22:41:27.472Z"
   },
   {
    "duration": 26,
    "start_time": "2022-11-03T22:41:27.483Z"
   },
   {
    "duration": 155,
    "start_time": "2022-11-03T22:41:27.511Z"
   },
   {
    "duration": 144,
    "start_time": "2022-11-03T22:41:27.668Z"
   },
   {
    "duration": 4,
    "start_time": "2022-11-03T22:41:27.814Z"
   },
   {
    "duration": 11,
    "start_time": "2022-11-03T22:41:27.820Z"
   },
   {
    "duration": 9,
    "start_time": "2022-11-03T22:41:27.832Z"
   },
   {
    "duration": 21,
    "start_time": "2022-11-03T22:41:27.843Z"
   },
   {
    "duration": 9,
    "start_time": "2022-11-03T22:41:27.865Z"
   },
   {
    "duration": 6,
    "start_time": "2022-11-03T22:41:27.875Z"
   },
   {
    "duration": 71,
    "start_time": "2022-11-03T22:41:27.909Z"
   },
   {
    "duration": 7,
    "start_time": "2022-11-03T22:41:27.982Z"
   },
   {
    "duration": 19,
    "start_time": "2022-11-03T22:41:27.991Z"
   },
   {
    "duration": 9,
    "start_time": "2022-11-03T22:41:28.011Z"
   },
   {
    "duration": 5,
    "start_time": "2022-11-03T22:41:28.021Z"
   },
   {
    "duration": 165,
    "start_time": "2022-11-03T22:41:28.028Z"
   },
   {
    "duration": 18,
    "start_time": "2022-11-03T22:41:28.194Z"
   },
   {
    "duration": 7,
    "start_time": "2022-11-03T22:41:28.214Z"
   },
   {
    "duration": 7,
    "start_time": "2022-11-03T22:41:28.223Z"
   },
   {
    "duration": 14,
    "start_time": "2022-11-03T22:41:28.231Z"
   },
   {
    "duration": 15,
    "start_time": "2022-11-03T22:41:28.246Z"
   },
   {
    "duration": 7,
    "start_time": "2022-11-03T22:41:28.263Z"
   },
   {
    "duration": 162,
    "start_time": "2022-11-03T22:41:28.271Z"
   },
   {
    "duration": 5,
    "start_time": "2022-11-03T22:41:28.434Z"
   },
   {
    "duration": 145,
    "start_time": "2022-11-03T22:41:28.440Z"
   },
   {
    "duration": 75,
    "start_time": "2022-11-03T22:41:28.586Z"
   },
   {
    "duration": 57,
    "start_time": "2022-11-03T22:41:28.662Z"
   },
   {
    "duration": 11,
    "start_time": "2022-11-03T22:41:28.721Z"
   },
   {
    "duration": 5,
    "start_time": "2022-11-03T22:41:28.733Z"
   },
   {
    "duration": 71,
    "start_time": "2022-11-03T22:41:28.739Z"
   },
   {
    "duration": 8,
    "start_time": "2022-11-03T22:41:28.811Z"
   },
   {
    "duration": 14,
    "start_time": "2022-11-03T22:41:28.820Z"
   },
   {
    "duration": 350,
    "start_time": "2022-11-03T22:41:28.836Z"
   },
   {
    "duration": 8,
    "start_time": "2022-11-03T22:41:29.187Z"
   },
   {
    "duration": 256,
    "start_time": "2022-11-03T22:41:29.196Z"
   },
   {
    "duration": 10,
    "start_time": "2022-11-03T22:41:29.454Z"
   },
   {
    "duration": 269,
    "start_time": "2022-11-03T22:41:29.466Z"
   },
   {
    "duration": 16,
    "start_time": "2022-11-03T22:41:29.736Z"
   },
   {
    "duration": 9,
    "start_time": "2022-11-03T22:41:29.753Z"
   },
   {
    "duration": 11,
    "start_time": "2022-11-03T22:41:29.763Z"
   },
   {
    "duration": 34,
    "start_time": "2022-11-03T22:41:29.776Z"
   },
   {
    "duration": 11,
    "start_time": "2022-11-03T22:41:29.811Z"
   },
   {
    "duration": 6,
    "start_time": "2022-11-03T22:41:29.824Z"
   },
   {
    "duration": 6,
    "start_time": "2022-11-03T22:41:29.832Z"
   },
   {
    "duration": 13,
    "start_time": "2022-11-03T22:41:29.840Z"
   },
   {
    "duration": 13,
    "start_time": "2022-11-03T22:41:29.855Z"
   },
   {
    "duration": 3,
    "start_time": "2022-11-03T22:41:29.869Z"
   },
   {
    "duration": 16,
    "start_time": "2022-11-03T22:41:29.914Z"
   },
   {
    "duration": 188,
    "start_time": "2022-11-03T22:41:29.931Z"
   },
   {
    "duration": 187,
    "start_time": "2022-11-03T22:41:30.121Z"
   },
   {
    "duration": 17,
    "start_time": "2022-11-03T22:41:30.310Z"
   },
   {
    "duration": 36,
    "start_time": "2022-11-03T22:41:30.329Z"
   },
   {
    "duration": 20,
    "start_time": "2022-11-03T22:41:30.367Z"
   },
   {
    "duration": 11,
    "start_time": "2022-11-03T22:41:30.389Z"
   },
   {
    "duration": 19,
    "start_time": "2022-11-03T22:41:30.402Z"
   },
   {
    "duration": 252,
    "start_time": "2022-11-03T22:41:30.423Z"
   },
   {
    "duration": 11,
    "start_time": "2022-11-03T22:41:30.677Z"
   },
   {
    "duration": 11,
    "start_time": "2022-11-03T22:41:30.689Z"
   },
   {
    "duration": 9,
    "start_time": "2022-11-03T22:41:30.702Z"
   },
   {
    "duration": 11,
    "start_time": "2022-11-03T22:41:30.713Z"
   },
   {
    "duration": 6,
    "start_time": "2022-11-03T22:41:30.725Z"
   },
   {
    "duration": 17,
    "start_time": "2022-11-03T22:41:30.732Z"
   },
   {
    "duration": 10,
    "start_time": "2022-11-03T22:41:30.751Z"
   },
   {
    "duration": 302,
    "start_time": "2022-11-03T22:41:30.763Z"
   },
   {
    "duration": 5,
    "start_time": "2022-11-03T22:41:31.067Z"
   },
   {
    "duration": 20,
    "start_time": "2022-11-03T22:41:31.074Z"
   },
   {
    "duration": 14,
    "start_time": "2022-11-03T22:41:31.095Z"
   },
   {
    "duration": 286,
    "start_time": "2022-11-03T22:41:31.111Z"
   },
   {
    "duration": 14,
    "start_time": "2022-11-03T22:41:31.398Z"
   },
   {
    "duration": 277,
    "start_time": "2022-11-03T22:41:31.413Z"
   },
   {
    "duration": 18,
    "start_time": "2022-11-03T22:41:31.692Z"
   },
   {
    "duration": 355,
    "start_time": "2022-11-03T22:41:31.711Z"
   },
   {
    "duration": 8,
    "start_time": "2022-11-03T22:41:32.068Z"
   },
   {
    "duration": 154,
    "start_time": "2022-11-03T22:41:32.078Z"
   },
   {
    "duration": 10,
    "start_time": "2022-11-03T22:41:32.234Z"
   },
   {
    "duration": 185,
    "start_time": "2022-11-03T22:41:32.246Z"
   },
   {
    "duration": 8,
    "start_time": "2022-11-03T22:41:32.433Z"
   },
   {
    "duration": 148,
    "start_time": "2022-11-03T22:41:32.442Z"
   },
   {
    "duration": 8,
    "start_time": "2022-11-03T22:41:32.592Z"
   },
   {
    "duration": 116,
    "start_time": "2022-11-03T22:41:32.601Z"
   },
   {
    "duration": 8,
    "start_time": "2022-11-03T22:41:32.718Z"
   },
   {
    "duration": 168,
    "start_time": "2022-11-03T22:41:32.728Z"
   },
   {
    "duration": 17,
    "start_time": "2022-11-03T22:41:32.898Z"
   },
   {
    "duration": 707,
    "start_time": "2022-11-03T22:41:32.917Z"
   },
   {
    "duration": 10,
    "start_time": "2022-11-03T22:41:33.625Z"
   },
   {
    "duration": 286,
    "start_time": "2022-11-03T22:41:33.636Z"
   },
   {
    "duration": 121,
    "start_time": "2022-11-03T22:41:33.923Z"
   },
   {
    "duration": 114,
    "start_time": "2022-11-03T22:41:34.046Z"
   },
   {
    "duration": 223,
    "start_time": "2022-11-03T22:41:34.162Z"
   },
   {
    "duration": 11,
    "start_time": "2022-11-03T22:41:34.386Z"
   },
   {
    "duration": 29,
    "start_time": "2022-11-03T22:41:34.399Z"
   },
   {
    "duration": 4,
    "start_time": "2022-11-03T22:41:34.431Z"
   },
   {
    "duration": 34,
    "start_time": "2022-11-03T22:41:34.437Z"
   },
   {
    "duration": 18,
    "start_time": "2022-11-03T22:41:34.473Z"
   },
   {
    "duration": 795,
    "start_time": "2022-11-03T22:41:34.494Z"
   },
   {
    "duration": 5,
    "start_time": "2022-11-03T22:41:35.291Z"
   },
   {
    "duration": 657,
    "start_time": "2022-11-03T22:41:35.298Z"
   },
   {
    "duration": 6,
    "start_time": "2022-11-03T22:41:35.956Z"
   },
   {
    "duration": 686,
    "start_time": "2022-11-03T22:41:35.963Z"
   },
   {
    "duration": 6,
    "start_time": "2022-11-03T22:41:36.650Z"
   },
   {
    "duration": 527,
    "start_time": "2022-11-03T22:41:36.658Z"
   },
   {
    "duration": 573,
    "start_time": "2022-11-03T22:41:37.186Z"
   },
   {
    "duration": 506,
    "start_time": "2022-11-03T22:41:37.761Z"
   },
   {
    "duration": 506,
    "start_time": "2022-11-03T22:41:38.269Z"
   },
   {
    "duration": 508,
    "start_time": "2022-11-03T22:41:38.777Z"
   },
   {
    "duration": 7,
    "start_time": "2022-11-03T22:41:39.287Z"
   },
   {
    "duration": 54,
    "start_time": "2022-11-03T22:41:39.295Z"
   },
   {
    "duration": 6,
    "start_time": "2022-11-03T22:41:39.350Z"
   },
   {
    "duration": 14,
    "start_time": "2022-11-03T22:41:39.357Z"
   },
   {
    "duration": 8,
    "start_time": "2022-11-03T22:41:39.373Z"
   },
   {
    "duration": 228,
    "start_time": "2022-11-03T22:41:39.382Z"
   },
   {
    "duration": 9,
    "start_time": "2022-11-03T22:41:39.611Z"
   },
   {
    "duration": 21,
    "start_time": "2022-11-03T22:41:39.622Z"
   },
   {
    "duration": 22,
    "start_time": "2022-11-03T22:41:39.644Z"
   },
   {
    "duration": 48,
    "start_time": "2022-11-03T22:41:39.667Z"
   },
   {
    "duration": 14,
    "start_time": "2022-11-03T22:41:39.716Z"
   },
   {
    "duration": 3,
    "start_time": "2022-11-03T22:41:39.732Z"
   },
   {
    "duration": 28,
    "start_time": "2022-11-03T22:41:39.737Z"
   },
   {
    "duration": 195,
    "start_time": "2022-11-03T22:41:39.766Z"
   },
   {
    "duration": 174,
    "start_time": "2022-11-03T22:41:39.962Z"
   },
   {
    "duration": 5,
    "start_time": "2022-11-03T22:41:40.137Z"
   },
   {
    "duration": 6,
    "start_time": "2022-11-03T22:41:40.143Z"
   },
   {
    "duration": 3227,
    "start_time": "2022-11-03T22:41:40.150Z"
   },
   {
    "duration": 560,
    "start_time": "2022-11-03T22:41:43.378Z"
   },
   {
    "duration": 1071,
    "start_time": "2022-11-03T22:41:43.940Z"
   },
   {
    "duration": 17,
    "start_time": "2022-11-03T22:44:41.167Z"
   },
   {
    "duration": 16,
    "start_time": "2022-11-03T22:46:41.755Z"
   },
   {
    "duration": 1138,
    "start_time": "2022-11-03T22:51:00.816Z"
   },
   {
    "duration": 108,
    "start_time": "2022-11-03T22:51:01.956Z"
   },
   {
    "duration": 5,
    "start_time": "2022-11-03T22:51:02.065Z"
   },
   {
    "duration": 29,
    "start_time": "2022-11-03T22:51:02.072Z"
   },
   {
    "duration": 37,
    "start_time": "2022-11-03T22:51:02.103Z"
   },
   {
    "duration": 61,
    "start_time": "2022-11-03T22:51:02.142Z"
   },
   {
    "duration": 1709,
    "start_time": "2022-11-03T22:51:02.204Z"
   },
   {
    "duration": 9,
    "start_time": "2022-11-03T22:51:03.914Z"
   },
   {
    "duration": 30,
    "start_time": "2022-11-03T22:51:03.924Z"
   },
   {
    "duration": 312,
    "start_time": "2022-11-03T22:51:03.956Z"
   },
   {
    "duration": 19,
    "start_time": "2022-11-03T22:51:04.270Z"
   },
   {
    "duration": 28,
    "start_time": "2022-11-03T22:51:04.291Z"
   },
   {
    "duration": 9,
    "start_time": "2022-11-03T22:51:04.321Z"
   },
   {
    "duration": 13,
    "start_time": "2022-11-03T22:51:04.332Z"
   },
   {
    "duration": 21,
    "start_time": "2022-11-03T22:51:04.346Z"
   },
   {
    "duration": 21,
    "start_time": "2022-11-03T22:51:04.369Z"
   },
   {
    "duration": 37,
    "start_time": "2022-11-03T22:51:04.392Z"
   },
   {
    "duration": 34,
    "start_time": "2022-11-03T22:51:04.431Z"
   },
   {
    "duration": 13,
    "start_time": "2022-11-03T22:51:04.467Z"
   },
   {
    "duration": 17,
    "start_time": "2022-11-03T22:51:04.482Z"
   },
   {
    "duration": 25,
    "start_time": "2022-11-03T22:51:04.500Z"
   },
   {
    "duration": 12,
    "start_time": "2022-11-03T22:51:04.527Z"
   },
   {
    "duration": 20,
    "start_time": "2022-11-03T22:51:04.540Z"
   },
   {
    "duration": 35,
    "start_time": "2022-11-03T22:51:04.562Z"
   },
   {
    "duration": 18,
    "start_time": "2022-11-03T22:51:04.598Z"
   },
   {
    "duration": 12,
    "start_time": "2022-11-03T22:51:04.617Z"
   },
   {
    "duration": 168,
    "start_time": "2022-11-03T22:51:04.630Z"
   },
   {
    "duration": 1286,
    "start_time": "2022-11-03T22:51:04.802Z"
   },
   {
    "duration": 156,
    "start_time": "2022-11-03T22:51:06.089Z"
   },
   {
    "duration": 3,
    "start_time": "2022-11-03T22:51:06.247Z"
   },
   {
    "duration": 9,
    "start_time": "2022-11-03T22:51:06.254Z"
   },
   {
    "duration": 155,
    "start_time": "2022-11-03T22:51:06.264Z"
   },
   {
    "duration": 8,
    "start_time": "2022-11-03T22:51:06.420Z"
   },
   {
    "duration": 10,
    "start_time": "2022-11-03T22:51:06.429Z"
   },
   {
    "duration": 10,
    "start_time": "2022-11-03T22:51:06.441Z"
   },
   {
    "duration": 4,
    "start_time": "2022-11-03T22:51:06.452Z"
   },
   {
    "duration": 167,
    "start_time": "2022-11-03T22:51:06.457Z"
   },
   {
    "duration": 140,
    "start_time": "2022-11-03T22:51:06.625Z"
   },
   {
    "duration": 4,
    "start_time": "2022-11-03T22:51:06.766Z"
   },
   {
    "duration": 4,
    "start_time": "2022-11-03T22:51:06.772Z"
   },
   {
    "duration": 11,
    "start_time": "2022-11-03T22:51:06.777Z"
   },
   {
    "duration": 37,
    "start_time": "2022-11-03T22:51:06.789Z"
   },
   {
    "duration": 8,
    "start_time": "2022-11-03T22:51:06.827Z"
   },
   {
    "duration": 7,
    "start_time": "2022-11-03T22:51:06.837Z"
   },
   {
    "duration": 90,
    "start_time": "2022-11-03T22:51:06.846Z"
   },
   {
    "duration": 8,
    "start_time": "2022-11-03T22:51:06.937Z"
   },
   {
    "duration": 7,
    "start_time": "2022-11-03T22:51:06.947Z"
   },
   {
    "duration": 13,
    "start_time": "2022-11-03T22:51:06.955Z"
   },
   {
    "duration": 3,
    "start_time": "2022-11-03T22:51:06.970Z"
   },
   {
    "duration": 170,
    "start_time": "2022-11-03T22:51:06.975Z"
   },
   {
    "duration": 8,
    "start_time": "2022-11-03T22:51:07.146Z"
   },
   {
    "duration": 9,
    "start_time": "2022-11-03T22:51:07.156Z"
   },
   {
    "duration": 2,
    "start_time": "2022-11-03T22:51:07.167Z"
   },
   {
    "duration": 8,
    "start_time": "2022-11-03T22:51:07.171Z"
   },
   {
    "duration": 35,
    "start_time": "2022-11-03T22:51:07.181Z"
   },
   {
    "duration": 8,
    "start_time": "2022-11-03T22:51:07.218Z"
   },
   {
    "duration": 171,
    "start_time": "2022-11-03T22:51:07.228Z"
   },
   {
    "duration": 9,
    "start_time": "2022-11-03T22:51:07.400Z"
   },
   {
    "duration": 142,
    "start_time": "2022-11-03T22:51:07.411Z"
   },
   {
    "duration": 71,
    "start_time": "2022-11-03T22:51:07.555Z"
   },
   {
    "duration": 59,
    "start_time": "2022-11-03T22:51:07.627Z"
   },
   {
    "duration": 25,
    "start_time": "2022-11-03T22:51:07.688Z"
   },
   {
    "duration": 5,
    "start_time": "2022-11-03T22:51:07.714Z"
   },
   {
    "duration": 52,
    "start_time": "2022-11-03T22:51:07.720Z"
   },
   {
    "duration": 8,
    "start_time": "2022-11-03T22:51:07.773Z"
   },
   {
    "duration": 35,
    "start_time": "2022-11-03T22:51:07.782Z"
   },
   {
    "duration": 338,
    "start_time": "2022-11-03T22:51:07.819Z"
   },
   {
    "duration": 8,
    "start_time": "2022-11-03T22:51:08.158Z"
   },
   {
    "duration": 261,
    "start_time": "2022-11-03T22:51:08.167Z"
   },
   {
    "duration": 11,
    "start_time": "2022-11-03T22:51:08.430Z"
   },
   {
    "duration": 270,
    "start_time": "2022-11-03T22:51:08.442Z"
   },
   {
    "duration": 15,
    "start_time": "2022-11-03T22:51:08.713Z"
   },
   {
    "duration": 8,
    "start_time": "2022-11-03T22:51:08.729Z"
   },
   {
    "duration": 11,
    "start_time": "2022-11-03T22:51:08.739Z"
   },
   {
    "duration": 10,
    "start_time": "2022-11-03T22:51:08.752Z"
   },
   {
    "duration": 10,
    "start_time": "2022-11-03T22:51:08.764Z"
   },
   {
    "duration": 39,
    "start_time": "2022-11-03T22:51:08.776Z"
   },
   {
    "duration": 8,
    "start_time": "2022-11-03T22:51:08.816Z"
   },
   {
    "duration": 15,
    "start_time": "2022-11-03T22:51:08.825Z"
   },
   {
    "duration": 14,
    "start_time": "2022-11-03T22:51:08.841Z"
   },
   {
    "duration": 3,
    "start_time": "2022-11-03T22:51:08.856Z"
   },
   {
    "duration": 49,
    "start_time": "2022-11-03T22:51:08.866Z"
   },
   {
    "duration": 182,
    "start_time": "2022-11-03T22:51:08.917Z"
   },
   {
    "duration": 165,
    "start_time": "2022-11-03T22:51:09.101Z"
   },
   {
    "duration": 12,
    "start_time": "2022-11-03T22:51:09.268Z"
   },
   {
    "duration": 7,
    "start_time": "2022-11-03T22:51:09.282Z"
   },
   {
    "duration": 262,
    "start_time": "2022-11-03T22:51:09.290Z"
   },
   {
    "duration": 13,
    "start_time": "2022-11-03T22:51:09.553Z"
   },
   {
    "duration": 7,
    "start_time": "2022-11-03T22:51:09.568Z"
   },
   {
    "duration": 10,
    "start_time": "2022-11-03T22:51:09.576Z"
   },
   {
    "duration": 190,
    "start_time": "2022-11-03T22:51:09.587Z"
   },
   {
    "duration": 10,
    "start_time": "2022-11-03T22:51:09.778Z"
   },
   {
    "duration": 3,
    "start_time": "2022-11-03T22:51:09.790Z"
   },
   {
    "duration": 15,
    "start_time": "2022-11-03T22:51:09.794Z"
   },
   {
    "duration": 7,
    "start_time": "2022-11-03T22:51:09.811Z"
   },
   {
    "duration": 5,
    "start_time": "2022-11-03T22:51:09.819Z"
   },
   {
    "duration": 5,
    "start_time": "2022-11-03T22:51:09.825Z"
   },
   {
    "duration": 9,
    "start_time": "2022-11-03T22:51:09.832Z"
   },
   {
    "duration": 312,
    "start_time": "2022-11-03T22:51:09.843Z"
   },
   {
    "duration": 5,
    "start_time": "2022-11-03T22:51:10.157Z"
   },
   {
    "duration": 6,
    "start_time": "2022-11-03T22:51:10.164Z"
   },
   {
    "duration": 20,
    "start_time": "2022-11-03T22:51:10.171Z"
   },
   {
    "duration": 286,
    "start_time": "2022-11-03T22:51:10.192Z"
   },
   {
    "duration": 8,
    "start_time": "2022-11-03T22:51:10.479Z"
   },
   {
    "duration": 273,
    "start_time": "2022-11-03T22:51:10.489Z"
   },
   {
    "duration": 9,
    "start_time": "2022-11-03T22:51:10.763Z"
   },
   {
    "duration": 371,
    "start_time": "2022-11-03T22:51:10.773Z"
   },
   {
    "duration": 8,
    "start_time": "2022-11-03T22:51:11.145Z"
   },
   {
    "duration": 147,
    "start_time": "2022-11-03T22:51:11.154Z"
   },
   {
    "duration": 13,
    "start_time": "2022-11-03T22:51:11.302Z"
   },
   {
    "duration": 178,
    "start_time": "2022-11-03T22:51:11.317Z"
   },
   {
    "duration": 13,
    "start_time": "2022-11-03T22:51:11.497Z"
   },
   {
    "duration": 160,
    "start_time": "2022-11-03T22:51:11.512Z"
   },
   {
    "duration": 9,
    "start_time": "2022-11-03T22:51:11.673Z"
   },
   {
    "duration": 114,
    "start_time": "2022-11-03T22:51:11.684Z"
   },
   {
    "duration": 8,
    "start_time": "2022-11-03T22:51:11.809Z"
   },
   {
    "duration": 169,
    "start_time": "2022-11-03T22:51:11.819Z"
   },
   {
    "duration": 9,
    "start_time": "2022-11-03T22:51:11.989Z"
   },
   {
    "duration": 708,
    "start_time": "2022-11-03T22:51:11.999Z"
   },
   {
    "duration": 9,
    "start_time": "2022-11-03T22:51:12.708Z"
   },
   {
    "duration": 284,
    "start_time": "2022-11-03T22:51:12.718Z"
   },
   {
    "duration": 121,
    "start_time": "2022-11-03T22:51:13.008Z"
   },
   {
    "duration": 112,
    "start_time": "2022-11-03T22:51:13.131Z"
   },
   {
    "duration": 219,
    "start_time": "2022-11-03T22:51:13.244Z"
   },
   {
    "duration": 8,
    "start_time": "2022-11-03T22:51:13.465Z"
   },
   {
    "duration": 28,
    "start_time": "2022-11-03T22:51:13.474Z"
   },
   {
    "duration": 7,
    "start_time": "2022-11-03T22:51:13.503Z"
   },
   {
    "duration": 7,
    "start_time": "2022-11-03T22:51:13.512Z"
   },
   {
    "duration": 14,
    "start_time": "2022-11-03T22:51:13.521Z"
   },
   {
    "duration": 758,
    "start_time": "2022-11-03T22:51:13.537Z"
   },
   {
    "duration": 12,
    "start_time": "2022-11-03T22:51:14.297Z"
   },
   {
    "duration": 645,
    "start_time": "2022-11-03T22:51:14.311Z"
   },
   {
    "duration": 5,
    "start_time": "2022-11-03T22:51:14.958Z"
   },
   {
    "duration": 646,
    "start_time": "2022-11-03T22:51:14.964Z"
   },
   {
    "duration": 4,
    "start_time": "2022-11-03T22:51:15.612Z"
   },
   {
    "duration": 579,
    "start_time": "2022-11-03T22:51:15.618Z"
   },
   {
    "duration": 505,
    "start_time": "2022-11-03T22:51:16.199Z"
   },
   {
    "duration": 496,
    "start_time": "2022-11-03T22:51:16.705Z"
   },
   {
    "duration": 514,
    "start_time": "2022-11-03T22:51:17.202Z"
   },
   {
    "duration": 500,
    "start_time": "2022-11-03T22:51:17.718Z"
   },
   {
    "duration": 5,
    "start_time": "2022-11-03T22:51:18.220Z"
   },
   {
    "duration": 43,
    "start_time": "2022-11-03T22:51:18.226Z"
   },
   {
    "duration": 6,
    "start_time": "2022-11-03T22:51:18.270Z"
   },
   {
    "duration": 13,
    "start_time": "2022-11-03T22:51:18.278Z"
   },
   {
    "duration": 17,
    "start_time": "2022-11-03T22:51:18.293Z"
   },
   {
    "duration": 224,
    "start_time": "2022-11-03T22:51:18.311Z"
   },
   {
    "duration": 9,
    "start_time": "2022-11-03T22:51:18.536Z"
   },
   {
    "duration": 16,
    "start_time": "2022-11-03T22:51:18.546Z"
   },
   {
    "duration": 20,
    "start_time": "2022-11-03T22:51:18.563Z"
   },
   {
    "duration": 43,
    "start_time": "2022-11-03T22:51:18.584Z"
   },
   {
    "duration": 13,
    "start_time": "2022-11-03T22:51:18.629Z"
   },
   {
    "duration": 4,
    "start_time": "2022-11-03T22:51:18.644Z"
   },
   {
    "duration": 23,
    "start_time": "2022-11-03T22:51:18.649Z"
   },
   {
    "duration": 198,
    "start_time": "2022-11-03T22:51:18.673Z"
   },
   {
    "duration": 173,
    "start_time": "2022-11-03T22:51:18.872Z"
   },
   {
    "duration": 6,
    "start_time": "2022-11-03T22:51:19.046Z"
   },
   {
    "duration": 6,
    "start_time": "2022-11-03T22:51:19.053Z"
   },
   {
    "duration": 3363,
    "start_time": "2022-11-03T22:51:19.061Z"
   },
   {
    "duration": 447,
    "start_time": "2022-11-03T22:51:22.426Z"
   },
   {
    "duration": 1049,
    "start_time": "2022-11-03T22:51:22.874Z"
   }
  ],
  "kernelspec": {
   "display_name": "Python 3 (ipykernel)",
   "language": "python",
   "name": "python3"
  },
  "language_info": {
   "codemirror_mode": {
    "name": "ipython",
    "version": 3
   },
   "file_extension": ".py",
   "mimetype": "text/x-python",
   "name": "python",
   "nbconvert_exporter": "python",
   "pygments_lexer": "ipython3",
   "version": "3.9.13"
  },
  "toc": {
   "base_numbering": 1,
   "nav_menu": {},
   "number_sections": true,
   "sideBar": true,
   "skip_h1_title": true,
   "title_cell": "Table of Contents",
   "title_sidebar": "Contents",
   "toc_cell": false,
   "toc_position": {
    "height": "47.3px",
    "left": "1266.2px",
    "top": "49px",
    "width": "160.2px"
   },
   "toc_section_display": true,
   "toc_window_display": true
  }
 },
 "nbformat": 4,
 "nbformat_minor": 2
}
